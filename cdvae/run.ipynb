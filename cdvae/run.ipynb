{
 "cells": [
  {
   "cell_type": "code",
   "execution_count": 8,
   "metadata": {},
   "outputs": [],
   "source": [
    "import random\n",
    "from typing import Optional, Sequence\n",
    "from pathlib import Path\n",
    "import hydra\n",
    "import numpy as np\n",
    "import torch\n",
    "import pytorch_lightning as pl\n",
    "from omegaconf import DictConfig\n",
    "from torch.utils.data import Dataset\n",
    "from torch_geometric.data import DataLoader\n",
    "from cdvae.common.utils import log_hyperparameters, PROJECT_ROOT\n",
    "from cdvae.common.data_utils import get_scaler_from_data_list\n",
    "from typing import List\n",
    "import pytorch_lightning as pl\n",
    "from hydra.core.hydra_config import HydraConfig\n",
    "from omegaconf import DictConfig, OmegaConf\n",
    "from pytorch_lightning import seed_everything, Callback\n",
    "from pytorch_lightning.callbacks import (\n",
    "    EarlyStopping,\n",
    "    LearningRateMonitor,\n",
    "    ModelCheckpoint,\n",
    ")\n",
    "from pytorch_lightning.loggers import WandbLogger\n",
    "\n",
    "\n",
    "def worker_init_fn(id: int):\n",
    "    \"\"\"\n",
    "    DataLoaders workers init function.\n",
    "\n",
    "    Initialize the numpy.random seed correctly for each worker, so that\n",
    "    random augmentations between workers and/or epochs are not identical.\n",
    "\n",
    "    If a global seed is set, the augmentations are deterministic.\n",
    "\n",
    "    https://pytorch.org/docs/stable/notes/randomness.html#dataloader\n",
    "    \"\"\"\n",
    "    uint64_seed = torch.initial_seed()\n",
    "    ss = np.random.SeedSequence([uint64_seed])\n",
    "    # More than 128 bits (4 32-bit words) would be overkill.\n",
    "    np.random.seed(ss.generate_state(4))\n",
    "    random.seed(uint64_seed)\n",
    "\n",
    "\n",
    "class CrystDataModule(pl.LightningDataModule):\n",
    "    def __init__(\n",
    "        self,\n",
    "        datasets: DictConfig,\n",
    "        num_workers: DictConfig,\n",
    "        batch_size: DictConfig,\n",
    "        scaler_path=None,\n",
    "    ):\n",
    "        super().__init__()\n",
    "        self.datasets = datasets\n",
    "        self.num_workers = num_workers\n",
    "        self.batch_size = batch_size\n",
    "\n",
    "        self.train_dataset: Optional[Dataset] = None\n",
    "        self.val_datasets: Optional[Sequence[Dataset]] = None\n",
    "        self.test_datasets: Optional[Sequence[Dataset]] = None\n",
    "\n",
    "        self.get_scaler(scaler_path)\n",
    "\n",
    "    def prepare_data(self) -> None:\n",
    "        # download only\n",
    "        pass\n",
    "\n",
    "    def get_scaler(self, scaler_path):\n",
    "        # Load once to compute property scaler\n",
    "        if scaler_path is None:\n",
    "            train_dataset = hydra.utils.instantiate(self.datasets.train)\n",
    "            self.lattice_scaler = get_scaler_from_data_list(\n",
    "                train_dataset.cached_data,\n",
    "                key='scaled_lattice')\n",
    "            self.scaler = get_scaler_from_data_list(\n",
    "                train_dataset.cached_data,\n",
    "                key=train_dataset.prop)\n",
    "        else:\n",
    "            self.lattice_scaler = torch.load(\n",
    "                Path(scaler_path) / 'lattice_scaler.pt')\n",
    "            self.scaler = torch.load(Path(scaler_path) / 'prop_scaler.pt')\n",
    "\n",
    "    def setup(self, stage: Optional[str] = None):\n",
    "        \"\"\"\n",
    "        construct datasets and assign data scalers.\n",
    "        \"\"\"\n",
    "        if stage is None or stage == \"fit\":\n",
    "            self.train_dataset = hydra.utils.instantiate(self.datasets.train)\n",
    "            self.val_datasets = [\n",
    "                hydra.utils.instantiate(dataset_cfg)\n",
    "                for dataset_cfg in self.datasets.val\n",
    "            ]\n",
    "\n",
    "            self.train_dataset.lattice_scaler = self.lattice_scaler\n",
    "            self.train_dataset.scaler = self.scaler\n",
    "            for val_dataset in self.val_datasets:\n",
    "                val_dataset.lattice_scaler = self.lattice_scaler\n",
    "                val_dataset.scaler = self.scaler\n",
    "\n",
    "        if stage is None or stage == \"test\":\n",
    "            self.test_datasets = [\n",
    "                hydra.utils.instantiate(dataset_cfg)\n",
    "                for dataset_cfg in self.datasets.test\n",
    "            ]\n",
    "            for test_dataset in self.test_datasets:\n",
    "                test_dataset.lattice_scaler = self.lattice_scaler\n",
    "                test_dataset.scaler = self.scaler\n",
    "\n",
    "    def train_dataloader(self) -> DataLoader:\n",
    "        return DataLoader(\n",
    "            self.train_dataset,\n",
    "            shuffle=True,\n",
    "            batch_size=self.batch_size.train,\n",
    "            num_workers=self.num_workers.train,\n",
    "            worker_init_fn=worker_init_fn,\n",
    "        )\n",
    "\n",
    "    def val_dataloader(self) -> Sequence[DataLoader]:\n",
    "        return [\n",
    "            DataLoader(\n",
    "                dataset,\n",
    "                shuffle=False,\n",
    "                batch_size=self.batch_size.val,\n",
    "                num_workers=self.num_workers.val,\n",
    "                worker_init_fn=worker_init_fn,\n",
    "            )\n",
    "            for dataset in self.val_datasets\n",
    "        ]\n",
    "\n",
    "    def test_dataloader(self) -> Sequence[DataLoader]:\n",
    "        return [\n",
    "            DataLoader(\n",
    "                dataset,\n",
    "                shuffle=False,\n",
    "                batch_size=self.batch_size.test,\n",
    "                num_workers=self.num_workers.test,\n",
    "                worker_init_fn=worker_init_fn,\n",
    "            )\n",
    "            for dataset in self.test_datasets\n",
    "        ]\n",
    "\n",
    "    def __repr__(self) -> str:\n",
    "        return (\n",
    "            f\"{self.__class__.__name__}(\"\n",
    "            f\"{self.datasets=}, \"\n",
    "            f\"{self.num_workers=}, \"\n",
    "            f\"{self.batch_size=})\"\n",
    "        )\n",
    "\n",
    "def build_callbacks(cfg: DictConfig) -> List[Callback]:\n",
    "    callbacks: List[Callback] = []\n",
    "\n",
    "    if \"lr_monitor\" in cfg.logging:\n",
    "        hydra.utils.log.info(\"Adding callback <LearningRateMonitor>\")\n",
    "        callbacks.append(\n",
    "            LearningRateMonitor(\n",
    "                logging_interval=cfg.logging.lr_monitor.logging_interval,\n",
    "                log_momentum=cfg.logging.lr_monitor.log_momentum,\n",
    "            )\n",
    "        )\n",
    "\n",
    "    if \"early_stopping\" in cfg.train:\n",
    "        hydra.utils.log.info(\"Adding callback <EarlyStopping>\")\n",
    "        callbacks.append(\n",
    "            EarlyStopping(\n",
    "                monitor=cfg.train.monitor_metric,\n",
    "                mode=cfg.train.monitor_metric_mode,\n",
    "                patience=cfg.train.early_stopping.patience,\n",
    "                verbose=cfg.train.early_stopping.verbose,\n",
    "            )\n",
    "        )\n",
    "\n",
    "    if \"model_checkpoints\" in cfg.train:\n",
    "        hydra.utils.log.info(\"Adding callback <ModelCheckpoint>\")\n",
    "        callbacks.append(\n",
    "            ModelCheckpoint(\n",
    "                dirpath=Path('D:\\\\workspace\\\\code\\\\cdvae\\\\hydra\\\\singlerun\\\\2024-04-09\\\\test'),\n",
    "                monitor=cfg.train.monitor_metric,\n",
    "                mode=cfg.train.monitor_metric_mode,\n",
    "                # save_top_k=cfg.train.model_checkpoints.save_top_k,\n",
    "                save_top_k=1,\n",
    "                verbose=cfg.train.model_checkpoints.verbose,\n",
    "            )\n",
    "        )\n",
    "\n",
    "    return callbacks\n"
   ]
  },
  {
   "cell_type": "code",
   "execution_count": 23,
   "metadata": {},
   "outputs": [
    {
     "name": "stderr",
     "output_type": "stream",
     "text": [
      "C:\\Users\\YouTianyu\\AppData\\Local\\Temp\\ipykernel_21132\\3109712250.py:6: UserWarning: \n",
      "The version_base parameter is not specified.\n",
      "Please specify a compatability version level, or None.\n",
      "Will assume defaults for version 1.1\n",
      "  initialize(config_path=str(PROJECT_ROOT / \"conf\"))\n"
     ]
    },
    {
     "ename": "HydraException",
     "evalue": "config_path in initialize() must be relative",
     "output_type": "error",
     "traceback": [
      "\u001b[1;31m---------------------------------------------------------------------------\u001b[0m",
      "\u001b[1;31mHydraException\u001b[0m                            Traceback (most recent call last)",
      "Cell \u001b[1;32mIn[23], line 6\u001b[0m\n\u001b[0;32m      3\u001b[0m \u001b[38;5;28;01mfrom\u001b[39;00m \u001b[38;5;21;01mpathlib\u001b[39;00m \u001b[38;5;28;01mimport\u001b[39;00m Path\n\u001b[0;32m      5\u001b[0m \u001b[38;5;66;03m# 初始化Hydra配置系统\u001b[39;00m\n\u001b[1;32m----> 6\u001b[0m \u001b[43minitialize\u001b[49m\u001b[43m(\u001b[49m\u001b[43mconfig_path\u001b[49m\u001b[38;5;241;43m=\u001b[39;49m\u001b[38;5;28;43mstr\u001b[39;49m\u001b[43m(\u001b[49m\u001b[43mPROJECT_ROOT\u001b[49m\u001b[43m \u001b[49m\u001b[38;5;241;43m/\u001b[39;49m\u001b[43m \u001b[49m\u001b[38;5;124;43m\"\u001b[39;49m\u001b[38;5;124;43mconf\u001b[39;49m\u001b[38;5;124;43m\"\u001b[39;49m\u001b[43m)\u001b[49m\u001b[43m)\u001b[49m\n\u001b[0;32m      8\u001b[0m \u001b[38;5;66;03m# 组合配置文件，这将加载default.yaml文件\u001b[39;00m\n\u001b[0;32m      9\u001b[0m cfg \u001b[38;5;241m=\u001b[39m compose(config_name\u001b[38;5;241m=\u001b[39m\u001b[38;5;124m\"\u001b[39m\u001b[38;5;124mdefault\u001b[39m\u001b[38;5;124m\"\u001b[39m)\n",
      "File \u001b[1;32md:\\APPdata\\miniconda\\envs\\cdvae_test\\lib\\site-packages\\hydra\\initialize.py:82\u001b[0m, in \u001b[0;36minitialize.__init__\u001b[1;34m(self, config_path, job_name, caller_stack_depth, version_base)\u001b[0m\n\u001b[0;32m     79\u001b[0m         config_path \u001b[38;5;241m=\u001b[39m \u001b[38;5;124m\"\u001b[39m\u001b[38;5;124m.\u001b[39m\u001b[38;5;124m\"\u001b[39m\n\u001b[0;32m     81\u001b[0m \u001b[38;5;28;01mif\u001b[39;00m config_path \u001b[38;5;129;01mis\u001b[39;00m \u001b[38;5;129;01mnot\u001b[39;00m \u001b[38;5;28;01mNone\u001b[39;00m \u001b[38;5;129;01mand\u001b[39;00m os\u001b[38;5;241m.\u001b[39mpath\u001b[38;5;241m.\u001b[39misabs(config_path):\n\u001b[1;32m---> 82\u001b[0m     \u001b[38;5;28;01mraise\u001b[39;00m HydraException(\u001b[38;5;124m\"\u001b[39m\u001b[38;5;124mconfig_path in initialize() must be relative\u001b[39m\u001b[38;5;124m\"\u001b[39m)\n\u001b[0;32m     83\u001b[0m calling_file, calling_module \u001b[38;5;241m=\u001b[39m detect_calling_file_or_module_from_stack_frame(\n\u001b[0;32m     84\u001b[0m     caller_stack_depth \u001b[38;5;241m+\u001b[39m \u001b[38;5;241m1\u001b[39m\n\u001b[0;32m     85\u001b[0m )\n\u001b[0;32m     86\u001b[0m \u001b[38;5;28;01mif\u001b[39;00m job_name \u001b[38;5;129;01mis\u001b[39;00m \u001b[38;5;28;01mNone\u001b[39;00m:\n",
      "\u001b[1;31mHydraException\u001b[0m: config_path in initialize() must be relative"
     ]
    }
   ],
   "source": [
    "from hydra import initialize, compose\n",
    "from hydra.core.hydra_config import HydraConfig\n",
    "from pathlib import Path\n",
    "\n",
    "# 初始化Hydra配置系统\n",
    "initialize(config_path=str(\"../conf\"))\n",
    "\n",
    "# 组合配置文件，这将加载default.yaml文件\n",
    "cfg = compose(config_name=\"default\")\n",
    "\n",
    "# 现在HydraConfig应该已经设置好了，您可以获取运行目录\n",
    "hydra_dir = Path(HydraConfig.get().run.dir)\n",
    "print(hydra_dir)"
   ]
  },
  {
   "cell_type": "code",
   "execution_count": 22,
   "metadata": {},
   "outputs": [
    {
     "ename": "ValueError",
     "evalue": "HydraConfig was not set",
     "output_type": "error",
     "traceback": [
      "\u001b[1;31m---------------------------------------------------------------------------\u001b[0m",
      "\u001b[1;31mValueError\u001b[0m                                Traceback (most recent call last)",
      "Cell \u001b[1;32mIn[22], line 1\u001b[0m\n\u001b[1;32m----> 1\u001b[0m hydra_dir \u001b[38;5;241m=\u001b[39m Path(\u001b[43mHydraConfig\u001b[49m\u001b[38;5;241;43m.\u001b[39;49m\u001b[43mget\u001b[49m\u001b[43m(\u001b[49m\u001b[43m)\u001b[49m\u001b[38;5;241m.\u001b[39mrun\u001b[38;5;241m.\u001b[39mdir)\n",
      "File \u001b[1;32md:\\APPdata\\miniconda\\envs\\cdvae_test\\lib\\site-packages\\hydra\\core\\hydra_config.py:31\u001b[0m, in \u001b[0;36mHydraConfig.get\u001b[1;34m()\u001b[0m\n\u001b[0;32m     29\u001b[0m instance \u001b[38;5;241m=\u001b[39m HydraConfig\u001b[38;5;241m.\u001b[39minstance()\n\u001b[0;32m     30\u001b[0m \u001b[38;5;28;01mif\u001b[39;00m instance\u001b[38;5;241m.\u001b[39mcfg \u001b[38;5;129;01mis\u001b[39;00m \u001b[38;5;28;01mNone\u001b[39;00m:\n\u001b[1;32m---> 31\u001b[0m     \u001b[38;5;28;01mraise\u001b[39;00m \u001b[38;5;167;01mValueError\u001b[39;00m(\u001b[38;5;124m\"\u001b[39m\u001b[38;5;124mHydraConfig was not set\u001b[39m\u001b[38;5;124m\"\u001b[39m)\n\u001b[0;32m     32\u001b[0m \u001b[38;5;28;01mreturn\u001b[39;00m instance\u001b[38;5;241m.\u001b[39mcfg\u001b[38;5;241m.\u001b[39mhydra\n",
      "\u001b[1;31mValueError\u001b[0m: HydraConfig was not set"
     ]
    }
   ],
   "source": [
    "hydra_dir = Path(HydraConfig.get().run.dir)"
   ]
  },
  {
   "cell_type": "code",
   "execution_count": 5,
   "metadata": {},
   "outputs": [
    {
     "name": "stderr",
     "output_type": "stream",
     "text": [
      "d:\\workspace\\code\\cdvae\\cdvae\\pl_data\\datamodule.py:142: UserWarning: \n",
      "The version_base parameter is not specified.\n",
      "Please specify a compatability version level, or None.\n",
      "Will assume defaults for version 1.1\n",
      "  @hydra.main(config_path=str(PROJECT_ROOT / \"conf\"), config_name=\"default\")\n",
      "d:\\workspace\\code\\cdvae\\cdvae\\pl_data\\dataset.py:126: UserWarning: \n",
      "The version_base parameter is not specified.\n",
      "Please specify a compatability version level, or None.\n",
      "Will assume defaults for version 1.1\n",
      "  @hydra.main(config_path=str(PROJECT_ROOT / \"conf\"), config_name=\"default\")\n"
     ]
    },
    {
     "data": {
      "application/vnd.jupyter.widget-view+json": {
       "model_id": "1766a47de2e04a7faa038826bd8d3777",
       "version_major": 2,
       "version_minor": 0
      },
      "text/plain": [
       "  0%|          | 0/116 [00:00<?, ?it/s]"
      ]
     },
     "metadata": {},
     "output_type": "display_data"
    },
    {
     "name": "stderr",
     "output_type": "stream",
     "text": [
      "d:\\workspace\\code\\cdvae\\cdvae\\common\\data_utils.py:644: UserWarning: Creating a tensor from a list of numpy.ndarrays is extremely slow. Please consider converting the list to a single numpy.ndarray with numpy.array() before converting to a tensor. (Triggered internally at C:\\actions-runner\\_work\\pytorch\\pytorch\\builder\\windows\\pytorch\\torch\\csrc\\utils\\tensor_new.cpp:278.)\n",
      "  targets = torch.tensor([d[key] for d in data_list])\n",
      "d:\\workspace\\code\\cdvae\\cdvae\\common\\data_utils.py:612: UserWarning: To copy construct from a tensor, it is recommended to use sourceTensor.clone().detach() or sourceTensor.clone().detach().requires_grad_(True), rather than torch.tensor(sourceTensor).\n",
      "  X = torch.tensor(X, dtype=torch.float)\n"
     ]
    }
   ],
   "source": [
    "datamodule: pl.LightningDataModule = hydra.utils.instantiate(\n",
    "        cfg.data.datamodule, _recursive_=False\n",
    "    )"
   ]
  },
  {
   "cell_type": "code",
   "execution_count": 5,
   "metadata": {},
   "outputs": [
    {
     "name": "stderr",
     "output_type": "stream",
     "text": [
      "d:\\workspace\\code\\cdvae\\cdvae\\pl_modules\\model.py:635: UserWarning: \n",
      "The version_base parameter is not specified.\n",
      "Please specify a compatability version level, or None.\n",
      "Will assume defaults for version 1.1\n",
      "  @hydra.main(config_path=str(PROJECT_ROOT / \"conf\"), config_name=\"default\")\n"
     ]
    }
   ],
   "source": [
    "# Instantiate model\n",
    "hydra.utils.log.info(f\"Instantiating <{cfg.model._target_}>\")\n",
    "model: pl.LightningModule = hydra.utils.instantiate(\n",
    "    cfg.model,\n",
    "    optim=cfg.optim,\n",
    "    data=cfg.data,\n",
    "    logging=cfg.logging,\n",
    "    _recursive_=False,\n",
    ")"
   ]
  },
  {
   "cell_type": "code",
   "execution_count": 6,
   "metadata": {},
   "outputs": [],
   "source": [
    "model.lattice_scaler = datamodule.lattice_scaler.copy()\n",
    "model.scaler = datamodule.scaler.copy()\n",
    "torch.save(datamodule.lattice_scaler,  'D:\\\\workspace\\\\code\\\\cdvae\\\\hydra\\\\singlerun\\\\2024-04-09\\\\test\\\\lattice_scaler.pt')\n",
    "torch.save(datamodule.scaler, 'D:\\\\workspace\\\\code\\\\cdvae\\\\hydra\\\\singlerun\\\\2024-04-09\\\\test\\\\prop_scaler.pt')"
   ]
  },
  {
   "cell_type": "code",
   "execution_count": 7,
   "metadata": {},
   "outputs": [
    {
     "name": "stdout",
     "output_type": "stream",
     "text": [
      "D:\\workspace\\code\\cdvae\\hydra\\singlerun\\2024-04-09\\test\\epoch=85-step=344.ckpt\n"
     ]
    }
   ],
   "source": [
    "hydra_dir = Path('D:\\\\workspace\\\\code\\\\cdvae\\\\hydra\\\\singlerun\\\\2024-04-09\\\\test\\\\')\n",
    "# Load checkpoint (if exist)\n",
    "ckpts = list(hydra_dir.glob('*.ckpt'))\n",
    "if len(ckpts) > 0:\n",
    "    ckpt_epochs = np.array([int(ckpt.parts[-1].split('-')[0].split('=')[1]) for ckpt in ckpts])\n",
    "    ckpt = str(ckpts[ckpt_epochs.argsort()[-1]])\n",
    "    hydra.utils.log.info(f\"found checkpoint: {ckpt}\")\n",
    "else:\n",
    "    ckpt = None\n",
    "\n",
    "print(ckpt)"
   ]
  },
  {
   "cell_type": "code",
   "execution_count": 8,
   "metadata": {},
   "outputs": [
    {
     "name": "stdout",
     "output_type": "stream",
     "text": [
      "{'fast_dev_run': False, 'gpus': 1, 'precision': 32, 'max_epochs': '${data.train_max_epochs}', 'accumulate_grad_batches': 1, 'num_sanity_val_steps': 2, 'gradient_clip_val': 0.5, 'gradient_clip_algorithm': 'value', 'profiler': 'simple'}\n"
     ]
    }
   ],
   "source": [
    "print(cfg.train.pl_trainer)"
   ]
  },
  {
   "cell_type": "code",
   "execution_count": 9,
   "metadata": {},
   "outputs": [
    {
     "name": "stderr",
     "output_type": "stream",
     "text": [
      "GPU available: True (cuda), used: True\n",
      "TPU available: False, using: 0 TPU cores\n",
      "IPU available: False, using: 0 IPUs\n",
      "HPU available: False, using: 0 HPUs\n",
      "d:\\APPdata\\miniconda\\envs\\cdvae\\lib\\site-packages\\pytorch_lightning\\trainer\\connectors\\logger_connector\\logger_connector.py:75: Starting from v1.9.0, `tensorboardX` has been removed as a dependency of the `pytorch_lightning` package, due to potential conflicts with other packages in the ML ecosystem. For this reason, `logger=True` will use `CSVLogger` as the default logger, unless the `tensorboard` or `tensorboardX` packages are found. Please `pip install lightning[extra]` or one of them to enable TensorBoard support by default\n"
     ]
    }
   ],
   "source": [
    "hydra.utils.log.info(\"Instantiating the Trainer\")\n",
    "callbacks: List[Callback] = build_callbacks(cfg=cfg)\n",
    "trainer = pl.Trainer(\n",
    "    default_root_dir=hydra_dir,\n",
    "    logger=None,\n",
    "    callbacks=callbacks,\n",
    "    deterministic=cfg.train.deterministic,\n",
    "    check_val_every_n_epoch=1,\n",
    "    enable_progress_bar=True,\n",
    "    profiler = 'simple',\n",
    "    precision=32,\n",
    "    max_epochs= 100,\n",
    "    accumulate_grad_batches=1,\n",
    "    num_sanity_val_steps=2,\n",
    "    gradient_clip_val=0.5,\n",
    "    gradient_clip_algorithm='value'\n",
    ")\n",
    "log_hyperparameters(trainer=trainer, model=model, cfg=cfg)\n"
   ]
  },
  {
   "cell_type": "code",
   "execution_count": 10,
   "metadata": {},
   "outputs": [
    {
     "data": {
      "application/vnd.jupyter.widget-view+json": {
       "model_id": "c65eee845320412e92c10b0e22057a74",
       "version_major": 2,
       "version_minor": 0
      },
      "text/plain": [
       "  0%|          | 0/116 [00:00<?, ?it/s]"
      ]
     },
     "metadata": {},
     "output_type": "display_data"
    },
    {
     "data": {
      "application/vnd.jupyter.widget-view+json": {
       "model_id": "18314f6cc11847079667fe5a668c75e7",
       "version_major": 2,
       "version_minor": 0
      },
      "text/plain": [
       "  0%|          | 0/122 [00:00<?, ?it/s]"
      ]
     },
     "metadata": {},
     "output_type": "display_data"
    },
    {
     "name": "stderr",
     "output_type": "stream",
     "text": [
      "d:\\APPdata\\miniconda\\envs\\cdvae\\lib\\site-packages\\pytorch_lightning\\callbacks\\model_checkpoint.py:653: Checkpoint directory D:\\workspace\\Code\\cdvae\\hydra\\singlerun\\2024-04-09\\test exists and is not empty.\n",
      "LOCAL_RANK: 0 - CUDA_VISIBLE_DEVICES: [0]\n",
      "\n",
      "  | Name           | Type                | Params\n",
      "-------------------------------------------------------\n",
      "0 | encoder        | DimeNetPlusPlusWrap | 2.2 M \n",
      "1 | decoder        | GemNetTDecoder      | 2.3 M \n",
      "2 | fc_mu          | Linear              | 65.8 K\n",
      "3 | fc_var         | Linear              | 65.8 K\n",
      "4 | fc_num_atoms   | Sequential          | 71.2 K\n",
      "5 | fc_lattice     | Sequential          | 67.3 K\n",
      "6 | fc_composition | Sequential          | 91.5 K\n",
      "7 | fc_property    | Sequential          | 66.0 K\n",
      "  | other params   | n/a                 | 100   \n",
      "-------------------------------------------------------\n",
      "5.0 M     Trainable params\n",
      "117       Non-trainable params\n",
      "5.0 M     Total params\n",
      "19.946    Total estimated model params size (MB)\n"
     ]
    },
    {
     "data": {
      "application/vnd.jupyter.widget-view+json": {
       "model_id": "8aeb1073d2214b1e863ccfa06f180b5e",
       "version_major": 2,
       "version_minor": 0
      },
      "text/plain": [
       "Sanity Checking: |          | 0/? [00:00<?, ?it/s]"
      ]
     },
     "metadata": {},
     "output_type": "display_data"
    },
    {
     "name": "stderr",
     "output_type": "stream",
     "text": [
      "d:\\APPdata\\miniconda\\envs\\cdvae\\lib\\site-packages\\torch_geometric\\deprecation.py:26: UserWarning: 'data.DataLoader' is deprecated, use 'loader.DataLoader' instead\n",
      "  warnings.warn(out)\n",
      "d:\\APPdata\\miniconda\\envs\\cdvae\\lib\\site-packages\\pytorch_lightning\\trainer\\connectors\\data_connector.py:441: The 'val_dataloader' does not have many workers which may be a bottleneck. Consider increasing the value of the `num_workers` argument` to `num_workers=7` in the `DataLoader` to improve performance.\n",
      "d:\\workspace\\code\\cdvae\\cdvae\\pl_modules\\gnn.py:391: UserWarning: Using torch.cross without specifying the dim arg is deprecated.\n",
      "Please either pass the dim explicitly or simply use torch.linalg.cross.\n",
      "The default value of dim will change to agree with that of linalg.cross in a future release. (Triggered internally at C:\\actions-runner\\_work\\pytorch\\pytorch\\builder\\windows\\pytorch\\aten\\src\\ATen\\native\\Cross.cpp:67.)\n",
      "  b = torch.cross(pos_ji, pos_kj).norm(dim=-1)\n",
      "d:\\workspace\\code\\cdvae\\cdvae\\common\\data_utils.py:622: UserWarning: To copy construct from a tensor, it is recommended to use sourceTensor.clone().detach() or sourceTensor.clone().detach().requires_grad_(True), rather than torch.tensor(sourceTensor).\n",
      "  X = torch.tensor(X, dtype=torch.float)\n",
      "d:\\workspace\\code\\cdvae\\cdvae\\common\\data_utils.py:618: UserWarning: To copy construct from a tensor, it is recommended to use sourceTensor.clone().detach() or sourceTensor.clone().detach().requires_grad_(True), rather than torch.tensor(sourceTensor).\n",
      "  X = torch.tensor(X, dtype=torch.float)\n",
      "d:\\APPdata\\miniconda\\envs\\cdvae\\lib\\site-packages\\pytorch_lightning\\utilities\\data.py:77: Trying to infer the `batch_size` from an ambiguous collection. The batch size we found is 2. To avoid any miscalculations, use `self.log(..., batch_size=batch_size)`.\n",
      "d:\\APPdata\\miniconda\\envs\\cdvae\\lib\\site-packages\\pytorch_lightning\\trainer\\connectors\\data_connector.py:441: The 'train_dataloader' does not have many workers which may be a bottleneck. Consider increasing the value of the `num_workers` argument` to `num_workers=7` in the `DataLoader` to improve performance.\n",
      "d:\\APPdata\\miniconda\\envs\\cdvae\\lib\\site-packages\\pytorch_lightning\\loops\\fit_loop.py:298: The number of training batches (4) is smaller than the logging interval Trainer(log_every_n_steps=50). Set a lower value for log_every_n_steps if you want to see logs for the training epoch.\n"
     ]
    },
    {
     "data": {
      "application/vnd.jupyter.widget-view+json": {
       "model_id": "8341e62e9a084b22ae59a4bbeeb01de2",
       "version_major": 2,
       "version_minor": 0
      },
      "text/plain": [
       "Training: |          | 0/? [00:00<?, ?it/s]"
      ]
     },
     "metadata": {},
     "output_type": "display_data"
    },
    {
     "data": {
      "application/vnd.jupyter.widget-view+json": {
       "model_id": "9bd2857fd17f4c8aa5f1141ee606fcf6",
       "version_major": 2,
       "version_minor": 0
      },
      "text/plain": [
       "Validation: |          | 0/? [00:00<?, ?it/s]"
      ]
     },
     "metadata": {},
     "output_type": "display_data"
    },
    {
     "data": {
      "application/vnd.jupyter.widget-view+json": {
       "model_id": "ae2fefc79a4b4955a36959ab63b1317e",
       "version_major": 2,
       "version_minor": 0
      },
      "text/plain": [
       "Validation: |          | 0/? [00:00<?, ?it/s]"
      ]
     },
     "metadata": {},
     "output_type": "display_data"
    },
    {
     "data": {
      "application/vnd.jupyter.widget-view+json": {
       "model_id": "4e42ff9974754f2eb9954293848a7b42",
       "version_major": 2,
       "version_minor": 0
      },
      "text/plain": [
       "Validation: |          | 0/? [00:00<?, ?it/s]"
      ]
     },
     "metadata": {},
     "output_type": "display_data"
    },
    {
     "data": {
      "application/vnd.jupyter.widget-view+json": {
       "model_id": "13bdd8654e6d4a309b7957cb97667283",
       "version_major": 2,
       "version_minor": 0
      },
      "text/plain": [
       "Validation: |          | 0/? [00:00<?, ?it/s]"
      ]
     },
     "metadata": {},
     "output_type": "display_data"
    },
    {
     "data": {
      "application/vnd.jupyter.widget-view+json": {
       "model_id": "8872d77db58a4a69baededc3a5ecf16d",
       "version_major": 2,
       "version_minor": 0
      },
      "text/plain": [
       "Validation: |          | 0/? [00:00<?, ?it/s]"
      ]
     },
     "metadata": {},
     "output_type": "display_data"
    },
    {
     "data": {
      "application/vnd.jupyter.widget-view+json": {
       "model_id": "96f16322ce6c48c2aa71e1ad7d33bec5",
       "version_major": 2,
       "version_minor": 0
      },
      "text/plain": [
       "Validation: |          | 0/? [00:00<?, ?it/s]"
      ]
     },
     "metadata": {},
     "output_type": "display_data"
    },
    {
     "data": {
      "application/vnd.jupyter.widget-view+json": {
       "model_id": "b4cc581f231a42d98df86f3638f085a7",
       "version_major": 2,
       "version_minor": 0
      },
      "text/plain": [
       "Validation: |          | 0/? [00:00<?, ?it/s]"
      ]
     },
     "metadata": {},
     "output_type": "display_data"
    },
    {
     "data": {
      "application/vnd.jupyter.widget-view+json": {
       "model_id": "aa28d135ae314f0085767217e162358a",
       "version_major": 2,
       "version_minor": 0
      },
      "text/plain": [
       "Validation: |          | 0/? [00:00<?, ?it/s]"
      ]
     },
     "metadata": {},
     "output_type": "display_data"
    },
    {
     "data": {
      "application/vnd.jupyter.widget-view+json": {
       "model_id": "eea8f58d68af47a08210749eeb8f8d78",
       "version_major": 2,
       "version_minor": 0
      },
      "text/plain": [
       "Validation: |          | 0/? [00:00<?, ?it/s]"
      ]
     },
     "metadata": {},
     "output_type": "display_data"
    },
    {
     "data": {
      "application/vnd.jupyter.widget-view+json": {
       "model_id": "63f08b6711cc40beb2aea3fc4d2c3592",
       "version_major": 2,
       "version_minor": 0
      },
      "text/plain": [
       "Validation: |          | 0/? [00:00<?, ?it/s]"
      ]
     },
     "metadata": {},
     "output_type": "display_data"
    },
    {
     "data": {
      "application/vnd.jupyter.widget-view+json": {
       "model_id": "53266cb1edea43cb9a40586050d0b29a",
       "version_major": 2,
       "version_minor": 0
      },
      "text/plain": [
       "Validation: |          | 0/? [00:00<?, ?it/s]"
      ]
     },
     "metadata": {},
     "output_type": "display_data"
    },
    {
     "data": {
      "application/vnd.jupyter.widget-view+json": {
       "model_id": "16b85068799a4cdb87648d350be9db55",
       "version_major": 2,
       "version_minor": 0
      },
      "text/plain": [
       "Validation: |          | 0/? [00:00<?, ?it/s]"
      ]
     },
     "metadata": {},
     "output_type": "display_data"
    },
    {
     "data": {
      "application/vnd.jupyter.widget-view+json": {
       "model_id": "0323b02481474c6a93988d5913cdb0cf",
       "version_major": 2,
       "version_minor": 0
      },
      "text/plain": [
       "Validation: |          | 0/? [00:00<?, ?it/s]"
      ]
     },
     "metadata": {},
     "output_type": "display_data"
    },
    {
     "data": {
      "application/vnd.jupyter.widget-view+json": {
       "model_id": "d74882fba0564286a3b5697aa68c7adb",
       "version_major": 2,
       "version_minor": 0
      },
      "text/plain": [
       "Validation: |          | 0/? [00:00<?, ?it/s]"
      ]
     },
     "metadata": {},
     "output_type": "display_data"
    },
    {
     "data": {
      "application/vnd.jupyter.widget-view+json": {
       "model_id": "7fdf27f4bdc3483ebfe201939ce6b6de",
       "version_major": 2,
       "version_minor": 0
      },
      "text/plain": [
       "Validation: |          | 0/? [00:00<?, ?it/s]"
      ]
     },
     "metadata": {},
     "output_type": "display_data"
    },
    {
     "data": {
      "application/vnd.jupyter.widget-view+json": {
       "model_id": "0024211885134d52adf8ec3e19c3a9e3",
       "version_major": 2,
       "version_minor": 0
      },
      "text/plain": [
       "Validation: |          | 0/? [00:00<?, ?it/s]"
      ]
     },
     "metadata": {},
     "output_type": "display_data"
    },
    {
     "data": {
      "application/vnd.jupyter.widget-view+json": {
       "model_id": "bc8c6180ef794f9692861d37cc917a07",
       "version_major": 2,
       "version_minor": 0
      },
      "text/plain": [
       "Validation: |          | 0/? [00:00<?, ?it/s]"
      ]
     },
     "metadata": {},
     "output_type": "display_data"
    },
    {
     "data": {
      "application/vnd.jupyter.widget-view+json": {
       "model_id": "70ad28e8d8ac487cb9b4dadab4aaa8ce",
       "version_major": 2,
       "version_minor": 0
      },
      "text/plain": [
       "Validation: |          | 0/? [00:00<?, ?it/s]"
      ]
     },
     "metadata": {},
     "output_type": "display_data"
    },
    {
     "data": {
      "application/vnd.jupyter.widget-view+json": {
       "model_id": "7965065de01e4e4c8b4e1a16293deb02",
       "version_major": 2,
       "version_minor": 0
      },
      "text/plain": [
       "Validation: |          | 0/? [00:00<?, ?it/s]"
      ]
     },
     "metadata": {},
     "output_type": "display_data"
    },
    {
     "data": {
      "application/vnd.jupyter.widget-view+json": {
       "model_id": "54c812ccb8eb44ff930563c51eae7d2c",
       "version_major": 2,
       "version_minor": 0
      },
      "text/plain": [
       "Validation: |          | 0/? [00:00<?, ?it/s]"
      ]
     },
     "metadata": {},
     "output_type": "display_data"
    },
    {
     "data": {
      "application/vnd.jupyter.widget-view+json": {
       "model_id": "870c0dc8393545baa5a16f5b954e2026",
       "version_major": 2,
       "version_minor": 0
      },
      "text/plain": [
       "Validation: |          | 0/? [00:00<?, ?it/s]"
      ]
     },
     "metadata": {},
     "output_type": "display_data"
    },
    {
     "data": {
      "application/vnd.jupyter.widget-view+json": {
       "model_id": "c0594bf6a2414842a93992f944f9f041",
       "version_major": 2,
       "version_minor": 0
      },
      "text/plain": [
       "Validation: |          | 0/? [00:00<?, ?it/s]"
      ]
     },
     "metadata": {},
     "output_type": "display_data"
    },
    {
     "data": {
      "application/vnd.jupyter.widget-view+json": {
       "model_id": "bcadf25d14354f339cb785e648e39e9e",
       "version_major": 2,
       "version_minor": 0
      },
      "text/plain": [
       "Validation: |          | 0/? [00:00<?, ?it/s]"
      ]
     },
     "metadata": {},
     "output_type": "display_data"
    },
    {
     "data": {
      "application/vnd.jupyter.widget-view+json": {
       "model_id": "0a37118074ab4f81a8ae416974fa3427",
       "version_major": 2,
       "version_minor": 0
      },
      "text/plain": [
       "Validation: |          | 0/? [00:00<?, ?it/s]"
      ]
     },
     "metadata": {},
     "output_type": "display_data"
    },
    {
     "data": {
      "application/vnd.jupyter.widget-view+json": {
       "model_id": "34a8baff74df4c2b848ad4c9c7fc854c",
       "version_major": 2,
       "version_minor": 0
      },
      "text/plain": [
       "Validation: |          | 0/? [00:00<?, ?it/s]"
      ]
     },
     "metadata": {},
     "output_type": "display_data"
    },
    {
     "data": {
      "application/vnd.jupyter.widget-view+json": {
       "model_id": "0c71225e07dc45e59759fd38889e2717",
       "version_major": 2,
       "version_minor": 0
      },
      "text/plain": [
       "Validation: |          | 0/? [00:00<?, ?it/s]"
      ]
     },
     "metadata": {},
     "output_type": "display_data"
    },
    {
     "data": {
      "application/vnd.jupyter.widget-view+json": {
       "model_id": "720584564d79457c8aff3177593b2d8b",
       "version_major": 2,
       "version_minor": 0
      },
      "text/plain": [
       "Validation: |          | 0/? [00:00<?, ?it/s]"
      ]
     },
     "metadata": {},
     "output_type": "display_data"
    },
    {
     "data": {
      "application/vnd.jupyter.widget-view+json": {
       "model_id": "47fb870079384a098301bc2a251722a0",
       "version_major": 2,
       "version_minor": 0
      },
      "text/plain": [
       "Validation: |          | 0/? [00:00<?, ?it/s]"
      ]
     },
     "metadata": {},
     "output_type": "display_data"
    },
    {
     "data": {
      "application/vnd.jupyter.widget-view+json": {
       "model_id": "3c0dea02f541401cb8a7ec82a862455d",
       "version_major": 2,
       "version_minor": 0
      },
      "text/plain": [
       "Validation: |          | 0/? [00:00<?, ?it/s]"
      ]
     },
     "metadata": {},
     "output_type": "display_data"
    },
    {
     "data": {
      "application/vnd.jupyter.widget-view+json": {
       "model_id": "0d53a4b9e7fd48938630d6432d1e5c39",
       "version_major": 2,
       "version_minor": 0
      },
      "text/plain": [
       "Validation: |          | 0/? [00:00<?, ?it/s]"
      ]
     },
     "metadata": {},
     "output_type": "display_data"
    },
    {
     "data": {
      "application/vnd.jupyter.widget-view+json": {
       "model_id": "d0b515f1d91c4762a990db57bafa9b0c",
       "version_major": 2,
       "version_minor": 0
      },
      "text/plain": [
       "Validation: |          | 0/? [00:00<?, ?it/s]"
      ]
     },
     "metadata": {},
     "output_type": "display_data"
    },
    {
     "data": {
      "application/vnd.jupyter.widget-view+json": {
       "model_id": "1dead2aa87684d96b1ad1fe3b55c698a",
       "version_major": 2,
       "version_minor": 0
      },
      "text/plain": [
       "Validation: |          | 0/? [00:00<?, ?it/s]"
      ]
     },
     "metadata": {},
     "output_type": "display_data"
    },
    {
     "data": {
      "application/vnd.jupyter.widget-view+json": {
       "model_id": "cb8adaef8fc040f1b4cc52ee2b9fb282",
       "version_major": 2,
       "version_minor": 0
      },
      "text/plain": [
       "Validation: |          | 0/? [00:00<?, ?it/s]"
      ]
     },
     "metadata": {},
     "output_type": "display_data"
    },
    {
     "data": {
      "application/vnd.jupyter.widget-view+json": {
       "model_id": "a40bd4d4a46b4e77adcd68b5af2adb74",
       "version_major": 2,
       "version_minor": 0
      },
      "text/plain": [
       "Validation: |          | 0/? [00:00<?, ?it/s]"
      ]
     },
     "metadata": {},
     "output_type": "display_data"
    },
    {
     "data": {
      "application/vnd.jupyter.widget-view+json": {
       "model_id": "b8a028fc45be47c6beeb794825ac4333",
       "version_major": 2,
       "version_minor": 0
      },
      "text/plain": [
       "Validation: |          | 0/? [00:00<?, ?it/s]"
      ]
     },
     "metadata": {},
     "output_type": "display_data"
    },
    {
     "data": {
      "application/vnd.jupyter.widget-view+json": {
       "model_id": "74fbf102a62b409abb1ca311989af531",
       "version_major": 2,
       "version_minor": 0
      },
      "text/plain": [
       "Validation: |          | 0/? [00:00<?, ?it/s]"
      ]
     },
     "metadata": {},
     "output_type": "display_data"
    },
    {
     "data": {
      "application/vnd.jupyter.widget-view+json": {
       "model_id": "96a193487f2b46f2977cc6f3ca4f082a",
       "version_major": 2,
       "version_minor": 0
      },
      "text/plain": [
       "Validation: |          | 0/? [00:00<?, ?it/s]"
      ]
     },
     "metadata": {},
     "output_type": "display_data"
    },
    {
     "data": {
      "application/vnd.jupyter.widget-view+json": {
       "model_id": "38b9f617175444d9bfbb77607f089a05",
       "version_major": 2,
       "version_minor": 0
      },
      "text/plain": [
       "Validation: |          | 0/? [00:00<?, ?it/s]"
      ]
     },
     "metadata": {},
     "output_type": "display_data"
    },
    {
     "data": {
      "application/vnd.jupyter.widget-view+json": {
       "model_id": "33b65b00c38c42848ff7cd37ccd05300",
       "version_major": 2,
       "version_minor": 0
      },
      "text/plain": [
       "Validation: |          | 0/? [00:00<?, ?it/s]"
      ]
     },
     "metadata": {},
     "output_type": "display_data"
    },
    {
     "data": {
      "application/vnd.jupyter.widget-view+json": {
       "model_id": "40f0dc8f8d8e4465b672e0008977ecbd",
       "version_major": 2,
       "version_minor": 0
      },
      "text/plain": [
       "Validation: |          | 0/? [00:00<?, ?it/s]"
      ]
     },
     "metadata": {},
     "output_type": "display_data"
    },
    {
     "data": {
      "application/vnd.jupyter.widget-view+json": {
       "model_id": "9be787bf773c4286bebb65ec41d282c5",
       "version_major": 2,
       "version_minor": 0
      },
      "text/plain": [
       "Validation: |          | 0/? [00:00<?, ?it/s]"
      ]
     },
     "metadata": {},
     "output_type": "display_data"
    },
    {
     "data": {
      "application/vnd.jupyter.widget-view+json": {
       "model_id": "d4a3a8dfeabb4191857cf6eed2c8fa6a",
       "version_major": 2,
       "version_minor": 0
      },
      "text/plain": [
       "Validation: |          | 0/? [00:00<?, ?it/s]"
      ]
     },
     "metadata": {},
     "output_type": "display_data"
    },
    {
     "data": {
      "application/vnd.jupyter.widget-view+json": {
       "model_id": "54d574fb4b0b4f8ea7ee7a4a5bac3417",
       "version_major": 2,
       "version_minor": 0
      },
      "text/plain": [
       "Validation: |          | 0/? [00:00<?, ?it/s]"
      ]
     },
     "metadata": {},
     "output_type": "display_data"
    },
    {
     "data": {
      "application/vnd.jupyter.widget-view+json": {
       "model_id": "dc1744aa92d34001a7aca37e67be5094",
       "version_major": 2,
       "version_minor": 0
      },
      "text/plain": [
       "Validation: |          | 0/? [00:00<?, ?it/s]"
      ]
     },
     "metadata": {},
     "output_type": "display_data"
    },
    {
     "data": {
      "application/vnd.jupyter.widget-view+json": {
       "model_id": "a5fd2415485e4f67a8d0ede410dffc02",
       "version_major": 2,
       "version_minor": 0
      },
      "text/plain": [
       "Validation: |          | 0/? [00:00<?, ?it/s]"
      ]
     },
     "metadata": {},
     "output_type": "display_data"
    },
    {
     "data": {
      "application/vnd.jupyter.widget-view+json": {
       "model_id": "62d2967a9bbd49a596a1abd493125517",
       "version_major": 2,
       "version_minor": 0
      },
      "text/plain": [
       "Validation: |          | 0/? [00:00<?, ?it/s]"
      ]
     },
     "metadata": {},
     "output_type": "display_data"
    },
    {
     "data": {
      "application/vnd.jupyter.widget-view+json": {
       "model_id": "9c6961878de1482ca93b48d8df35f1b6",
       "version_major": 2,
       "version_minor": 0
      },
      "text/plain": [
       "Validation: |          | 0/? [00:00<?, ?it/s]"
      ]
     },
     "metadata": {},
     "output_type": "display_data"
    },
    {
     "data": {
      "application/vnd.jupyter.widget-view+json": {
       "model_id": "b7af3ca6573044b4a1a0f6146476d714",
       "version_major": 2,
       "version_minor": 0
      },
      "text/plain": [
       "Validation: |          | 0/? [00:00<?, ?it/s]"
      ]
     },
     "metadata": {},
     "output_type": "display_data"
    },
    {
     "data": {
      "application/vnd.jupyter.widget-view+json": {
       "model_id": "0ab919ffcbea4408859be980cfbecfa5",
       "version_major": 2,
       "version_minor": 0
      },
      "text/plain": [
       "Validation: |          | 0/? [00:00<?, ?it/s]"
      ]
     },
     "metadata": {},
     "output_type": "display_data"
    },
    {
     "data": {
      "application/vnd.jupyter.widget-view+json": {
       "model_id": "154e126f612e455da9abcc889b43c37f",
       "version_major": 2,
       "version_minor": 0
      },
      "text/plain": [
       "Validation: |          | 0/? [00:00<?, ?it/s]"
      ]
     },
     "metadata": {},
     "output_type": "display_data"
    },
    {
     "data": {
      "application/vnd.jupyter.widget-view+json": {
       "model_id": "b0191fd39a0d47849bbf4b354158effe",
       "version_major": 2,
       "version_minor": 0
      },
      "text/plain": [
       "Validation: |          | 0/? [00:00<?, ?it/s]"
      ]
     },
     "metadata": {},
     "output_type": "display_data"
    },
    {
     "data": {
      "application/vnd.jupyter.widget-view+json": {
       "model_id": "242ba9b7380345a8bec84ce765f81af8",
       "version_major": 2,
       "version_minor": 0
      },
      "text/plain": [
       "Validation: |          | 0/? [00:00<?, ?it/s]"
      ]
     },
     "metadata": {},
     "output_type": "display_data"
    },
    {
     "data": {
      "application/vnd.jupyter.widget-view+json": {
       "model_id": "70142fb066f2423ea8dbcdf704c7fe2d",
       "version_major": 2,
       "version_minor": 0
      },
      "text/plain": [
       "Validation: |          | 0/? [00:00<?, ?it/s]"
      ]
     },
     "metadata": {},
     "output_type": "display_data"
    },
    {
     "data": {
      "application/vnd.jupyter.widget-view+json": {
       "model_id": "bb29968f212441aa8553c98b81df63e7",
       "version_major": 2,
       "version_minor": 0
      },
      "text/plain": [
       "Validation: |          | 0/? [00:00<?, ?it/s]"
      ]
     },
     "metadata": {},
     "output_type": "display_data"
    },
    {
     "data": {
      "application/vnd.jupyter.widget-view+json": {
       "model_id": "702ed9be65b34d798f9152fb3778d249",
       "version_major": 2,
       "version_minor": 0
      },
      "text/plain": [
       "Validation: |          | 0/? [00:00<?, ?it/s]"
      ]
     },
     "metadata": {},
     "output_type": "display_data"
    },
    {
     "data": {
      "application/vnd.jupyter.widget-view+json": {
       "model_id": "3f2f882d078d4c0ebbf01db39b91d0e9",
       "version_major": 2,
       "version_minor": 0
      },
      "text/plain": [
       "Validation: |          | 0/? [00:00<?, ?it/s]"
      ]
     },
     "metadata": {},
     "output_type": "display_data"
    },
    {
     "data": {
      "application/vnd.jupyter.widget-view+json": {
       "model_id": "f78ef44df70e433a82dcb7deebada7c3",
       "version_major": 2,
       "version_minor": 0
      },
      "text/plain": [
       "Validation: |          | 0/? [00:00<?, ?it/s]"
      ]
     },
     "metadata": {},
     "output_type": "display_data"
    },
    {
     "data": {
      "application/vnd.jupyter.widget-view+json": {
       "model_id": "1a8b4463e5824cdba41f39928a727708",
       "version_major": 2,
       "version_minor": 0
      },
      "text/plain": [
       "Validation: |          | 0/? [00:00<?, ?it/s]"
      ]
     },
     "metadata": {},
     "output_type": "display_data"
    },
    {
     "data": {
      "application/vnd.jupyter.widget-view+json": {
       "model_id": "c69b211ec5384629bea8c91bac83edc1",
       "version_major": 2,
       "version_minor": 0
      },
      "text/plain": [
       "Validation: |          | 0/? [00:00<?, ?it/s]"
      ]
     },
     "metadata": {},
     "output_type": "display_data"
    },
    {
     "data": {
      "application/vnd.jupyter.widget-view+json": {
       "model_id": "35c6358e174e44e2b6f05b49498e4997",
       "version_major": 2,
       "version_minor": 0
      },
      "text/plain": [
       "Validation: |          | 0/? [00:00<?, ?it/s]"
      ]
     },
     "metadata": {},
     "output_type": "display_data"
    },
    {
     "data": {
      "application/vnd.jupyter.widget-view+json": {
       "model_id": "247fa3dabd6c44b49e70c3b2b93f650d",
       "version_major": 2,
       "version_minor": 0
      },
      "text/plain": [
       "Validation: |          | 0/? [00:00<?, ?it/s]"
      ]
     },
     "metadata": {},
     "output_type": "display_data"
    },
    {
     "data": {
      "application/vnd.jupyter.widget-view+json": {
       "model_id": "d8400400c56b43a5b37f18b3af14133b",
       "version_major": 2,
       "version_minor": 0
      },
      "text/plain": [
       "Validation: |          | 0/? [00:00<?, ?it/s]"
      ]
     },
     "metadata": {},
     "output_type": "display_data"
    },
    {
     "data": {
      "application/vnd.jupyter.widget-view+json": {
       "model_id": "08c975afd44b46599136f6c9bf4cbc96",
       "version_major": 2,
       "version_minor": 0
      },
      "text/plain": [
       "Validation: |          | 0/? [00:00<?, ?it/s]"
      ]
     },
     "metadata": {},
     "output_type": "display_data"
    },
    {
     "data": {
      "application/vnd.jupyter.widget-view+json": {
       "model_id": "5b409eb193db4c8b99001a95c6a08a38",
       "version_major": 2,
       "version_minor": 0
      },
      "text/plain": [
       "Validation: |          | 0/? [00:00<?, ?it/s]"
      ]
     },
     "metadata": {},
     "output_type": "display_data"
    },
    {
     "data": {
      "application/vnd.jupyter.widget-view+json": {
       "model_id": "020c9f3f0f154767b53d57b9be42fe45",
       "version_major": 2,
       "version_minor": 0
      },
      "text/plain": [
       "Validation: |          | 0/? [00:00<?, ?it/s]"
      ]
     },
     "metadata": {},
     "output_type": "display_data"
    },
    {
     "data": {
      "application/vnd.jupyter.widget-view+json": {
       "model_id": "e68533e3c4204296b8759944c7a6744b",
       "version_major": 2,
       "version_minor": 0
      },
      "text/plain": [
       "Validation: |          | 0/? [00:00<?, ?it/s]"
      ]
     },
     "metadata": {},
     "output_type": "display_data"
    },
    {
     "data": {
      "application/vnd.jupyter.widget-view+json": {
       "model_id": "43174b949d944b1595b05c731c83eaee",
       "version_major": 2,
       "version_minor": 0
      },
      "text/plain": [
       "Validation: |          | 0/? [00:00<?, ?it/s]"
      ]
     },
     "metadata": {},
     "output_type": "display_data"
    },
    {
     "data": {
      "application/vnd.jupyter.widget-view+json": {
       "model_id": "4a285b4553444637b8f4e9c48b179dcf",
       "version_major": 2,
       "version_minor": 0
      },
      "text/plain": [
       "Validation: |          | 0/? [00:00<?, ?it/s]"
      ]
     },
     "metadata": {},
     "output_type": "display_data"
    },
    {
     "data": {
      "application/vnd.jupyter.widget-view+json": {
       "model_id": "f9c82177f6a24ebb9055c02081d94c8c",
       "version_major": 2,
       "version_minor": 0
      },
      "text/plain": [
       "Validation: |          | 0/? [00:00<?, ?it/s]"
      ]
     },
     "metadata": {},
     "output_type": "display_data"
    },
    {
     "data": {
      "application/vnd.jupyter.widget-view+json": {
       "model_id": "2782b79dcd2c49759c96e19fd64bf071",
       "version_major": 2,
       "version_minor": 0
      },
      "text/plain": [
       "Validation: |          | 0/? [00:00<?, ?it/s]"
      ]
     },
     "metadata": {},
     "output_type": "display_data"
    },
    {
     "data": {
      "application/vnd.jupyter.widget-view+json": {
       "model_id": "96e6256023bb4b5ab6f95ae45f3956b9",
       "version_major": 2,
       "version_minor": 0
      },
      "text/plain": [
       "Validation: |          | 0/? [00:00<?, ?it/s]"
      ]
     },
     "metadata": {},
     "output_type": "display_data"
    },
    {
     "data": {
      "application/vnd.jupyter.widget-view+json": {
       "model_id": "e93e13863b5d48cab7d642cb50f99666",
       "version_major": 2,
       "version_minor": 0
      },
      "text/plain": [
       "Validation: |          | 0/? [00:00<?, ?it/s]"
      ]
     },
     "metadata": {},
     "output_type": "display_data"
    },
    {
     "data": {
      "application/vnd.jupyter.widget-view+json": {
       "model_id": "2fc6a52f4ca2401ba58c9bc07a816f31",
       "version_major": 2,
       "version_minor": 0
      },
      "text/plain": [
       "Validation: |          | 0/? [00:00<?, ?it/s]"
      ]
     },
     "metadata": {},
     "output_type": "display_data"
    },
    {
     "data": {
      "application/vnd.jupyter.widget-view+json": {
       "model_id": "60f4644d706744539c2e0e9b9c59a24f",
       "version_major": 2,
       "version_minor": 0
      },
      "text/plain": [
       "Validation: |          | 0/? [00:00<?, ?it/s]"
      ]
     },
     "metadata": {},
     "output_type": "display_data"
    },
    {
     "data": {
      "application/vnd.jupyter.widget-view+json": {
       "model_id": "d36c2198dea941239406493de46e1fea",
       "version_major": 2,
       "version_minor": 0
      },
      "text/plain": [
       "Validation: |          | 0/? [00:00<?, ?it/s]"
      ]
     },
     "metadata": {},
     "output_type": "display_data"
    },
    {
     "data": {
      "application/vnd.jupyter.widget-view+json": {
       "model_id": "9886c087257d4070bfac2a3f2e77dcd8",
       "version_major": 2,
       "version_minor": 0
      },
      "text/plain": [
       "Validation: |          | 0/? [00:00<?, ?it/s]"
      ]
     },
     "metadata": {},
     "output_type": "display_data"
    },
    {
     "data": {
      "application/vnd.jupyter.widget-view+json": {
       "model_id": "f07fb8cdca4b4d849b37da957c11ca0d",
       "version_major": 2,
       "version_minor": 0
      },
      "text/plain": [
       "Validation: |          | 0/? [00:00<?, ?it/s]"
      ]
     },
     "metadata": {},
     "output_type": "display_data"
    },
    {
     "data": {
      "application/vnd.jupyter.widget-view+json": {
       "model_id": "208298557ff74d87a25e90d47d441b49",
       "version_major": 2,
       "version_minor": 0
      },
      "text/plain": [
       "Validation: |          | 0/? [00:00<?, ?it/s]"
      ]
     },
     "metadata": {},
     "output_type": "display_data"
    },
    {
     "data": {
      "application/vnd.jupyter.widget-view+json": {
       "model_id": "765d819fd9a841fc97408bed6b6f03df",
       "version_major": 2,
       "version_minor": 0
      },
      "text/plain": [
       "Validation: |          | 0/? [00:00<?, ?it/s]"
      ]
     },
     "metadata": {},
     "output_type": "display_data"
    },
    {
     "data": {
      "application/vnd.jupyter.widget-view+json": {
       "model_id": "ba6b7618edc64f6c8aa64fd64ec4a0a9",
       "version_major": 2,
       "version_minor": 0
      },
      "text/plain": [
       "Validation: |          | 0/? [00:00<?, ?it/s]"
      ]
     },
     "metadata": {},
     "output_type": "display_data"
    },
    {
     "data": {
      "application/vnd.jupyter.widget-view+json": {
       "model_id": "856fb68211a442039028f2811e228225",
       "version_major": 2,
       "version_minor": 0
      },
      "text/plain": [
       "Validation: |          | 0/? [00:00<?, ?it/s]"
      ]
     },
     "metadata": {},
     "output_type": "display_data"
    },
    {
     "data": {
      "application/vnd.jupyter.widget-view+json": {
       "model_id": "3b338ab69ed84864a0e918a09a559066",
       "version_major": 2,
       "version_minor": 0
      },
      "text/plain": [
       "Validation: |          | 0/? [00:00<?, ?it/s]"
      ]
     },
     "metadata": {},
     "output_type": "display_data"
    },
    {
     "data": {
      "application/vnd.jupyter.widget-view+json": {
       "model_id": "16550bdc0df145e0853c41ff57e094d3",
       "version_major": 2,
       "version_minor": 0
      },
      "text/plain": [
       "Validation: |          | 0/? [00:00<?, ?it/s]"
      ]
     },
     "metadata": {},
     "output_type": "display_data"
    },
    {
     "data": {
      "application/vnd.jupyter.widget-view+json": {
       "model_id": "18dd900ad8554ba1bc5f64b5c2b89efd",
       "version_major": 2,
       "version_minor": 0
      },
      "text/plain": [
       "Validation: |          | 0/? [00:00<?, ?it/s]"
      ]
     },
     "metadata": {},
     "output_type": "display_data"
    },
    {
     "data": {
      "application/vnd.jupyter.widget-view+json": {
       "model_id": "0f717e4595fb426ba109cfb7fee65b33",
       "version_major": 2,
       "version_minor": 0
      },
      "text/plain": [
       "Validation: |          | 0/? [00:00<?, ?it/s]"
      ]
     },
     "metadata": {},
     "output_type": "display_data"
    },
    {
     "data": {
      "application/vnd.jupyter.widget-view+json": {
       "model_id": "4d712145dfca42f6b1b14a74fb1fbdae",
       "version_major": 2,
       "version_minor": 0
      },
      "text/plain": [
       "Validation: |          | 0/? [00:00<?, ?it/s]"
      ]
     },
     "metadata": {},
     "output_type": "display_data"
    },
    {
     "data": {
      "application/vnd.jupyter.widget-view+json": {
       "model_id": "ab3a82bc4f47499ea9e68c14907dbf9b",
       "version_major": 2,
       "version_minor": 0
      },
      "text/plain": [
       "Validation: |          | 0/? [00:00<?, ?it/s]"
      ]
     },
     "metadata": {},
     "output_type": "display_data"
    },
    {
     "data": {
      "application/vnd.jupyter.widget-view+json": {
       "model_id": "ecf20e870dae4370ba2041a99dde38df",
       "version_major": 2,
       "version_minor": 0
      },
      "text/plain": [
       "Validation: |          | 0/? [00:00<?, ?it/s]"
      ]
     },
     "metadata": {},
     "output_type": "display_data"
    },
    {
     "data": {
      "application/vnd.jupyter.widget-view+json": {
       "model_id": "334d828eba1e4b19a1cdbcf31e70963d",
       "version_major": 2,
       "version_minor": 0
      },
      "text/plain": [
       "Validation: |          | 0/? [00:00<?, ?it/s]"
      ]
     },
     "metadata": {},
     "output_type": "display_data"
    },
    {
     "data": {
      "application/vnd.jupyter.widget-view+json": {
       "model_id": "0819dcb74e884bfd8b4544dfd2305be7",
       "version_major": 2,
       "version_minor": 0
      },
      "text/plain": [
       "Validation: |          | 0/? [00:00<?, ?it/s]"
      ]
     },
     "metadata": {},
     "output_type": "display_data"
    },
    {
     "data": {
      "application/vnd.jupyter.widget-view+json": {
       "model_id": "cff2086c946143d7a1e419196558ab49",
       "version_major": 2,
       "version_minor": 0
      },
      "text/plain": [
       "Validation: |          | 0/? [00:00<?, ?it/s]"
      ]
     },
     "metadata": {},
     "output_type": "display_data"
    },
    {
     "data": {
      "application/vnd.jupyter.widget-view+json": {
       "model_id": "d506296996c54765acdce83c401bdc7f",
       "version_major": 2,
       "version_minor": 0
      },
      "text/plain": [
       "Validation: |          | 0/? [00:00<?, ?it/s]"
      ]
     },
     "metadata": {},
     "output_type": "display_data"
    },
    {
     "data": {
      "application/vnd.jupyter.widget-view+json": {
       "model_id": "3b2ff30e22c14fc6a80ccaed829b2901",
       "version_major": 2,
       "version_minor": 0
      },
      "text/plain": [
       "Validation: |          | 0/? [00:00<?, ?it/s]"
      ]
     },
     "metadata": {},
     "output_type": "display_data"
    },
    {
     "data": {
      "application/vnd.jupyter.widget-view+json": {
       "model_id": "687ad3ca2dc24886a38329c47a166481",
       "version_major": 2,
       "version_minor": 0
      },
      "text/plain": [
       "Validation: |          | 0/? [00:00<?, ?it/s]"
      ]
     },
     "metadata": {},
     "output_type": "display_data"
    },
    {
     "data": {
      "application/vnd.jupyter.widget-view+json": {
       "model_id": "6dce2985573e45769cfa60ccacc39baf",
       "version_major": 2,
       "version_minor": 0
      },
      "text/plain": [
       "Validation: |          | 0/? [00:00<?, ?it/s]"
      ]
     },
     "metadata": {},
     "output_type": "display_data"
    },
    {
     "data": {
      "application/vnd.jupyter.widget-view+json": {
       "model_id": "4956536fd2d94c8fa482a78615c420e1",
       "version_major": 2,
       "version_minor": 0
      },
      "text/plain": [
       "Validation: |          | 0/? [00:00<?, ?it/s]"
      ]
     },
     "metadata": {},
     "output_type": "display_data"
    },
    {
     "data": {
      "application/vnd.jupyter.widget-view+json": {
       "model_id": "9fe868a988f74f7dab258e78f9a357f9",
       "version_major": 2,
       "version_minor": 0
      },
      "text/plain": [
       "Validation: |          | 0/? [00:00<?, ?it/s]"
      ]
     },
     "metadata": {},
     "output_type": "display_data"
    },
    {
     "data": {
      "application/vnd.jupyter.widget-view+json": {
       "model_id": "b47d6a75e6e94a3bb504db7035242129",
       "version_major": 2,
       "version_minor": 0
      },
      "text/plain": [
       "Validation: |          | 0/? [00:00<?, ?it/s]"
      ]
     },
     "metadata": {},
     "output_type": "display_data"
    },
    {
     "data": {
      "application/vnd.jupyter.widget-view+json": {
       "model_id": "1135ecfd42444e338866d681f5afcb93",
       "version_major": 2,
       "version_minor": 0
      },
      "text/plain": [
       "Validation: |          | 0/? [00:00<?, ?it/s]"
      ]
     },
     "metadata": {},
     "output_type": "display_data"
    },
    {
     "data": {
      "application/vnd.jupyter.widget-view+json": {
       "model_id": "5a6c3cb0a23e4f039d4791b28d68a129",
       "version_major": 2,
       "version_minor": 0
      },
      "text/plain": [
       "Validation: |          | 0/? [00:00<?, ?it/s]"
      ]
     },
     "metadata": {},
     "output_type": "display_data"
    },
    {
     "name": "stderr",
     "output_type": "stream",
     "text": [
      "`Trainer.fit` stopped: `max_epochs=100` reached.\n",
      "FIT Profiler Report\n",
      "\n",
      "-----------------------------------------------------------------------------------------------------------------------------------------------------------------------------------------------------------------------------------------------------------------------------------\n",
      "|  Action                                                                                                                                                               \t|  Mean duration (s)\t|  Num calls      \t|  Total time (s) \t|  Percentage %   \t|\n",
      "-----------------------------------------------------------------------------------------------------------------------------------------------------------------------------------------------------------------------------------------------------------------------------------\n",
      "|  Total                                                                                                                                                                \t|  -              \t|  38087          \t|  397.31         \t|  100 %          \t|\n",
      "-----------------------------------------------------------------------------------------------------------------------------------------------------------------------------------------------------------------------------------------------------------------------------------\n",
      "|  run_training_epoch                                                                                                                                                   \t|  2.8352         \t|  100            \t|  283.52         \t|  71.36          \t|\n",
      "|  [Strategy]SingleDeviceStrategy.validation_step                                                                                                                       \t|  0.12143        \t|  802            \t|  97.383         \t|  24.51          \t|\n",
      "|  [LightningDataModule]CrystDataModule.setup                                                                                                                           \t|  87.329         \t|  1              \t|  87.329         \t|  21.98          \t|\n",
      "|  [Callback]TQDMProgressBar.on_train_batch_end                                                                                                                         \t|  0.21205        \t|  400            \t|  84.82          \t|  21.348         \t|\n",
      "|  run_training_batch                                                                                                                                                   \t|  0.20681        \t|  400            \t|  82.726         \t|  20.821         \t|\n",
      "|  [LightningModule]CDVAE.optimizer_step                                                                                                                                \t|  0.2058         \t|  400            \t|  82.32          \t|  20.719         \t|\n",
      "|  [Strategy]SingleDeviceStrategy.training_step                                                                                                                         \t|  0.16267        \t|  400            \t|  65.069         \t|  16.377         \t|\n",
      "|  [Strategy]SingleDeviceStrategy.backward                                                                                                                              \t|  0.035887       \t|  400            \t|  14.355         \t|  3.613          \t|\n",
      "|  [Callback]ModelCheckpoint{'monitor': 'val_loss', 'mode': 'min', 'every_n_train_steps': 0, 'every_n_epochs': 1, 'train_time_interval': None}.on_train_epoch_end       \t|  0.09621        \t|  100            \t|  9.621          \t|  2.4215         \t|\n",
      "|  [_EvaluationLoop].val_next                                                                                                                                           \t|  0.0068516      \t|  802            \t|  5.495          \t|  1.383          \t|\n",
      "|  [_TrainingEpochLoop].train_dataloader_next                                                                                                                           \t|  0.0077275      \t|  400            \t|  3.091          \t|  0.77798        \t|\n",
      "|  [Strategy]SingleDeviceStrategy.batch_to_device                                                                                                                       \t|  0.0016082      \t|  1202           \t|  1.933          \t|  0.48652        \t|\n",
      "|  [LightningModule]CDVAE.transfer_batch_to_device                                                                                                                      \t|  0.0015291      \t|  1202           \t|  1.838          \t|  0.46261        \t|\n",
      "|  [Callback]TQDMProgressBar.on_validation_start                                                                                                                        \t|  0.01204        \t|  101            \t|  1.216          \t|  0.30606        \t|\n",
      "|  [Callback]TQDMProgressBar.on_validation_batch_end                                                                                                                    \t|  0.0007581      \t|  802            \t|  0.608          \t|  0.15303        \t|\n",
      "|  [LightningModule]CDVAE.on_validation_model_zero_grad                                                                                                                 \t|  0.00485        \t|  100            \t|  0.485          \t|  0.12207        \t|\n",
      "|  [Callback]TQDMProgressBar.on_validation_end                                                                                                                          \t|  0.0041881      \t|  101            \t|  0.423          \t|  0.10647        \t|\n",
      "|  [LightningModule]CDVAE.configure_gradient_clipping                                                                                                                   \t|  0.0008975      \t|  400            \t|  0.359          \t|  0.090357       \t|\n",
      "|  [LightningModule]CDVAE.on_validation_model_eval                                                                                                                      \t|  0.0027921      \t|  101            \t|  0.282          \t|  0.070977       \t|\n",
      "|  [Callback]TQDMProgressBar.on_train_epoch_end                                                                                                                         \t|  0.00267        \t|  100            \t|  0.267          \t|  0.067202       \t|\n",
      "|  [Callback]TQDMProgressBar.on_train_epoch_start                                                                                                                       \t|  0.00203        \t|  100            \t|  0.203          \t|  0.051093       \t|\n",
      "|  [Callback]LearningRateMonitor.on_train_batch_start                                                                                                                   \t|  0.000395       \t|  400            \t|  0.158          \t|  0.039767       \t|\n",
      "|  [LightningModule]CDVAE.optimizer_zero_grad                                                                                                                           \t|  0.0003125      \t|  400            \t|  0.125          \t|  0.031461       \t|\n",
      "|  [Callback]EarlyStopping{'monitor': 'val_loss', 'mode': 'min'}.on_train_epoch_end                                                                                     \t|  0.00111        \t|  100            \t|  0.111          \t|  0.027938       \t|\n",
      "|  [Callback]TQDMProgressBar.on_validation_batch_start                                                                                                                  \t|  0.00011721     \t|  802            \t|  0.094          \t|  0.023659       \t|\n",
      "|  [Callback]ModelSummary.on_fit_start                                                                                                                                  \t|  0.031          \t|  1              \t|  0.031          \t|  0.0078024      \t|\n",
      "|  [Callback]TQDMProgressBar.on_sanity_check_start                                                                                                                      \t|  0.016          \t|  1              \t|  0.016          \t|  0.0040271      \t|\n",
      "|  [Callback]ModelSummary.on_validation_batch_end                                                                                                                       \t|  1.995e-05      \t|  802            \t|  0.016          \t|  0.0040271      \t|\n",
      "|  [Callback]ModelCheckpoint{'monitor': 'val_loss', 'mode': 'min', 'every_n_train_steps': 0, 'every_n_epochs': 1, 'train_time_interval': None}.on_train_batch_start     \t|  4e-05          \t|  400            \t|  0.016          \t|  0.0040271      \t|\n",
      "|  [LightningModule]CDVAE.on_validation_batch_end                                                                                                                       \t|  1.8703e-05     \t|  802            \t|  0.015          \t|  0.0037754      \t|\n",
      "|  [LightningModule]CDVAE.on_train_batch_end                                                                                                                            \t|  3.75e-05       \t|  400            \t|  0.015          \t|  0.0037754      \t|\n",
      "|  [LightningModule]CDVAE.configure_callbacks                                                                                                                           \t|  0.0            \t|  1              \t|  0.0            \t|  0.0            \t|\n",
      "|  [LightningDataModule]CrystDataModule.prepare_data                                                                                                                    \t|  0.0            \t|  1              \t|  0.0            \t|  0.0            \t|\n",
      "|  [LightningModule]CDVAE.prepare_data                                                                                                                                  \t|  0.0            \t|  1              \t|  0.0            \t|  0.0            \t|\n",
      "|  [Callback]LearningRateMonitor.setup                                                                                                                                  \t|  0.0            \t|  1              \t|  0.0            \t|  0.0            \t|\n",
      "|  [Callback]EarlyStopping{'monitor': 'val_loss', 'mode': 'min'}.setup                                                                                                  \t|  0.0            \t|  1              \t|  0.0            \t|  0.0            \t|\n",
      "|  [Callback]TQDMProgressBar.setup                                                                                                                                      \t|  0.0            \t|  1              \t|  0.0            \t|  0.0            \t|\n",
      "|  [Callback]ModelSummary.setup                                                                                                                                         \t|  0.0            \t|  1              \t|  0.0            \t|  0.0            \t|\n",
      "|  [Callback]ModelCheckpoint{'monitor': 'val_loss', 'mode': 'min', 'every_n_train_steps': 0, 'every_n_epochs': 1, 'train_time_interval': None}.setup                    \t|  0.0            \t|  1              \t|  0.0            \t|  0.0            \t|\n",
      "|  [LightningModule]CDVAE.setup                                                                                                                                         \t|  0.0            \t|  1              \t|  0.0            \t|  0.0            \t|\n",
      "|  [LightningModule]CDVAE.configure_optimizers                                                                                                                          \t|  0.0            \t|  1              \t|  0.0            \t|  0.0            \t|\n",
      "|  [Callback]LearningRateMonitor.on_fit_start                                                                                                                           \t|  0.0            \t|  1              \t|  0.0            \t|  0.0            \t|\n",
      "|  [Callback]EarlyStopping{'monitor': 'val_loss', 'mode': 'min'}.on_fit_start                                                                                           \t|  0.0            \t|  1              \t|  0.0            \t|  0.0            \t|\n",
      "|  [Callback]TQDMProgressBar.on_fit_start                                                                                                                               \t|  0.0            \t|  1              \t|  0.0            \t|  0.0            \t|\n",
      "|  [Callback]ModelCheckpoint{'monitor': 'val_loss', 'mode': 'min', 'every_n_train_steps': 0, 'every_n_epochs': 1, 'train_time_interval': None}.on_fit_start             \t|  0.0            \t|  1              \t|  0.0            \t|  0.0            \t|\n",
      "|  [LightningModule]CDVAE.on_fit_start                                                                                                                                  \t|  0.0            \t|  1              \t|  0.0            \t|  0.0            \t|\n",
      "|  [Callback]LearningRateMonitor.on_sanity_check_start                                                                                                                  \t|  0.0            \t|  1              \t|  0.0            \t|  0.0            \t|\n",
      "|  [Callback]EarlyStopping{'monitor': 'val_loss', 'mode': 'min'}.on_sanity_check_start                                                                                  \t|  0.0            \t|  1              \t|  0.0            \t|  0.0            \t|\n",
      "|  [Callback]ModelSummary.on_sanity_check_start                                                                                                                         \t|  0.0            \t|  1              \t|  0.0            \t|  0.0            \t|\n",
      "|  [Callback]ModelCheckpoint{'monitor': 'val_loss', 'mode': 'min', 'every_n_train_steps': 0, 'every_n_epochs': 1, 'train_time_interval': None}.on_sanity_check_start    \t|  0.0            \t|  1              \t|  0.0            \t|  0.0            \t|\n",
      "|  [LightningDataModule]CrystDataModule.val_dataloader                                                                                                                  \t|  0.0            \t|  1              \t|  0.0            \t|  0.0            \t|\n",
      "|  [Callback]LearningRateMonitor.on_validation_start                                                                                                                    \t|  0.0            \t|  101            \t|  0.0            \t|  0.0            \t|\n",
      "|  [Callback]EarlyStopping{'monitor': 'val_loss', 'mode': 'min'}.on_validation_start                                                                                    \t|  0.0            \t|  101            \t|  0.0            \t|  0.0            \t|\n",
      "|  [Callback]ModelSummary.on_validation_start                                                                                                                           \t|  0.0            \t|  101            \t|  0.0            \t|  0.0            \t|\n",
      "|  [Callback]ModelCheckpoint{'monitor': 'val_loss', 'mode': 'min', 'every_n_train_steps': 0, 'every_n_epochs': 1, 'train_time_interval': None}.on_validation_start      \t|  0.0            \t|  101            \t|  0.0            \t|  0.0            \t|\n",
      "|  [LightningModule]CDVAE.on_validation_start                                                                                                                           \t|  0.0            \t|  101            \t|  0.0            \t|  0.0            \t|\n",
      "|  [Strategy]SingleDeviceStrategy.on_validation_start                                                                                                                   \t|  0.0            \t|  101            \t|  0.0            \t|  0.0            \t|\n",
      "|  [Callback]LearningRateMonitor.on_validation_epoch_start                                                                                                              \t|  0.0            \t|  101            \t|  0.0            \t|  0.0            \t|\n",
      "|  [Callback]EarlyStopping{'monitor': 'val_loss', 'mode': 'min'}.on_validation_epoch_start                                                                              \t|  0.0            \t|  101            \t|  0.0            \t|  0.0            \t|\n",
      "|  [Callback]TQDMProgressBar.on_validation_epoch_start                                                                                                                  \t|  0.0            \t|  101            \t|  0.0            \t|  0.0            \t|\n",
      "|  [Callback]ModelSummary.on_validation_epoch_start                                                                                                                     \t|  0.0            \t|  101            \t|  0.0            \t|  0.0            \t|\n",
      "|  [Callback]ModelCheckpoint{'monitor': 'val_loss', 'mode': 'min', 'every_n_train_steps': 0, 'every_n_epochs': 1, 'train_time_interval': None}.on_validation_epoch_start\t|  0.0            \t|  101            \t|  0.0            \t|  0.0            \t|\n",
      "|  [LightningModule]CDVAE.on_validation_epoch_start                                                                                                                     \t|  0.0            \t|  101            \t|  0.0            \t|  0.0            \t|\n",
      "|  [LightningModule]CDVAE.on_before_batch_transfer                                                                                                                      \t|  0.0            \t|  1202           \t|  0.0            \t|  0.0            \t|\n",
      "|  [LightningModule]CDVAE.on_after_batch_transfer                                                                                                                       \t|  0.0            \t|  1202           \t|  0.0            \t|  0.0            \t|\n",
      "|  [Callback]LearningRateMonitor.on_validation_batch_start                                                                                                              \t|  0.0            \t|  802            \t|  0.0            \t|  0.0            \t|\n",
      "|  [Callback]EarlyStopping{'monitor': 'val_loss', 'mode': 'min'}.on_validation_batch_start                                                                              \t|  0.0            \t|  802            \t|  0.0            \t|  0.0            \t|\n",
      "|  [Callback]ModelSummary.on_validation_batch_start                                                                                                                     \t|  0.0            \t|  802            \t|  0.0            \t|  0.0            \t|\n",
      "|  [Callback]ModelCheckpoint{'monitor': 'val_loss', 'mode': 'min', 'every_n_train_steps': 0, 'every_n_epochs': 1, 'train_time_interval': None}.on_validation_batch_start\t|  0.0            \t|  802            \t|  0.0            \t|  0.0            \t|\n",
      "|  [LightningModule]CDVAE.on_validation_batch_start                                                                                                                     \t|  0.0            \t|  802            \t|  0.0            \t|  0.0            \t|\n",
      "|  [Callback]LearningRateMonitor.on_validation_batch_end                                                                                                                \t|  0.0            \t|  802            \t|  0.0            \t|  0.0            \t|\n",
      "|  [Callback]EarlyStopping{'monitor': 'val_loss', 'mode': 'min'}.on_validation_batch_end                                                                                \t|  0.0            \t|  802            \t|  0.0            \t|  0.0            \t|\n",
      "|  [Callback]ModelCheckpoint{'monitor': 'val_loss', 'mode': 'min', 'every_n_train_steps': 0, 'every_n_epochs': 1, 'train_time_interval': None}.on_validation_batch_end  \t|  0.0            \t|  802            \t|  0.0            \t|  0.0            \t|\n",
      "|  [Callback]LearningRateMonitor.on_validation_epoch_end                                                                                                                \t|  0.0            \t|  101            \t|  0.0            \t|  0.0            \t|\n",
      "|  [Callback]EarlyStopping{'monitor': 'val_loss', 'mode': 'min'}.on_validation_epoch_end                                                                                \t|  0.0            \t|  101            \t|  0.0            \t|  0.0            \t|\n",
      "|  [Callback]TQDMProgressBar.on_validation_epoch_end                                                                                                                    \t|  0.0            \t|  101            \t|  0.0            \t|  0.0            \t|\n",
      "|  [Callback]ModelSummary.on_validation_epoch_end                                                                                                                       \t|  0.0            \t|  101            \t|  0.0            \t|  0.0            \t|\n",
      "|  [Callback]ModelCheckpoint{'monitor': 'val_loss', 'mode': 'min', 'every_n_train_steps': 0, 'every_n_epochs': 1, 'train_time_interval': None}.on_validation_epoch_end  \t|  0.0            \t|  101            \t|  0.0            \t|  0.0            \t|\n",
      "|  [LightningModule]CDVAE.on_validation_epoch_end                                                                                                                       \t|  0.0            \t|  101            \t|  0.0            \t|  0.0            \t|\n",
      "|  [Callback]LearningRateMonitor.on_validation_end                                                                                                                      \t|  0.0            \t|  101            \t|  0.0            \t|  0.0            \t|\n",
      "|  [Callback]EarlyStopping{'monitor': 'val_loss', 'mode': 'min'}.on_validation_end                                                                                      \t|  0.0            \t|  101            \t|  0.0            \t|  0.0            \t|\n",
      "|  [Callback]ModelSummary.on_validation_end                                                                                                                             \t|  0.0            \t|  101            \t|  0.0            \t|  0.0            \t|\n",
      "|  [Callback]ModelCheckpoint{'monitor': 'val_loss', 'mode': 'min', 'every_n_train_steps': 0, 'every_n_epochs': 1, 'train_time_interval': None}.on_validation_end        \t|  0.0            \t|  101            \t|  0.0            \t|  0.0            \t|\n",
      "|  [LightningModule]CDVAE.on_validation_end                                                                                                                             \t|  0.0            \t|  101            \t|  0.0            \t|  0.0            \t|\n",
      "|  [Strategy]SingleDeviceStrategy.on_validation_end                                                                                                                     \t|  0.0            \t|  101            \t|  0.0            \t|  0.0            \t|\n",
      "|  [Callback]LearningRateMonitor.on_sanity_check_end                                                                                                                    \t|  0.0            \t|  1              \t|  0.0            \t|  0.0            \t|\n",
      "|  [Callback]EarlyStopping{'monitor': 'val_loss', 'mode': 'min'}.on_sanity_check_end                                                                                    \t|  0.0            \t|  1              \t|  0.0            \t|  0.0            \t|\n",
      "|  [Callback]TQDMProgressBar.on_sanity_check_end                                                                                                                        \t|  0.0            \t|  1              \t|  0.0            \t|  0.0            \t|\n",
      "|  [Callback]ModelSummary.on_sanity_check_end                                                                                                                           \t|  0.0            \t|  1              \t|  0.0            \t|  0.0            \t|\n",
      "|  [Callback]ModelCheckpoint{'monitor': 'val_loss', 'mode': 'min', 'every_n_train_steps': 0, 'every_n_epochs': 1, 'train_time_interval': None}.on_sanity_check_end      \t|  0.0            \t|  1              \t|  0.0            \t|  0.0            \t|\n",
      "|  [LightningDataModule]CrystDataModule.train_dataloader                                                                                                                \t|  0.0            \t|  1              \t|  0.0            \t|  0.0            \t|\n",
      "|  [Callback]LearningRateMonitor.on_train_start                                                                                                                         \t|  0.0            \t|  1              \t|  0.0            \t|  0.0            \t|\n",
      "|  [Callback]EarlyStopping{'monitor': 'val_loss', 'mode': 'min'}.on_train_start                                                                                         \t|  0.0            \t|  1              \t|  0.0            \t|  0.0            \t|\n",
      "|  [Callback]TQDMProgressBar.on_train_start                                                                                                                             \t|  0.0            \t|  1              \t|  0.0            \t|  0.0            \t|\n",
      "|  [Callback]ModelSummary.on_train_start                                                                                                                                \t|  0.0            \t|  1              \t|  0.0            \t|  0.0            \t|\n",
      "|  [Callback]ModelCheckpoint{'monitor': 'val_loss', 'mode': 'min', 'every_n_train_steps': 0, 'every_n_epochs': 1, 'train_time_interval': None}.on_train_start           \t|  0.0            \t|  1              \t|  0.0            \t|  0.0            \t|\n",
      "|  [LightningModule]CDVAE.on_train_start                                                                                                                                \t|  0.0            \t|  1              \t|  0.0            \t|  0.0            \t|\n",
      "|  [Strategy]SingleDeviceStrategy.on_train_start                                                                                                                        \t|  0.0            \t|  1              \t|  0.0            \t|  0.0            \t|\n",
      "|  [Callback]LearningRateMonitor.on_train_epoch_start                                                                                                                   \t|  0.0            \t|  100            \t|  0.0            \t|  0.0            \t|\n",
      "|  [Callback]EarlyStopping{'monitor': 'val_loss', 'mode': 'min'}.on_train_epoch_start                                                                                   \t|  0.0            \t|  100            \t|  0.0            \t|  0.0            \t|\n",
      "|  [Callback]ModelSummary.on_train_epoch_start                                                                                                                          \t|  0.0            \t|  100            \t|  0.0            \t|  0.0            \t|\n",
      "|  [Callback]ModelCheckpoint{'monitor': 'val_loss', 'mode': 'min', 'every_n_train_steps': 0, 'every_n_epochs': 1, 'train_time_interval': None}.on_train_epoch_start     \t|  0.0            \t|  100            \t|  0.0            \t|  0.0            \t|\n",
      "|  [LightningModule]CDVAE.on_train_epoch_start                                                                                                                          \t|  0.0            \t|  100            \t|  0.0            \t|  0.0            \t|\n",
      "|  [Callback]EarlyStopping{'monitor': 'val_loss', 'mode': 'min'}.on_train_batch_start                                                                                   \t|  0.0            \t|  400            \t|  0.0            \t|  0.0            \t|\n",
      "|  [Callback]TQDMProgressBar.on_train_batch_start                                                                                                                       \t|  0.0            \t|  400            \t|  0.0            \t|  0.0            \t|\n",
      "|  [Callback]ModelSummary.on_train_batch_start                                                                                                                          \t|  0.0            \t|  400            \t|  0.0            \t|  0.0            \t|\n",
      "|  [LightningModule]CDVAE.on_train_batch_start                                                                                                                          \t|  0.0            \t|  400            \t|  0.0            \t|  0.0            \t|\n",
      "|  [Strategy]SingleDeviceStrategy.on_train_batch_start                                                                                                                  \t|  0.0            \t|  400            \t|  0.0            \t|  0.0            \t|\n",
      "|  [Callback]LearningRateMonitor.on_before_zero_grad                                                                                                                    \t|  0.0            \t|  400            \t|  0.0            \t|  0.0            \t|\n",
      "|  [Callback]EarlyStopping{'monitor': 'val_loss', 'mode': 'min'}.on_before_zero_grad                                                                                    \t|  0.0            \t|  400            \t|  0.0            \t|  0.0            \t|\n",
      "|  [Callback]TQDMProgressBar.on_before_zero_grad                                                                                                                        \t|  0.0            \t|  400            \t|  0.0            \t|  0.0            \t|\n",
      "|  [Callback]ModelSummary.on_before_zero_grad                                                                                                                           \t|  0.0            \t|  400            \t|  0.0            \t|  0.0            \t|\n",
      "|  [Callback]ModelCheckpoint{'monitor': 'val_loss', 'mode': 'min', 'every_n_train_steps': 0, 'every_n_epochs': 1, 'train_time_interval': None}.on_before_zero_grad      \t|  0.0            \t|  400            \t|  0.0            \t|  0.0            \t|\n",
      "|  [LightningModule]CDVAE.on_before_zero_grad                                                                                                                           \t|  0.0            \t|  400            \t|  0.0            \t|  0.0            \t|\n",
      "|  [Callback]LearningRateMonitor.on_before_backward                                                                                                                     \t|  0.0            \t|  400            \t|  0.0            \t|  0.0            \t|\n",
      "|  [Callback]EarlyStopping{'monitor': 'val_loss', 'mode': 'min'}.on_before_backward                                                                                     \t|  0.0            \t|  400            \t|  0.0            \t|  0.0            \t|\n",
      "|  [Callback]TQDMProgressBar.on_before_backward                                                                                                                         \t|  0.0            \t|  400            \t|  0.0            \t|  0.0            \t|\n",
      "|  [Callback]ModelSummary.on_before_backward                                                                                                                            \t|  0.0            \t|  400            \t|  0.0            \t|  0.0            \t|\n",
      "|  [Callback]ModelCheckpoint{'monitor': 'val_loss', 'mode': 'min', 'every_n_train_steps': 0, 'every_n_epochs': 1, 'train_time_interval': None}.on_before_backward       \t|  0.0            \t|  400            \t|  0.0            \t|  0.0            \t|\n",
      "|  [LightningModule]CDVAE.on_before_backward                                                                                                                            \t|  0.0            \t|  400            \t|  0.0            \t|  0.0            \t|\n",
      "|  [Callback]LearningRateMonitor.on_after_backward                                                                                                                      \t|  0.0            \t|  400            \t|  0.0            \t|  0.0            \t|\n",
      "|  [Callback]EarlyStopping{'monitor': 'val_loss', 'mode': 'min'}.on_after_backward                                                                                      \t|  0.0            \t|  400            \t|  0.0            \t|  0.0            \t|\n",
      "|  [Callback]TQDMProgressBar.on_after_backward                                                                                                                          \t|  0.0            \t|  400            \t|  0.0            \t|  0.0            \t|\n",
      "|  [Callback]ModelSummary.on_after_backward                                                                                                                             \t|  0.0            \t|  400            \t|  0.0            \t|  0.0            \t|\n",
      "|  [Callback]ModelCheckpoint{'monitor': 'val_loss', 'mode': 'min', 'every_n_train_steps': 0, 'every_n_epochs': 1, 'train_time_interval': None}.on_after_backward        \t|  0.0            \t|  400            \t|  0.0            \t|  0.0            \t|\n",
      "|  [LightningModule]CDVAE.on_after_backward                                                                                                                             \t|  0.0            \t|  400            \t|  0.0            \t|  0.0            \t|\n",
      "|  [Callback]LearningRateMonitor.on_before_optimizer_step                                                                                                               \t|  0.0            \t|  400            \t|  0.0            \t|  0.0            \t|\n",
      "|  [Callback]EarlyStopping{'monitor': 'val_loss', 'mode': 'min'}.on_before_optimizer_step                                                                               \t|  0.0            \t|  400            \t|  0.0            \t|  0.0            \t|\n",
      "|  [Callback]TQDMProgressBar.on_before_optimizer_step                                                                                                                   \t|  0.0            \t|  400            \t|  0.0            \t|  0.0            \t|\n",
      "|  [Callback]ModelSummary.on_before_optimizer_step                                                                                                                      \t|  0.0            \t|  400            \t|  0.0            \t|  0.0            \t|\n",
      "|  [Callback]ModelCheckpoint{'monitor': 'val_loss', 'mode': 'min', 'every_n_train_steps': 0, 'every_n_epochs': 1, 'train_time_interval': None}.on_before_optimizer_step \t|  0.0            \t|  400            \t|  0.0            \t|  0.0            \t|\n",
      "|  [LightningModule]CDVAE.on_before_optimizer_step                                                                                                                      \t|  0.0            \t|  400            \t|  0.0            \t|  0.0            \t|\n",
      "|  [Callback]LearningRateMonitor.on_train_batch_end                                                                                                                     \t|  0.0            \t|  400            \t|  0.0            \t|  0.0            \t|\n",
      "|  [Callback]EarlyStopping{'monitor': 'val_loss', 'mode': 'min'}.on_train_batch_end                                                                                     \t|  0.0            \t|  400            \t|  0.0            \t|  0.0            \t|\n",
      "|  [Callback]ModelSummary.on_train_batch_end                                                                                                                            \t|  0.0            \t|  400            \t|  0.0            \t|  0.0            \t|\n",
      "|  [Callback]ModelCheckpoint{'monitor': 'val_loss', 'mode': 'min', 'every_n_train_steps': 0, 'every_n_epochs': 1, 'train_time_interval': None}.on_train_batch_end       \t|  0.0            \t|  400            \t|  0.0            \t|  0.0            \t|\n",
      "|  [Callback]LearningRateMonitor.on_train_epoch_end                                                                                                                     \t|  0.0            \t|  100            \t|  0.0            \t|  0.0            \t|\n",
      "|  [Callback]ModelSummary.on_train_epoch_end                                                                                                                            \t|  0.0            \t|  100            \t|  0.0            \t|  0.0            \t|\n",
      "|  [LightningModule]CDVAE.on_train_epoch_end                                                                                                                            \t|  0.0            \t|  100            \t|  0.0            \t|  0.0            \t|\n",
      "|  [LightningDataModule]CrystDataModule.state_dict                                                                                                                      \t|  0.0            \t|  24             \t|  0.0            \t|  0.0            \t|\n",
      "|  [Callback]LearningRateMonitor.on_save_checkpoint                                                                                                                     \t|  0.0            \t|  24             \t|  0.0            \t|  0.0            \t|\n",
      "|  [Callback]EarlyStopping{'monitor': 'val_loss', 'mode': 'min'}.on_save_checkpoint                                                                                     \t|  0.0            \t|  24             \t|  0.0            \t|  0.0            \t|\n",
      "|  [Callback]TQDMProgressBar.on_save_checkpoint                                                                                                                         \t|  0.0            \t|  24             \t|  0.0            \t|  0.0            \t|\n",
      "|  [Callback]ModelSummary.on_save_checkpoint                                                                                                                            \t|  0.0            \t|  24             \t|  0.0            \t|  0.0            \t|\n",
      "|  [Callback]ModelCheckpoint{'monitor': 'val_loss', 'mode': 'min', 'every_n_train_steps': 0, 'every_n_epochs': 1, 'train_time_interval': None}.on_save_checkpoint       \t|  0.0            \t|  24             \t|  0.0            \t|  0.0            \t|\n",
      "|  [LightningModule]CDVAE.on_save_checkpoint                                                                                                                            \t|  0.0            \t|  24             \t|  0.0            \t|  0.0            \t|\n",
      "|  [LightningModule]CDVAE.lr_scheduler_step                                                                                                                             \t|  0.0            \t|  100            \t|  0.0            \t|  0.0            \t|\n",
      "|  [Callback]LearningRateMonitor.on_train_end                                                                                                                           \t|  0.0            \t|  1              \t|  0.0            \t|  0.0            \t|\n",
      "|  [Callback]EarlyStopping{'monitor': 'val_loss', 'mode': 'min'}.on_train_end                                                                                           \t|  0.0            \t|  1              \t|  0.0            \t|  0.0            \t|\n",
      "|  [Callback]TQDMProgressBar.on_train_end                                                                                                                               \t|  0.0            \t|  1              \t|  0.0            \t|  0.0            \t|\n",
      "|  [Callback]ModelSummary.on_train_end                                                                                                                                  \t|  0.0            \t|  1              \t|  0.0            \t|  0.0            \t|\n",
      "|  [Callback]ModelCheckpoint{'monitor': 'val_loss', 'mode': 'min', 'every_n_train_steps': 0, 'every_n_epochs': 1, 'train_time_interval': None}.on_train_end             \t|  0.0            \t|  1              \t|  0.0            \t|  0.0            \t|\n",
      "|  [LightningModule]CDVAE.on_train_end                                                                                                                                  \t|  0.0            \t|  1              \t|  0.0            \t|  0.0            \t|\n",
      "|  [Strategy]SingleDeviceStrategy.on_train_end                                                                                                                          \t|  0.0            \t|  1              \t|  0.0            \t|  0.0            \t|\n",
      "|  [Callback]LearningRateMonitor.on_fit_end                                                                                                                             \t|  0.0            \t|  1              \t|  0.0            \t|  0.0            \t|\n",
      "|  [Callback]EarlyStopping{'monitor': 'val_loss', 'mode': 'min'}.on_fit_end                                                                                             \t|  0.0            \t|  1              \t|  0.0            \t|  0.0            \t|\n",
      "|  [Callback]TQDMProgressBar.on_fit_end                                                                                                                                 \t|  0.0            \t|  1              \t|  0.0            \t|  0.0            \t|\n",
      "|  [Callback]ModelSummary.on_fit_end                                                                                                                                    \t|  0.0            \t|  1              \t|  0.0            \t|  0.0            \t|\n",
      "|  [Callback]ModelCheckpoint{'monitor': 'val_loss', 'mode': 'min', 'every_n_train_steps': 0, 'every_n_epochs': 1, 'train_time_interval': None}.on_fit_end               \t|  0.0            \t|  1              \t|  0.0            \t|  0.0            \t|\n",
      "|  [LightningModule]CDVAE.on_fit_end                                                                                                                                    \t|  0.0            \t|  1              \t|  0.0            \t|  0.0            \t|\n",
      "|  [LightningDataModule]CrystDataModule.teardown                                                                                                                        \t|  0.0            \t|  1              \t|  0.0            \t|  0.0            \t|\n",
      "|  [Callback]LearningRateMonitor.teardown                                                                                                                               \t|  0.0            \t|  1              \t|  0.0            \t|  0.0            \t|\n",
      "|  [Callback]EarlyStopping{'monitor': 'val_loss', 'mode': 'min'}.teardown                                                                                               \t|  0.0            \t|  1              \t|  0.0            \t|  0.0            \t|\n",
      "|  [Callback]TQDMProgressBar.teardown                                                                                                                                   \t|  0.0            \t|  1              \t|  0.0            \t|  0.0            \t|\n",
      "|  [Callback]ModelSummary.teardown                                                                                                                                      \t|  0.0            \t|  1              \t|  0.0            \t|  0.0            \t|\n",
      "|  [Callback]ModelCheckpoint{'monitor': 'val_loss', 'mode': 'min', 'every_n_train_steps': 0, 'every_n_epochs': 1, 'train_time_interval': None}.teardown                 \t|  0.0            \t|  1              \t|  0.0            \t|  0.0            \t|\n",
      "|  [LightningModule]CDVAE.teardown                                                                                                                                      \t|  0.0            \t|  1              \t|  0.0            \t|  0.0            \t|\n",
      "-----------------------------------------------------------------------------------------------------------------------------------------------------------------------------------------------------------------------------------------------------------------------------------\n",
      "\n"
     ]
    }
   ],
   "source": [
    "trainer.fit(model=model, datamodule=datamodule)"
   ]
  },
  {
   "cell_type": "code",
   "execution_count": 13,
   "metadata": {},
   "outputs": [
    {
     "data": {
      "text/plain": [
       "<bound method CDVAE.predict_property of CDVAE(\n",
       "  (encoder): DimeNetPlusPlusWrap(\n",
       "    (rbf): BesselBasisLayer(\n",
       "      (envelope): Envelope()\n",
       "    )\n",
       "    (sbf): SphericalBasisLayer(\n",
       "      (envelope): Envelope()\n",
       "    )\n",
       "    (emb): EmbeddingBlock(\n",
       "      (emb): Embedding(95, 128)\n",
       "      (lin_rbf): Linear(in_features=6, out_features=128, bias=True)\n",
       "      (lin): Linear(in_features=384, out_features=128, bias=True)\n",
       "    )\n",
       "    (output_blocks): ModuleList(\n",
       "      (0-4): 5 x OutputPPBlock(\n",
       "        (lin_rbf): Linear(in_features=6, out_features=128, bias=False)\n",
       "        (lin_up): Linear(in_features=128, out_features=256, bias=True)\n",
       "        (lins): ModuleList(\n",
       "          (0-2): 3 x Linear(in_features=256, out_features=256, bias=True)\n",
       "        )\n",
       "        (lin): Linear(in_features=256, out_features=256, bias=False)\n",
       "      )\n",
       "    )\n",
       "    (interaction_blocks): ModuleList(\n",
       "      (0-3): 4 x InteractionPPBlock(\n",
       "        (lin_rbf1): Linear(in_features=6, out_features=8, bias=False)\n",
       "        (lin_rbf2): Linear(in_features=8, out_features=128, bias=False)\n",
       "        (lin_sbf1): Linear(in_features=42, out_features=8, bias=False)\n",
       "        (lin_sbf2): Linear(in_features=8, out_features=64, bias=False)\n",
       "        (lin_kj): Linear(in_features=128, out_features=128, bias=True)\n",
       "        (lin_ji): Linear(in_features=128, out_features=128, bias=True)\n",
       "        (lin_down): Linear(in_features=128, out_features=64, bias=False)\n",
       "        (lin_up): Linear(in_features=64, out_features=128, bias=False)\n",
       "        (layers_before_skip): ModuleList(\n",
       "          (0): ResidualLayer(\n",
       "            (lin1): Linear(in_features=128, out_features=128, bias=True)\n",
       "            (lin2): Linear(in_features=128, out_features=128, bias=True)\n",
       "          )\n",
       "        )\n",
       "        (lin): Linear(in_features=128, out_features=128, bias=True)\n",
       "        (layers_after_skip): ModuleList(\n",
       "          (0-1): 2 x ResidualLayer(\n",
       "            (lin1): Linear(in_features=128, out_features=128, bias=True)\n",
       "            (lin2): Linear(in_features=128, out_features=128, bias=True)\n",
       "          )\n",
       "        )\n",
       "      )\n",
       "    )\n",
       "  )\n",
       "  (decoder): GemNetTDecoder(\n",
       "    (gemnet): GemNetT(\n",
       "      (radial_basis): RadialBasis(\n",
       "        (envelope): PolynomialEnvelope()\n",
       "        (rbf): GaussianSmearing()\n",
       "      )\n",
       "      (cbf_basis3): CircularBasisLayer(\n",
       "        (radial_basis): RadialBasis(\n",
       "          (envelope): PolynomialEnvelope()\n",
       "          (rbf): GaussianSmearing()\n",
       "        )\n",
       "      )\n",
       "      (mlp_rbf3): Dense(\n",
       "        (linear): Linear(in_features=128, out_features=16, bias=False)\n",
       "        (_activation): Identity()\n",
       "      )\n",
       "      (mlp_cbf3): EfficientInteractionDownProjection()\n",
       "      (mlp_rbf_h): Dense(\n",
       "        (linear): Linear(in_features=128, out_features=16, bias=False)\n",
       "        (_activation): Identity()\n",
       "      )\n",
       "      (mlp_rbf_out): Dense(\n",
       "        (linear): Linear(in_features=128, out_features=16, bias=False)\n",
       "        (_activation): Identity()\n",
       "      )\n",
       "      (atom_emb): AtomEmbedding(\n",
       "        (embeddings): Embedding(100, 128)\n",
       "      )\n",
       "      (atom_latent_emb): Linear(in_features=384, out_features=128, bias=True)\n",
       "      (edge_emb): EdgeEmbedding(\n",
       "        (dense): Dense(\n",
       "          (linear): Linear(in_features=384, out_features=128, bias=False)\n",
       "          (_activation): ScaledSiLU(\n",
       "            (_activation): SiLU()\n",
       "          )\n",
       "        )\n",
       "      )\n",
       "      (out_blocks): ModuleList(\n",
       "        (0-3): 4 x OutputBlock(\n",
       "          (dense_rbf): Dense(\n",
       "            (linear): Linear(in_features=16, out_features=128, bias=False)\n",
       "            (_activation): Identity()\n",
       "          )\n",
       "          (scale_sum): ScalingFactor()\n",
       "          (layers): ModuleList(\n",
       "            (0): Dense(\n",
       "              (linear): Linear(in_features=128, out_features=128, bias=False)\n",
       "              (_activation): ScaledSiLU(\n",
       "                (_activation): SiLU()\n",
       "              )\n",
       "            )\n",
       "            (1-3): 3 x ResidualLayer(\n",
       "              (dense_mlp): Sequential(\n",
       "                (0): Dense(\n",
       "                  (linear): Linear(in_features=128, out_features=128, bias=False)\n",
       "                  (_activation): ScaledSiLU(\n",
       "                    (_activation): SiLU()\n",
       "                  )\n",
       "                )\n",
       "                (1): Dense(\n",
       "                  (linear): Linear(in_features=128, out_features=128, bias=False)\n",
       "                  (_activation): ScaledSiLU(\n",
       "                    (_activation): SiLU()\n",
       "                  )\n",
       "                )\n",
       "              )\n",
       "            )\n",
       "          )\n",
       "          (seq_energy): ModuleList(\n",
       "            (0): Dense(\n",
       "              (linear): Linear(in_features=128, out_features=128, bias=False)\n",
       "              (_activation): ScaledSiLU(\n",
       "                (_activation): SiLU()\n",
       "              )\n",
       "            )\n",
       "            (1-3): 3 x ResidualLayer(\n",
       "              (dense_mlp): Sequential(\n",
       "                (0): Dense(\n",
       "                  (linear): Linear(in_features=128, out_features=128, bias=False)\n",
       "                  (_activation): ScaledSiLU(\n",
       "                    (_activation): SiLU()\n",
       "                  )\n",
       "                )\n",
       "                (1): Dense(\n",
       "                  (linear): Linear(in_features=128, out_features=128, bias=False)\n",
       "                  (_activation): ScaledSiLU(\n",
       "                    (_activation): SiLU()\n",
       "                  )\n",
       "                )\n",
       "              )\n",
       "            )\n",
       "          )\n",
       "          (out_energy): Dense(\n",
       "            (linear): Linear(in_features=128, out_features=1, bias=False)\n",
       "            (_activation): Identity()\n",
       "          )\n",
       "          (scale_rbf_F): ScalingFactor()\n",
       "          (seq_forces): ModuleList(\n",
       "            (0): Dense(\n",
       "              (linear): Linear(in_features=128, out_features=128, bias=False)\n",
       "              (_activation): ScaledSiLU(\n",
       "                (_activation): SiLU()\n",
       "              )\n",
       "            )\n",
       "            (1-3): 3 x ResidualLayer(\n",
       "              (dense_mlp): Sequential(\n",
       "                (0): Dense(\n",
       "                  (linear): Linear(in_features=128, out_features=128, bias=False)\n",
       "                  (_activation): ScaledSiLU(\n",
       "                    (_activation): SiLU()\n",
       "                  )\n",
       "                )\n",
       "                (1): Dense(\n",
       "                  (linear): Linear(in_features=128, out_features=128, bias=False)\n",
       "                  (_activation): ScaledSiLU(\n",
       "                    (_activation): SiLU()\n",
       "                  )\n",
       "                )\n",
       "              )\n",
       "            )\n",
       "          )\n",
       "          (out_forces): Dense(\n",
       "            (linear): Linear(in_features=128, out_features=1, bias=False)\n",
       "            (_activation): Identity()\n",
       "          )\n",
       "          (dense_rbf_F): Dense(\n",
       "            (linear): Linear(in_features=16, out_features=128, bias=False)\n",
       "            (_activation): Identity()\n",
       "          )\n",
       "        )\n",
       "      )\n",
       "      (int_blocks): ModuleList(\n",
       "        (0-2): 3 x InteractionBlockTripletsOnly(\n",
       "          (dense_ca): Dense(\n",
       "            (linear): Linear(in_features=128, out_features=128, bias=False)\n",
       "            (_activation): ScaledSiLU(\n",
       "              (_activation): SiLU()\n",
       "            )\n",
       "          )\n",
       "          (trip_interaction): TripletInteraction(\n",
       "            (dense_ba): Dense(\n",
       "              (linear): Linear(in_features=128, out_features=128, bias=False)\n",
       "              (_activation): ScaledSiLU(\n",
       "                (_activation): SiLU()\n",
       "              )\n",
       "            )\n",
       "            (mlp_rbf): Dense(\n",
       "              (linear): Linear(in_features=16, out_features=128, bias=False)\n",
       "              (_activation): Identity()\n",
       "            )\n",
       "            (scale_rbf): ScalingFactor()\n",
       "            (mlp_cbf): EfficientInteractionBilinear()\n",
       "            (scale_cbf_sum): ScalingFactor()\n",
       "            (down_projection): Dense(\n",
       "              (linear): Linear(in_features=128, out_features=64, bias=False)\n",
       "              (_activation): ScaledSiLU(\n",
       "                (_activation): SiLU()\n",
       "              )\n",
       "            )\n",
       "            (up_projection_ca): Dense(\n",
       "              (linear): Linear(in_features=64, out_features=128, bias=False)\n",
       "              (_activation): ScaledSiLU(\n",
       "                (_activation): SiLU()\n",
       "              )\n",
       "            )\n",
       "            (up_projection_ac): Dense(\n",
       "              (linear): Linear(in_features=64, out_features=128, bias=False)\n",
       "              (_activation): ScaledSiLU(\n",
       "                (_activation): SiLU()\n",
       "              )\n",
       "            )\n",
       "          )\n",
       "          (layers_before_skip): ModuleList(\n",
       "            (0): ResidualLayer(\n",
       "              (dense_mlp): Sequential(\n",
       "                (0): Dense(\n",
       "                  (linear): Linear(in_features=128, out_features=128, bias=False)\n",
       "                  (_activation): ScaledSiLU(\n",
       "                    (_activation): SiLU()\n",
       "                  )\n",
       "                )\n",
       "                (1): Dense(\n",
       "                  (linear): Linear(in_features=128, out_features=128, bias=False)\n",
       "                  (_activation): ScaledSiLU(\n",
       "                    (_activation): SiLU()\n",
       "                  )\n",
       "                )\n",
       "              )\n",
       "            )\n",
       "          )\n",
       "          (layers_after_skip): ModuleList(\n",
       "            (0-1): 2 x ResidualLayer(\n",
       "              (dense_mlp): Sequential(\n",
       "                (0): Dense(\n",
       "                  (linear): Linear(in_features=128, out_features=128, bias=False)\n",
       "                  (_activation): ScaledSiLU(\n",
       "                    (_activation): SiLU()\n",
       "                  )\n",
       "                )\n",
       "                (1): Dense(\n",
       "                  (linear): Linear(in_features=128, out_features=128, bias=False)\n",
       "                  (_activation): ScaledSiLU(\n",
       "                    (_activation): SiLU()\n",
       "                  )\n",
       "                )\n",
       "              )\n",
       "            )\n",
       "          )\n",
       "          (atom_update): AtomUpdateBlock(\n",
       "            (dense_rbf): Dense(\n",
       "              (linear): Linear(in_features=16, out_features=128, bias=False)\n",
       "              (_activation): Identity()\n",
       "            )\n",
       "            (scale_sum): ScalingFactor()\n",
       "            (layers): ModuleList(\n",
       "              (0): Dense(\n",
       "                (linear): Linear(in_features=128, out_features=128, bias=False)\n",
       "                (_activation): ScaledSiLU(\n",
       "                  (_activation): SiLU()\n",
       "                )\n",
       "              )\n",
       "              (1-3): 3 x ResidualLayer(\n",
       "                (dense_mlp): Sequential(\n",
       "                  (0): Dense(\n",
       "                    (linear): Linear(in_features=128, out_features=128, bias=False)\n",
       "                    (_activation): ScaledSiLU(\n",
       "                      (_activation): SiLU()\n",
       "                    )\n",
       "                  )\n",
       "                  (1): Dense(\n",
       "                    (linear): Linear(in_features=128, out_features=128, bias=False)\n",
       "                    (_activation): ScaledSiLU(\n",
       "                      (_activation): SiLU()\n",
       "                    )\n",
       "                  )\n",
       "                )\n",
       "              )\n",
       "            )\n",
       "          )\n",
       "          (concat_layer): EdgeEmbedding(\n",
       "            (dense): Dense(\n",
       "              (linear): Linear(in_features=384, out_features=128, bias=False)\n",
       "              (_activation): ScaledSiLU(\n",
       "                (_activation): SiLU()\n",
       "              )\n",
       "            )\n",
       "          )\n",
       "          (residual_m): ModuleList(\n",
       "            (0): ResidualLayer(\n",
       "              (dense_mlp): Sequential(\n",
       "                (0): Dense(\n",
       "                  (linear): Linear(in_features=128, out_features=128, bias=False)\n",
       "                  (_activation): ScaledSiLU(\n",
       "                    (_activation): SiLU()\n",
       "                  )\n",
       "                )\n",
       "                (1): Dense(\n",
       "                  (linear): Linear(in_features=128, out_features=128, bias=False)\n",
       "                  (_activation): ScaledSiLU(\n",
       "                    (_activation): SiLU()\n",
       "                  )\n",
       "                )\n",
       "              )\n",
       "            )\n",
       "          )\n",
       "        )\n",
       "      )\n",
       "    )\n",
       "    (fc_atom): Linear(in_features=128, out_features=100, bias=True)\n",
       "  )\n",
       "  (fc_mu): Linear(in_features=256, out_features=256, bias=True)\n",
       "  (fc_var): Linear(in_features=256, out_features=256, bias=True)\n",
       "  (fc_num_atoms): Sequential(\n",
       "    (0): Linear(in_features=256, out_features=256, bias=True)\n",
       "    (1): ReLU()\n",
       "    (2): Linear(in_features=256, out_features=21, bias=True)\n",
       "  )\n",
       "  (fc_lattice): Sequential(\n",
       "    (0): Linear(in_features=256, out_features=256, bias=True)\n",
       "    (1): ReLU()\n",
       "    (2): Linear(in_features=256, out_features=6, bias=True)\n",
       "  )\n",
       "  (fc_composition): Sequential(\n",
       "    (0): Linear(in_features=256, out_features=256, bias=True)\n",
       "    (1): ReLU()\n",
       "    (2): Linear(in_features=256, out_features=100, bias=True)\n",
       "  )\n",
       "  (fc_property): Sequential(\n",
       "    (0): Linear(in_features=256, out_features=256, bias=True)\n",
       "    (1): ReLU()\n",
       "    (2): Linear(in_features=256, out_features=1, bias=True)\n",
       "  )\n",
       ")>"
      ]
     },
     "execution_count": 13,
     "metadata": {},
     "output_type": "execute_result"
    }
   ],
   "source": [
    "model.predict_property"
   ]
  },
  {
   "cell_type": "code",
   "execution_count": 26,
   "metadata": {},
   "outputs": [],
   "source": [
    "import itertools\n",
    "import numpy as np\n",
    "import torch\n",
    "import hydra\n",
    "\n",
    "from scipy.spatial.distance import pdist\n",
    "from scipy.spatial.distance import cdist\n",
    "from hydra.experimental import compose\n",
    "from hydra import initialize_config_dir\n",
    "from pathlib import Path\n",
    "\n",
    "import smact\n",
    "from smact.screening import pauling_test\n",
    "\n",
    "from cdvae.common.constants import CompScalerMeans, CompScalerStds\n",
    "from cdvae.common.data_utils import StandardScaler, chemical_symbols\n",
    "from cdvae.pl_data.dataset import TensorCrystDataset\n",
    "from cdvae.pl_data.datamodule import worker_init_fn\n",
    "\n",
    "from torch_geometric.data import DataLoader\n",
    "\n",
    "CompScaler = StandardScaler(\n",
    "    means=np.array(CompScalerMeans),\n",
    "    stds=np.array(CompScalerStds),\n",
    "    replace_nan_token=0.)\n",
    "\n",
    "\n",
    "def load_data(file_path):\n",
    "    if file_path[-3:] == 'npy':\n",
    "        data = np.load(file_path, allow_pickle=True).item()\n",
    "        for k, v in data.items():\n",
    "            if k == 'input_data_batch':\n",
    "                for k1, v1 in data[k].items():\n",
    "                    data[k][k1] = torch.from_numpy(v1)\n",
    "            else:\n",
    "                data[k] = torch.from_numpy(v).unsqueeze(0)\n",
    "    else:\n",
    "        data = torch.load(file_path)\n",
    "    return data\n",
    "\n",
    "\n",
    "def get_model_path(eval_model_name):\n",
    "    import cdvae\n",
    "    model_path = (\n",
    "        Path(cdvae.__file__).parent / 'prop_models' / eval_model_name)\n",
    "    return model_path\n",
    "\n",
    "\n",
    "def load_config(model_path):\n",
    "    with initialize_config_dir(str(model_path)):\n",
    "        cfg = compose(config_name='hparams')\n",
    "    return cfg\n",
    "\n",
    "\n",
    "def load_model(model_path, load_data=False, testing=True):\n",
    "    with initialize_config_dir(str(model_path)):\n",
    "        cfg = compose(config_name='hparams')\n",
    "        model_cls = hydra.utils.get_class(cfg.model._target_)\n",
    "        \n",
    "        ckpts = list(model_path.glob('*.ckpt'))\n",
    "        if len(ckpts) > 0:\n",
    "            ckpt_epochs = np.array(\n",
    "                [int(ckpt.parts[-1].split('-')[0].split('=')[1]) for ckpt in ckpts])\n",
    "            ckpt = str(ckpts[ckpt_epochs.argsort()[-1]])\n",
    "        model = model_cls.load_from_checkpoint(ckpt)\n",
    "        model.lattice_scaler = torch.load(model_path / 'lattice_scaler.pt')\n",
    "        model.scaler = torch.load(model_path / 'prop_scaler.pt')\n",
    "\n",
    "        if load_data:\n",
    "            datamodule = hydra.utils.instantiate(\n",
    "                cfg.data.datamodule, _recursive_=False, scaler_path=model_path\n",
    "            )\n",
    "            if testing:\n",
    "                datamodule.setup('test')\n",
    "                test_loader = datamodule.test_dataloader()[0]\n",
    "            else:\n",
    "                datamodule.setup()\n",
    "                test_loader = datamodule.val_dataloader()[0]\n",
    "        else:\n",
    "            test_loader = None\n",
    "\n",
    "    return model, test_loader, cfg\n",
    "\n",
    "\n",
    "def get_crystals_list(\n",
    "        frac_coords, atom_types, lengths, angles, num_atoms):\n",
    "    \"\"\"\n",
    "    args:\n",
    "        frac_coords: (num_atoms, 3)\n",
    "        atom_types: (num_atoms)\n",
    "        lengths: (num_crystals)\n",
    "        angles: (num_crystals)\n",
    "        num_atoms: (num_crystals)\n",
    "    \"\"\"\n",
    "    assert frac_coords.size(0) == atom_types.size(0) == num_atoms.sum()\n",
    "    assert lengths.size(0) == angles.size(0) == num_atoms.size(0)\n",
    "\n",
    "    start_idx = 0\n",
    "    crystal_array_list = []\n",
    "    for batch_idx, num_atom in enumerate(num_atoms.tolist()):\n",
    "        cur_frac_coords = frac_coords.narrow(0, start_idx, num_atom)\n",
    "        cur_atom_types = atom_types.narrow(0, start_idx, num_atom)\n",
    "        cur_lengths = lengths[batch_idx]\n",
    "        cur_angles = angles[batch_idx]\n",
    "\n",
    "        crystal_array_list.append({\n",
    "            'frac_coords': cur_frac_coords.detach().cpu().numpy(),\n",
    "            'atom_types': cur_atom_types.detach().cpu().numpy(),\n",
    "            'lengths': cur_lengths.detach().cpu().numpy(),\n",
    "            'angles': cur_angles.detach().cpu().numpy(),\n",
    "        })\n",
    "        start_idx = start_idx + num_atom\n",
    "    return crystal_array_list\n",
    "\n",
    "\n",
    "def smact_validity(comp, count,\n",
    "                   use_pauling_test=True,\n",
    "                   include_alloys=True):\n",
    "    elem_symbols = tuple([chemical_symbols[elem] for elem in comp])\n",
    "    space = smact.element_dictionary(elem_symbols)\n",
    "    smact_elems = [e[1] for e in space.items()]\n",
    "    electronegs = [e.pauling_eneg for e in smact_elems]\n",
    "    ox_combos = [e.oxidation_states for e in smact_elems]\n",
    "    if len(set(elem_symbols)) == 1:\n",
    "        return True\n",
    "    if include_alloys:\n",
    "        is_metal_list = [elem_s in smact.metals for elem_s in elem_symbols]\n",
    "        if all(is_metal_list):\n",
    "            return True\n",
    "\n",
    "    threshold = np.max(count)\n",
    "    compositions = []\n",
    "    for ox_states in itertools.product(*ox_combos):\n",
    "        stoichs = [(c,) for c in count]\n",
    "        # Test for charge balance\n",
    "        cn_e, cn_r = smact.neutral_ratios(\n",
    "            ox_states, stoichs=stoichs, threshold=threshold)\n",
    "        # Electronegativity test\n",
    "        if cn_e:\n",
    "            if use_pauling_test:\n",
    "                try:\n",
    "                    electroneg_OK = pauling_test(ox_states, electronegs)\n",
    "                except TypeError:\n",
    "                    # if no electronegativity data, assume it is okay\n",
    "                    electroneg_OK = True\n",
    "            else:\n",
    "                electroneg_OK = True\n",
    "            if electroneg_OK:\n",
    "                for ratio in cn_r:\n",
    "                    compositions.append(\n",
    "                        tuple([elem_symbols, ox_states, ratio]))\n",
    "    compositions = [(i[0], i[2]) for i in compositions]\n",
    "    compositions = list(set(compositions))\n",
    "    if len(compositions) > 0:\n",
    "        return True\n",
    "    else:\n",
    "        return False\n",
    "\n",
    "\n",
    "def structure_validity(crystal, cutoff=0.5):\n",
    "    dist_mat = crystal.distance_matrix\n",
    "    # Pad diagonal with a large number\n",
    "    dist_mat = dist_mat + np.diag(\n",
    "        np.ones(dist_mat.shape[0]) * (cutoff + 10.))\n",
    "    if dist_mat.min() < cutoff or crystal.volume < 0.1:\n",
    "        return False\n",
    "    else:\n",
    "        return True\n",
    "\n",
    "\n",
    "def get_fp_pdist(fp_array):\n",
    "    if isinstance(fp_array, list):\n",
    "        fp_array = np.array(fp_array)\n",
    "    fp_pdists = pdist(fp_array)\n",
    "    return fp_pdists.mean()\n",
    "\n",
    "\n",
    "def prop_model_eval(eval_model_name, crystal_array_list):\n",
    "\n",
    "    model_path = get_model_path(eval_model_name)\n",
    "\n",
    "    model, _, _ = load_model(model_path)\n",
    "    cfg = load_config(model_path)\n",
    "\n",
    "    dataset = TensorCrystDataset(\n",
    "        crystal_array_list, cfg.data.niggli, cfg.data.primitive,\n",
    "        cfg.data.graph_method, cfg.data.preprocess_workers,\n",
    "        cfg.data.lattice_scale_method)\n",
    "\n",
    "    dataset.scaler = model.scaler.copy()\n",
    "\n",
    "    loader = DataLoader(\n",
    "        dataset,\n",
    "        shuffle=False,\n",
    "        batch_size=256,\n",
    "        num_workers=0,\n",
    "        worker_init_fn=worker_init_fn)\n",
    "\n",
    "    model.eval()\n",
    "\n",
    "    all_preds = []\n",
    "\n",
    "    for batch in loader:\n",
    "        preds = model(batch)\n",
    "        model.scaler.match_device(preds)\n",
    "        scaled_preds = model.scaler.inverse_transform(preds)\n",
    "        all_preds.append(scaled_preds.detach().cpu().numpy())\n",
    "\n",
    "    all_preds = np.concatenate(all_preds, axis=0).squeeze(1)\n",
    "    return all_preds.tolist()\n",
    "\n",
    "\n",
    "def filter_fps(struc_fps, comp_fps):\n",
    "    assert len(struc_fps) == len(comp_fps)\n",
    "\n",
    "    filtered_struc_fps, filtered_comp_fps = [], []\n",
    "\n",
    "    for struc_fp, comp_fp in zip(struc_fps, comp_fps):\n",
    "        if struc_fp is not None and comp_fp is not None:\n",
    "            filtered_struc_fps.append(struc_fp)\n",
    "            filtered_comp_fps.append(comp_fp)\n",
    "    return filtered_struc_fps, filtered_comp_fps\n",
    "\n",
    "\n",
    "def compute_cov(crys, gt_crys,\n",
    "                struc_cutoff, comp_cutoff, num_gen_crystals=None):\n",
    "    struc_fps = [c.struct_fp for c in crys]\n",
    "    comp_fps = [c.comp_fp for c in crys]\n",
    "    gt_struc_fps = [c.struct_fp for c in gt_crys]\n",
    "    gt_comp_fps = [c.comp_fp for c in gt_crys]\n",
    "\n",
    "    assert len(struc_fps) == len(comp_fps)\n",
    "    assert len(gt_struc_fps) == len(gt_comp_fps)\n",
    "\n",
    "    # Use number of crystal before filtering to compute COV\n",
    "    if num_gen_crystals is None:\n",
    "        num_gen_crystals = len(struc_fps)\n",
    "\n",
    "    struc_fps, comp_fps = filter_fps(struc_fps, comp_fps)\n",
    "\n",
    "    comp_fps = CompScaler.transform(comp_fps)\n",
    "    gt_comp_fps = CompScaler.transform(gt_comp_fps)\n",
    "\n",
    "    struc_fps = np.array(struc_fps)\n",
    "    gt_struc_fps = np.array(gt_struc_fps)\n",
    "    comp_fps = np.array(comp_fps)\n",
    "    gt_comp_fps = np.array(gt_comp_fps)\n",
    "\n",
    "    struc_pdist = cdist(struc_fps, gt_struc_fps)\n",
    "    comp_pdist = cdist(comp_fps, gt_comp_fps)\n",
    "\n",
    "    struc_recall_dist = struc_pdist.min(axis=0)\n",
    "    struc_precision_dist = struc_pdist.min(axis=1)\n",
    "    comp_recall_dist = comp_pdist.min(axis=0)\n",
    "    comp_precision_dist = comp_pdist.min(axis=1)\n",
    "\n",
    "    cov_recall = np.mean(np.logical_and(\n",
    "        struc_recall_dist <= struc_cutoff,\n",
    "        comp_recall_dist <= comp_cutoff))\n",
    "    cov_precision = np.sum(np.logical_and(\n",
    "        struc_precision_dist <= struc_cutoff,\n",
    "        comp_precision_dist <= comp_cutoff)) / num_gen_crystals\n",
    "\n",
    "    metrics_dict = {\n",
    "        'cov_recall': cov_recall,\n",
    "        'cov_precision': cov_precision,\n",
    "        'amsd_recall': np.mean(struc_recall_dist),\n",
    "        'amsd_precision': np.mean(struc_precision_dist),\n",
    "        'amcd_recall': np.mean(comp_recall_dist),\n",
    "        'amcd_precision': np.mean(comp_precision_dist),\n",
    "    }\n",
    "\n",
    "    combined_dist_dict = {\n",
    "        'struc_recall_dist': struc_recall_dist.tolist(),\n",
    "        'struc_precision_dist': struc_precision_dist.tolist(),\n",
    "        'comp_recall_dist': comp_recall_dist.tolist(),\n",
    "        'comp_precision_dist': comp_precision_dist.tolist(),\n",
    "    }\n",
    "\n",
    "    return metrics_dict, combined_dist_dict\n"
   ]
  },
  {
   "cell_type": "code",
   "execution_count": 2,
   "metadata": {},
   "outputs": [],
   "source": [
    "import torch\n",
    "import pandas as pd\n",
    "import numpy as np\n",
    "data_opt = torch.load(r'D:\\workspace\\Code\\cdvae\\hydra\\singlerun\\2024-04-09\\test\\eval_opt.pt')"
   ]
  },
  {
   "cell_type": "code",
   "execution_count": 13,
   "metadata": {},
   "outputs": [],
   "source": [
    "data_opt.keys()\n",
    "frac_coods = np.array(data_opt['frac_coords'][0].to('cpu'))\n",
    "frac_coods = np.split(frac_coods,np.cumsum(data_opt['num_atoms'][0].to('cpu')))\n",
    "atom_types = np.split(np.array(data_opt['atom_types'][0].to('cpu')),np.cumsum(data_opt['num_atoms'][0].to('cpu')))\n",
    "length = np.array(data_opt['lengths'][0].to('cpu'))\n",
    "angles = np.array(data_opt['angles'][0].to('cpu'))"
   ]
  },
  {
   "cell_type": "code",
   "execution_count": 14,
   "metadata": {},
   "outputs": [
    {
     "name": "stdout",
     "output_type": "stream",
     "text": [
      "[[0.03925183 0.02223347 0.7035007 ]\n",
      " [0.5297483  0.52336556 0.20139557]\n",
      " [0.5227035  0.01934117 0.7082438 ]\n",
      " [0.02788405 0.01535716 0.20439924]\n",
      " [0.02507971 0.52006435 0.69656855]] [ 8  7  7 40  8] [3.9745882 4.0116253 3.9719865] [90. 90. 90.]\n"
     ]
    }
   ],
   "source": [
    "i = 0\n",
    "print(frac_coods[0],atom_types[0],length[0],angles[0])"
   ]
  },
  {
   "cell_type": "code",
   "execution_count": 17,
   "metadata": {},
   "outputs": [
    {
     "ename": "ModuleNotFoundError",
     "evalue": "No module named 'pymatgen.analysis.structure_plotter'",
     "output_type": "error",
     "traceback": [
      "\u001b[1;31m---------------------------------------------------------------------------\u001b[0m",
      "\u001b[1;31mModuleNotFoundError\u001b[0m                       Traceback (most recent call last)",
      "Cell \u001b[1;32mIn[17], line 2\u001b[0m\n\u001b[0;32m      1\u001b[0m \u001b[38;5;28;01mfrom\u001b[39;00m \u001b[38;5;21;01mpymatgen\u001b[39;00m\u001b[38;5;21;01m.\u001b[39;00m\u001b[38;5;21;01mcore\u001b[39;00m \u001b[38;5;28;01mimport\u001b[39;00m Structure\n\u001b[1;32m----> 2\u001b[0m \u001b[38;5;28;01mfrom\u001b[39;00m \u001b[38;5;21;01mpymatgen\u001b[39;00m\u001b[38;5;21;01m.\u001b[39;00m\u001b[38;5;21;01manalysis\u001b[39;00m\u001b[38;5;21;01m.\u001b[39;00m\u001b[38;5;21;01mstructure_plotter\u001b[39;00m \u001b[38;5;28;01mimport\u001b[39;00m StructurePlotter\n\u001b[0;32m      4\u001b[0m \u001b[38;5;66;03m# 定义晶格长度和角度\u001b[39;00m\n\u001b[0;32m      5\u001b[0m lengths \u001b[38;5;241m=\u001b[39m [\u001b[38;5;241m3.9745882\u001b[39m, \u001b[38;5;241m4.0116253\u001b[39m, \u001b[38;5;241m3.9719865\u001b[39m]\n",
      "\u001b[1;31mModuleNotFoundError\u001b[0m: No module named 'pymatgen.analysis.structure_plotter'"
     ]
    }
   ],
   "source": []
  },
  {
   "cell_type": "code",
   "execution_count": 4,
   "metadata": {},
   "outputs": [
    {
     "data": {
      "application/vnd.jupyter.widget-view+json": {
       "model_id": "ec62f12c575b4203816e36c955d18fe5",
       "version_major": 2,
       "version_minor": 0
      },
      "text/plain": [
       "NGLWidget()"
      ]
     },
     "metadata": {},
     "output_type": "display_data"
    }
   ],
   "source": [
    "from pymatgen.core.structure import Structure\n",
    "\n",
    "import nglview as nv\n",
    "\n",
    "# 创建一个晶体结构对象\n",
    "structure = Structure(\n",
    "    lattice=[ in range(3)],\n",
    "    species=[\"Co\", \"Tl\", \"N\", \"N\", \"O\"],\n",
    "    coords=[\n",
    "        [0.00265771, 0.00000000, 0.00000000],\n",
    "        [0.50015703, 0.50000000, 0.50000000],\n",
    "        [0.50108143, 0.00000000, 0.50000000],\n",
    "        [0.50108143, 0.50000000, 0.00000000],\n",
    "        [0.00050506, 0.50000000, 0.50000000]\n",
    "    ]\n",
    ")\n",
    "\n",
    "\n",
    "# 创建一个 StructureVis 对象\n",
    "view = nv.show_pymatgen(structure)\n",
    "view.add_unitcell()\n",
    "view"
   ]
  }
 ],
 "metadata": {
  "kernelspec": {
   "display_name": "Python 3 (ipykernel)",
   "language": "python",
   "name": "python3"
  },
  "language_info": {
   "codemirror_mode": {
    "name": "ipython",
    "version": 3
   },
   "file_extension": ".py",
   "mimetype": "text/x-python",
   "name": "python",
   "nbconvert_exporter": "python",
   "pygments_lexer": "ipython3",
   "version": "3.8.19"
  }
 },
 "nbformat": 4,
 "nbformat_minor": 4
}
