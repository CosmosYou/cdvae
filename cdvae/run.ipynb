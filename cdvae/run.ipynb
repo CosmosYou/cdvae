{
 "cells": [
  {
   "cell_type": "code",
   "execution_count": 1,
   "metadata": {},
   "outputs": [],
   "source": [
    "import random\n",
    "from typing import Optional, Sequence\n",
    "from pathlib import Path\n",
    "\n",
    "import hydra\n",
    "import numpy as np\n",
    "import omegaconf\n",
    "import torch\n",
    "import pytorch_lightning as pl\n",
    "from omegaconf import DictConfig\n",
    "from torch.utils.data import Dataset\n",
    "from torch_geometric.data import DataLoader\n",
    "from cdvae.common.utils import log_hyperparameters, PROJECT_ROOT\n",
    "from cdvae.common.data_utils import get_scaler_from_data_list\n",
    "\n",
    "from pathlib import Path\n",
    "from typing import List\n",
    "\n",
    "import hydra\n",
    "import numpy as np\n",
    "import torch\n",
    "import omegaconf\n",
    "import pytorch_lightning as pl\n",
    "from hydra.core.hydra_config import HydraConfig\n",
    "from omegaconf import DictConfig, OmegaConf\n",
    "from pytorch_lightning import seed_everything, Callback\n",
    "from pytorch_lightning.callbacks import (\n",
    "    EarlyStopping,\n",
    "    LearningRateMonitor,\n",
    "    ModelCheckpoint,\n",
    ")\n",
    "from pytorch_lightning.loggers import WandbLogger\n"
   ]
  },
  {
   "cell_type": "code",
   "execution_count": 2,
   "metadata": {},
   "outputs": [],
   "source": [
    "\n",
    "def worker_init_fn(id: int):\n",
    "    \"\"\"\n",
    "    DataLoaders workers init function.\n",
    "\n",
    "    Initialize the numpy.random seed correctly for each worker, so that\n",
    "    random augmentations between workers and/or epochs are not identical.\n",
    "\n",
    "    If a global seed is set, the augmentations are deterministic.\n",
    "\n",
    "    https://pytorch.org/docs/stable/notes/randomness.html#dataloader\n",
    "    \"\"\"\n",
    "    uint64_seed = torch.initial_seed()\n",
    "    ss = np.random.SeedSequence([uint64_seed])\n",
    "    # More than 128 bits (4 32-bit words) would be overkill.\n",
    "    np.random.seed(ss.generate_state(4))\n",
    "    random.seed(uint64_seed)\n",
    "\n",
    "\n",
    "class CrystDataModule(pl.LightningDataModule):\n",
    "    def __init__(\n",
    "        self,\n",
    "        datasets: DictConfig,\n",
    "        num_workers: DictConfig,\n",
    "        batch_size: DictConfig,\n",
    "        scaler_path=None,\n",
    "    ):\n",
    "        super().__init__()\n",
    "        self.datasets = datasets\n",
    "        self.num_workers = num_workers\n",
    "        self.batch_size = batch_size\n",
    "\n",
    "        self.train_dataset: Optional[Dataset] = None\n",
    "        self.val_datasets: Optional[Sequence[Dataset]] = None\n",
    "        self.test_datasets: Optional[Sequence[Dataset]] = None\n",
    "\n",
    "        self.get_scaler(scaler_path)\n",
    "\n",
    "    def prepare_data(self) -> None:\n",
    "        # download only\n",
    "        pass\n",
    "\n",
    "    def get_scaler(self, scaler_path):\n",
    "        # Load once to compute property scaler\n",
    "        if scaler_path is None:\n",
    "            train_dataset = hydra.utils.instantiate(self.datasets.train)\n",
    "            self.lattice_scaler = get_scaler_from_data_list(\n",
    "                train_dataset.cached_data,\n",
    "                key='scaled_lattice')\n",
    "            self.scaler = get_scaler_from_data_list(\n",
    "                train_dataset.cached_data,\n",
    "                key=train_dataset.prop)\n",
    "        else:\n",
    "            self.lattice_scaler = torch.load(\n",
    "                Path(scaler_path) / 'lattice_scaler.pt')\n",
    "            self.scaler = torch.load(Path(scaler_path) / 'prop_scaler.pt')\n",
    "\n",
    "    def setup(self, stage: Optional[str] = None):\n",
    "        \"\"\"\n",
    "        construct datasets and assign data scalers.\n",
    "        \"\"\"\n",
    "        if stage is None or stage == \"fit\":\n",
    "            self.train_dataset = hydra.utils.instantiate(self.datasets.train)\n",
    "            self.val_datasets = [\n",
    "                hydra.utils.instantiate(dataset_cfg)\n",
    "                for dataset_cfg in self.datasets.val\n",
    "            ]\n",
    "\n",
    "            self.train_dataset.lattice_scaler = self.lattice_scaler\n",
    "            self.train_dataset.scaler = self.scaler\n",
    "            for val_dataset in self.val_datasets:\n",
    "                val_dataset.lattice_scaler = self.lattice_scaler\n",
    "                val_dataset.scaler = self.scaler\n",
    "\n",
    "        if stage is None or stage == \"test\":\n",
    "            self.test_datasets = [\n",
    "                hydra.utils.instantiate(dataset_cfg)\n",
    "                for dataset_cfg in self.datasets.test\n",
    "            ]\n",
    "            for test_dataset in self.test_datasets:\n",
    "                test_dataset.lattice_scaler = self.lattice_scaler\n",
    "                test_dataset.scaler = self.scaler\n",
    "\n",
    "    def train_dataloader(self) -> DataLoader:\n",
    "        return DataLoader(\n",
    "            self.train_dataset,\n",
    "            shuffle=True,\n",
    "            batch_size=self.batch_size.train,\n",
    "            num_workers=self.num_workers.train,\n",
    "            worker_init_fn=worker_init_fn,\n",
    "        )\n",
    "\n",
    "    def val_dataloader(self) -> Sequence[DataLoader]:\n",
    "        return [\n",
    "            DataLoader(\n",
    "                dataset,\n",
    "                shuffle=False,\n",
    "                batch_size=self.batch_size.val,\n",
    "                num_workers=self.num_workers.val,\n",
    "                worker_init_fn=worker_init_fn,\n",
    "            )\n",
    "            for dataset in self.val_datasets\n",
    "        ]\n",
    "\n",
    "    def test_dataloader(self) -> Sequence[DataLoader]:\n",
    "        return [\n",
    "            DataLoader(\n",
    "                dataset,\n",
    "                shuffle=False,\n",
    "                batch_size=self.batch_size.test,\n",
    "                num_workers=self.num_workers.test,\n",
    "                worker_init_fn=worker_init_fn,\n",
    "            )\n",
    "            for dataset in self.test_datasets\n",
    "        ]\n",
    "\n",
    "    def __repr__(self) -> str:\n",
    "        return (\n",
    "            f\"{self.__class__.__name__}(\"\n",
    "            f\"{self.datasets=}, \"\n",
    "            f\"{self.num_workers=}, \"\n",
    "            f\"{self.batch_size=})\"\n",
    "        )\n",
    "\n",
    "def build_callbacks(cfg: DictConfig) -> List[Callback]:\n",
    "    callbacks: List[Callback] = []\n",
    "\n",
    "    if \"lr_monitor\" in cfg.logging:\n",
    "        hydra.utils.log.info(\"Adding callback <LearningRateMonitor>\")\n",
    "        callbacks.append(\n",
    "            LearningRateMonitor(\n",
    "                logging_interval=cfg.logging.lr_monitor.logging_interval,\n",
    "                log_momentum=cfg.logging.lr_monitor.log_momentum,\n",
    "            )\n",
    "        )\n",
    "\n",
    "    if \"early_stopping\" in cfg.train:\n",
    "        hydra.utils.log.info(\"Adding callback <EarlyStopping>\")\n",
    "        callbacks.append(\n",
    "            EarlyStopping(\n",
    "                monitor=cfg.train.monitor_metric,\n",
    "                mode=cfg.train.monitor_metric_mode,\n",
    "                patience=cfg.train.early_stopping.patience,\n",
    "                verbose=cfg.train.early_stopping.verbose,\n",
    "            )\n",
    "        )\n",
    "\n",
    "    if \"model_checkpoints\" in cfg.train:\n",
    "        hydra.utils.log.info(\"Adding callback <ModelCheckpoint>\")\n",
    "        callbacks.append(\n",
    "            ModelCheckpoint(\n",
    "                dirpath=Path('D:\\\\workspace\\\\code\\\\cdvae\\\\hydra\\\\singlerun\\\\2024-04-09\\\\test'),\n",
    "                monitor=cfg.train.monitor_metric,\n",
    "                mode=cfg.train.monitor_metric_mode,\n",
    "                # save_top_k=cfg.train.model_checkpoints.save_top_k,\n",
    "                save_top_k=1,\n",
    "                verbose=cfg.train.model_checkpoints.verbose,\n",
    "            )\n",
    "        )\n",
    "\n",
    "    return callbacks\n"
   ]
  },
  {
   "cell_type": "code",
   "execution_count": 3,
   "metadata": {},
   "outputs": [
    {
     "name": "stderr",
     "output_type": "stream",
     "text": [
      "d:\\miniconda\\envs\\cdvae\\lib\\site-packages\\hydra\\_internal\\defaults_list.py:251: UserWarning: In 'default.yaml': Defaults list is missing `_self_`. See https://hydra.cc/docs/1.2/upgrades/1.0_to_1.1/default_composition_order for more information\n",
      "  warnings.warn(msg, UserWarning)\n"
     ]
    },
    {
     "name": "stdout",
     "output_type": "stream",
     "text": [
      "{'data': {'root_path': '${oc.env:PROJECT_ROOT}/data/perov_5', 'prop': 'heat_ref', 'num_targets': 1, 'niggli': True, 'primitive': False, 'graph_method': 'crystalnn', 'lattice_scale_method': 'scale_length', 'preprocess_workers': 30, 'readout': 'mean', 'max_atoms': 20, 'otf_graph': False, 'eval_model_name': 'perovskite', 'train_max_epochs': 3000, 'early_stopping_patience': 100000, 'teacher_forcing_max_epoch': 1500, 'datamodule': {'_target_': 'cdvae.pl_data.datamodule.CrystDataModule', 'datasets': {'train': {'_target_': 'cdvae.pl_data.dataset.CrystDataset', 'name': 'Formation energy train', 'path': '${data.root_path}/train.csv', 'prop': '${data.prop}', 'niggli': '${data.niggli}', 'primitive': '${data.primitive}', 'graph_method': '${data.graph_method}', 'lattice_scale_method': '${data.lattice_scale_method}', 'preprocess_workers': '${data.preprocess_workers}'}, 'val': [{'_target_': 'cdvae.pl_data.dataset.CrystDataset', 'name': 'Formation energy val', 'path': '${data.root_path}/val.csv', 'prop': '${data.prop}', 'niggli': '${data.niggli}', 'primitive': '${data.primitive}', 'graph_method': '${data.graph_method}', 'lattice_scale_method': '${data.lattice_scale_method}', 'preprocess_workers': '${data.preprocess_workers}'}], 'test': [{'_target_': 'cdvae.pl_data.dataset.CrystDataset', 'name': 'Formation energy test', 'path': '${data.root_path}/test.csv', 'prop': '${data.prop}', 'niggli': '${data.niggli}', 'primitive': '${data.primitive}', 'graph_method': '${data.graph_method}', 'lattice_scale_method': '${data.lattice_scale_method}', 'preprocess_workers': '${data.preprocess_workers}'}]}, 'num_workers': {'train': 0, 'val': 0, 'test': 0}, 'batch_size': {'train': 32, 'val': 16, 'test': 16}}}, 'logging': {'val_check_interval': 5, 'progress_bar_refresh_rate': 20, 'wandb': {'name': '${expname}', 'project': 'crystal_generation_mit', 'entity': None, 'log_model': True, 'mode': 'online', 'group': '${expname}'}, 'wandb_watch': {'log': 'all', 'log_freq': 500}, 'lr_monitor': {'logging_interval': 'step', 'log_momentum': False}}, 'model': {'encoder': {'_target_': 'cdvae.pl_modules.gnn.DimeNetPlusPlusWrap', 'num_targets': '${data.num_targets}', 'hidden_channels': 128, 'num_blocks': 4, 'int_emb_size': 64, 'basis_emb_size': 8, 'out_emb_channels': 256, 'num_spherical': 7, 'num_radial': 6, 'otf_graph': '${data.otf_graph}', 'cutoff': 7.0, 'max_num_neighbors': 20, 'envelope_exponent': 5, 'num_before_skip': 1, 'num_after_skip': 2, 'num_output_layers': 3, 'readout': '${data.readout}'}, 'decoder': {'_target_': 'cdvae.pl_modules.decoder.GemNetTDecoder', 'hidden_dim': 128, 'latent_dim': '${model.latent_dim}', 'max_neighbors': '${model.max_neighbors}', 'radius': '${model.radius}', 'scale_file': '${oc.env:PROJECT_ROOT}/cdvae/pl_modules/gemnet/gemnet-dT.json'}, '_target_': 'cdvae.pl_modules.model.CDVAE', 'hidden_dim': 256, 'latent_dim': 256, 'fc_num_layers': 1, 'max_atoms': '${data.max_atoms}', 'cost_natom': 1.0, 'cost_coord': 10.0, 'cost_type': 1.0, 'cost_lattice': 10.0, 'cost_composition': 1.0, 'cost_edge': 10.0, 'cost_property': 1.0, 'beta': 0.01, 'teacher_forcing_lattice': True, 'teacher_forcing_max_epoch': '${data.teacher_forcing_max_epoch}', 'max_neighbors': 20, 'radius': 7.0, 'sigma_begin': 10.0, 'sigma_end': 0.01, 'type_sigma_begin': 5.0, 'type_sigma_end': 0.01, 'num_noise_level': 50, 'predict_property': True}, 'optim': {'optimizer': {'_target_': 'torch.optim.Adam', 'lr': 0.001, 'betas': [0.9, 0.999], 'eps': 1e-08, 'weight_decay': 0}, 'use_lr_scheduler': True, 'lr_scheduler': {'_target_': 'torch.optim.lr_scheduler.ReduceLROnPlateau', 'factor': 0.6, 'patience': 30, 'min_lr': 0.0001}}, 'train': {'deterministic': False, 'random_seed': 42, 'pl_trainer': {'fast_dev_run': False, 'gpus': 1, 'precision': 32, 'max_epochs': '${data.train_max_epochs}', 'accumulate_grad_batches': 1, 'num_sanity_val_steps': 2, 'gradient_clip_val': 0.5, 'gradient_clip_algorithm': 'value', 'profiler': 'simple'}, 'monitor_metric': 'val_loss', 'monitor_metric_mode': 'min', 'early_stopping': {'patience': '${data.early_stopping_patience}', 'verbose': False}, 'model_checkpoints': {'save_top_k': 1, 'verbose': False}}, 'expname': 'test', 'core': {'version': '0.0.1', 'tags': ['${now:%Y-%m-%d}']}}\n"
     ]
    }
   ],
   "source": [
    "import os\n",
    "from hydra import initialize, initialize_config_module, initialize_config_dir, compose\n",
    "from omegaconf import OmegaConf\n",
    "\n",
    "with initialize(version_base=None, config_path=\"..\\conf\"):\n",
    "    cfg = compose(config_name=\"default.yaml\")\n",
    "    print(cfg)"
   ]
  },
  {
   "cell_type": "code",
   "execution_count": 4,
   "metadata": {},
   "outputs": [
    {
     "name": "stderr",
     "output_type": "stream",
     "text": [
      "d:\\workspace\\code\\cdvae\\cdvae\\pl_data\\datamodule.py:142: UserWarning: \n",
      "The version_base parameter is not specified.\n",
      "Please specify a compatability version level, or None.\n",
      "Will assume defaults for version 1.1\n",
      "  @hydra.main(config_path=str(PROJECT_ROOT / \"conf\"), config_name=\"default\")\n",
      "d:\\workspace\\code\\cdvae\\cdvae\\pl_data\\dataset.py:126: UserWarning: \n",
      "The version_base parameter is not specified.\n",
      "Please specify a compatability version level, or None.\n",
      "Will assume defaults for version 1.1\n",
      "  @hydra.main(config_path=str(PROJECT_ROOT / \"conf\"), config_name=\"default\")\n"
     ]
    },
    {
     "data": {
      "application/vnd.jupyter.widget-view+json": {
       "model_id": "c3a331350532413d868ed674bc754c88",
       "version_major": 2,
       "version_minor": 0
      },
      "text/plain": [
       "  0%|          | 0/116 [00:00<?, ?it/s]"
      ]
     },
     "metadata": {},
     "output_type": "display_data"
    },
    {
     "name": "stderr",
     "output_type": "stream",
     "text": [
      "d:\\workspace\\code\\cdvae\\cdvae\\common\\data_utils.py:644: UserWarning: Creating a tensor from a list of numpy.ndarrays is extremely slow. Please consider converting the list to a single numpy.ndarray with numpy.array() before converting to a tensor. (Triggered internally at C:\\actions-runner\\_work\\pytorch\\pytorch\\builder\\windows\\pytorch\\torch\\csrc\\utils\\tensor_new.cpp:278.)\n",
      "  targets = torch.tensor([d[key] for d in data_list])\n",
      "d:\\workspace\\code\\cdvae\\cdvae\\common\\data_utils.py:612: UserWarning: To copy construct from a tensor, it is recommended to use sourceTensor.clone().detach() or sourceTensor.clone().detach().requires_grad_(True), rather than torch.tensor(sourceTensor).\n",
      "  X = torch.tensor(X, dtype=torch.float)\n"
     ]
    }
   ],
   "source": [
    "datamodule: pl.LightningDataModule = hydra.utils.instantiate(\n",
    "        cfg.data.datamodule, _recursive_=False\n",
    "    )"
   ]
  },
  {
   "cell_type": "code",
   "execution_count": 6,
   "metadata": {},
   "outputs": [
    {
     "name": "stderr",
     "output_type": "stream",
     "text": [
      "d:\\workspace\\code\\cdvae\\cdvae\\pl_modules\\model.py:635: UserWarning: \n",
      "The version_base parameter is not specified.\n",
      "Please specify a compatability version level, or None.\n",
      "Will assume defaults for version 1.1\n",
      "  @hydra.main(config_path=str(PROJECT_ROOT / \"conf\"), config_name=\"default\")\n"
     ]
    }
   ],
   "source": [
    "# Instantiate model\n",
    "hydra.utils.log.info(f\"Instantiating <{cfg.model._target_}>\")\n",
    "model: pl.LightningModule = hydra.utils.instantiate(\n",
    "    cfg.model,\n",
    "    optim=cfg.optim,\n",
    "    data=cfg.data,\n",
    "    logging=cfg.logging,\n",
    "    _recursive_=False,\n",
    ")"
   ]
  },
  {
   "cell_type": "code",
   "execution_count": 11,
   "metadata": {},
   "outputs": [],
   "source": [
    "model.lattice_scaler = datamodule.lattice_scaler.copy()\n",
    "model.scaler = datamodule.scaler.copy()\n",
    "torch.save(datamodule.lattice_scaler,  'D:\\\\workspace\\\\code\\\\cdvae\\\\hydra\\\\singlerun\\\\2024-04-09\\\\test\\\\lattice_scaler.pt')\n",
    "torch.save(datamodule.scaler, 'D:\\\\workspace\\\\code\\\\cdvae\\\\hydra\\\\singlerun\\\\2024-04-09\\\\test\\\\prop_scaler.pt')"
   ]
  },
  {
   "cell_type": "code",
   "execution_count": 7,
   "metadata": {},
   "outputs": [
    {
     "name": "stdout",
     "output_type": "stream",
     "text": [
      "D:\\workspace\\code\\cdvae\\hydra\\singlerun\\2024-04-09\\test\\epoch=68-step=276.ckpt\n"
     ]
    }
   ],
   "source": [
    "hydra_dir = Path('D:\\\\workspace\\\\code\\\\cdvae\\\\hydra\\\\singlerun\\\\2024-04-09\\\\test\\\\')\n",
    "# Load checkpoint (if exist)\n",
    "ckpts = list(hydra_dir.glob('*.ckpt'))\n",
    "if len(ckpts) > 0:\n",
    "    ckpt_epochs = np.array([int(ckpt.parts[-1].split('-')[0].split('=')[1]) for ckpt in ckpts])\n",
    "    ckpt = str(ckpts[ckpt_epochs.argsort()[-1]])\n",
    "    hydra.utils.log.info(f\"found checkpoint: {ckpt}\")\n",
    "else:\n",
    "    ckpt = None\n",
    "\n",
    "print(ckpt)"
   ]
  },
  {
   "cell_type": "code",
   "execution_count": 8,
   "metadata": {},
   "outputs": [
    {
     "name": "stdout",
     "output_type": "stream",
     "text": [
      "{'fast_dev_run': False, 'gpus': 1, 'precision': 32, 'max_epochs': '${data.train_max_epochs}', 'accumulate_grad_batches': 1, 'num_sanity_val_steps': 2, 'gradient_clip_val': 0.5, 'gradient_clip_algorithm': 'value', 'profiler': 'simple'}\n"
     ]
    }
   ],
   "source": [
    "print(cfg.train.pl_trainer)"
   ]
  },
  {
   "cell_type": "code",
   "execution_count": 9,
   "metadata": {},
   "outputs": [
    {
     "name": "stderr",
     "output_type": "stream",
     "text": [
      "GPU available: True (cuda), used: True\n",
      "TPU available: False, using: 0 TPU cores\n",
      "IPU available: False, using: 0 IPUs\n",
      "HPU available: False, using: 0 HPUs\n",
      "d:\\miniconda\\envs\\cdvae\\lib\\site-packages\\pytorch_lightning\\trainer\\connectors\\logger_connector\\logger_connector.py:75: Starting from v1.9.0, `tensorboardX` has been removed as a dependency of the `pytorch_lightning` package, due to potential conflicts with other packages in the ML ecosystem. For this reason, `logger=True` will use `CSVLogger` as the default logger, unless the `tensorboard` or `tensorboardX` packages are found. Please `pip install lightning[extra]` or one of them to enable TensorBoard support by default\n"
     ]
    }
   ],
   "source": [
    "hydra.utils.log.info(\"Instantiating the Trainer\")\n",
    "callbacks: List[Callback] = build_callbacks(cfg=cfg)\n",
    "trainer = pl.Trainer(\n",
    "    default_root_dir=hydra_dir,\n",
    "    logger=None,\n",
    "    callbacks=callbacks,\n",
    "    deterministic=cfg.train.deterministic,\n",
    "    check_val_every_n_epoch=1,\n",
    "    enable_progress_bar=True,\n",
    "    profiler = 'simple',\n",
    "    precision=32,\n",
    "    max_epochs= 100,\n",
    "    accumulate_grad_batches=1,\n",
    "    num_sanity_val_steps=2,\n",
    "    gradient_clip_val=0.5,\n",
    "    gradient_clip_algorithm='value'\n",
    ")\n",
    "log_hyperparameters(trainer=trainer, model=model, cfg=cfg)\n"
   ]
  },
  {
   "cell_type": "code",
   "execution_count": 12,
   "metadata": {},
   "outputs": [
    {
     "data": {
      "application/vnd.jupyter.widget-view+json": {
       "model_id": "99d30aaf22c2426fa87ae4bc5ca576e1",
       "version_major": 2,
       "version_minor": 0
      },
      "text/plain": [
       "  0%|          | 0/116 [00:00<?, ?it/s]"
      ]
     },
     "metadata": {},
     "output_type": "display_data"
    },
    {
     "data": {
      "application/vnd.jupyter.widget-view+json": {
       "model_id": "5e5a63455d8f46daa50991748ff21642",
       "version_major": 2,
       "version_minor": 0
      },
      "text/plain": [
       "  0%|          | 0/122 [00:00<?, ?it/s]"
      ]
     },
     "metadata": {},
     "output_type": "display_data"
    },
    {
     "name": "stderr",
     "output_type": "stream",
     "text": [
      "d:\\miniconda\\envs\\cdvae\\lib\\site-packages\\pytorch_lightning\\callbacks\\model_checkpoint.py:653: Checkpoint directory D:\\workspace\\Code\\cdvae\\hydra\\singlerun\\2024-04-09\\test exists and is not empty.\n",
      "LOCAL_RANK: 0 - CUDA_VISIBLE_DEVICES: [0]\n",
      "\n",
      "  | Name           | Type                | Params\n",
      "-------------------------------------------------------\n",
      "0 | encoder        | DimeNetPlusPlusWrap | 2.2 M \n",
      "1 | decoder        | GemNetTDecoder      | 2.3 M \n",
      "2 | fc_mu          | Linear              | 65.8 K\n",
      "3 | fc_var         | Linear              | 65.8 K\n",
      "4 | fc_num_atoms   | Sequential          | 71.2 K\n",
      "5 | fc_lattice     | Sequential          | 67.3 K\n",
      "6 | fc_composition | Sequential          | 91.5 K\n",
      "7 | fc_property    | Sequential          | 66.0 K\n",
      "  | other params   | n/a                 | 100   \n",
      "-------------------------------------------------------\n",
      "5.0 M     Trainable params\n",
      "117       Non-trainable params\n",
      "5.0 M     Total params\n",
      "19.946    Total estimated model params size (MB)\n"
     ]
    },
    {
     "data": {
      "application/vnd.jupyter.widget-view+json": {
       "model_id": "64bcffed6af3458c9f283ed56546b0cf",
       "version_major": 2,
       "version_minor": 0
      },
      "text/plain": [
       "Sanity Checking: |          | 0/? [00:00<?, ?it/s]"
      ]
     },
     "metadata": {},
     "output_type": "display_data"
    },
    {
     "name": "stderr",
     "output_type": "stream",
     "text": [
      "d:\\miniconda\\envs\\cdvae\\lib\\site-packages\\torch_geometric\\deprecation.py:26: UserWarning: 'data.DataLoader' is deprecated, use 'loader.DataLoader' instead\n",
      "  warnings.warn(out)\n",
      "d:\\miniconda\\envs\\cdvae\\lib\\site-packages\\pytorch_lightning\\trainer\\connectors\\data_connector.py:441: The 'val_dataloader' does not have many workers which may be a bottleneck. Consider increasing the value of the `num_workers` argument` to `num_workers=7` in the `DataLoader` to improve performance.\n",
      "d:\\workspace\\code\\cdvae\\cdvae\\common\\data_utils.py:622: UserWarning: To copy construct from a tensor, it is recommended to use sourceTensor.clone().detach() or sourceTensor.clone().detach().requires_grad_(True), rather than torch.tensor(sourceTensor).\n",
      "  X = torch.tensor(X, dtype=torch.float)\n",
      "d:\\workspace\\code\\cdvae\\cdvae\\common\\data_utils.py:618: UserWarning: To copy construct from a tensor, it is recommended to use sourceTensor.clone().detach() or sourceTensor.clone().detach().requires_grad_(True), rather than torch.tensor(sourceTensor).\n",
      "  X = torch.tensor(X, dtype=torch.float)\n",
      "d:\\miniconda\\envs\\cdvae\\lib\\site-packages\\pytorch_lightning\\utilities\\data.py:77: Trying to infer the `batch_size` from an ambiguous collection. The batch size we found is 2. To avoid any miscalculations, use `self.log(..., batch_size=batch_size)`.\n",
      "d:\\miniconda\\envs\\cdvae\\lib\\site-packages\\pytorch_lightning\\trainer\\connectors\\data_connector.py:441: The 'train_dataloader' does not have many workers which may be a bottleneck. Consider increasing the value of the `num_workers` argument` to `num_workers=7` in the `DataLoader` to improve performance.\n",
      "d:\\miniconda\\envs\\cdvae\\lib\\site-packages\\pytorch_lightning\\loops\\fit_loop.py:298: The number of training batches (4) is smaller than the logging interval Trainer(log_every_n_steps=50). Set a lower value for log_every_n_steps if you want to see logs for the training epoch.\n"
     ]
    },
    {
     "data": {
      "application/vnd.jupyter.widget-view+json": {
       "model_id": "2fea8ac495fb48eea17dec2e7b3aab28",
       "version_major": 2,
       "version_minor": 0
      },
      "text/plain": [
       "Training: |          | 0/? [00:00<?, ?it/s]"
      ]
     },
     "metadata": {},
     "output_type": "display_data"
    },
    {
     "data": {
      "application/vnd.jupyter.widget-view+json": {
       "model_id": "26400b4894d144cd839220d01cd78fe0",
       "version_major": 2,
       "version_minor": 0
      },
      "text/plain": [
       "Validation: |          | 0/? [00:00<?, ?it/s]"
      ]
     },
     "metadata": {},
     "output_type": "display_data"
    },
    {
     "data": {
      "application/vnd.jupyter.widget-view+json": {
       "model_id": "0ff1ce7618c945cea77d3d172f91d2ca",
       "version_major": 2,
       "version_minor": 0
      },
      "text/plain": [
       "Validation: |          | 0/? [00:00<?, ?it/s]"
      ]
     },
     "metadata": {},
     "output_type": "display_data"
    },
    {
     "data": {
      "application/vnd.jupyter.widget-view+json": {
       "model_id": "4756502d6bef46b493b50295f39539de",
       "version_major": 2,
       "version_minor": 0
      },
      "text/plain": [
       "Validation: |          | 0/? [00:00<?, ?it/s]"
      ]
     },
     "metadata": {},
     "output_type": "display_data"
    },
    {
     "data": {
      "application/vnd.jupyter.widget-view+json": {
       "model_id": "0bcfaacf8f3949739e8a19bfd53892ef",
       "version_major": 2,
       "version_minor": 0
      },
      "text/plain": [
       "Validation: |          | 0/? [00:00<?, ?it/s]"
      ]
     },
     "metadata": {},
     "output_type": "display_data"
    },
    {
     "data": {
      "application/vnd.jupyter.widget-view+json": {
       "model_id": "9c74a38f04fa449fa35215c74934bdaa",
       "version_major": 2,
       "version_minor": 0
      },
      "text/plain": [
       "Validation: |          | 0/? [00:00<?, ?it/s]"
      ]
     },
     "metadata": {},
     "output_type": "display_data"
    },
    {
     "data": {
      "application/vnd.jupyter.widget-view+json": {
       "model_id": "2b0f92b22be2482889f47d2232251a39",
       "version_major": 2,
       "version_minor": 0
      },
      "text/plain": [
       "Validation: |          | 0/? [00:00<?, ?it/s]"
      ]
     },
     "metadata": {},
     "output_type": "display_data"
    },
    {
     "data": {
      "application/vnd.jupyter.widget-view+json": {
       "model_id": "7968c5fb61594cf1abe7b7bc8a8a85e0",
       "version_major": 2,
       "version_minor": 0
      },
      "text/plain": [
       "Validation: |          | 0/? [00:00<?, ?it/s]"
      ]
     },
     "metadata": {},
     "output_type": "display_data"
    },
    {
     "data": {
      "application/vnd.jupyter.widget-view+json": {
       "model_id": "e7f2386700a3438dbd2dd0bd0294d3c2",
       "version_major": 2,
       "version_minor": 0
      },
      "text/plain": [
       "Validation: |          | 0/? [00:00<?, ?it/s]"
      ]
     },
     "metadata": {},
     "output_type": "display_data"
    },
    {
     "data": {
      "application/vnd.jupyter.widget-view+json": {
       "model_id": "fd92e373f6674fedbcfc89ea448aba83",
       "version_major": 2,
       "version_minor": 0
      },
      "text/plain": [
       "Validation: |          | 0/? [00:00<?, ?it/s]"
      ]
     },
     "metadata": {},
     "output_type": "display_data"
    },
    {
     "data": {
      "application/vnd.jupyter.widget-view+json": {
       "model_id": "a28296f1632742a0a1e41ea19aff093d",
       "version_major": 2,
       "version_minor": 0
      },
      "text/plain": [
       "Validation: |          | 0/? [00:00<?, ?it/s]"
      ]
     },
     "metadata": {},
     "output_type": "display_data"
    },
    {
     "data": {
      "application/vnd.jupyter.widget-view+json": {
       "model_id": "80d99e59f1a943d98b69a4b107de3f7f",
       "version_major": 2,
       "version_minor": 0
      },
      "text/plain": [
       "Validation: |          | 0/? [00:00<?, ?it/s]"
      ]
     },
     "metadata": {},
     "output_type": "display_data"
    },
    {
     "data": {
      "application/vnd.jupyter.widget-view+json": {
       "model_id": "c36e6f3f0f994c9b9d6f06153e74b9b0",
       "version_major": 2,
       "version_minor": 0
      },
      "text/plain": [
       "Validation: |          | 0/? [00:00<?, ?it/s]"
      ]
     },
     "metadata": {},
     "output_type": "display_data"
    },
    {
     "data": {
      "application/vnd.jupyter.widget-view+json": {
       "model_id": "a4f3778cb6ec4cfd985a1421fc97241d",
       "version_major": 2,
       "version_minor": 0
      },
      "text/plain": [
       "Validation: |          | 0/? [00:00<?, ?it/s]"
      ]
     },
     "metadata": {},
     "output_type": "display_data"
    },
    {
     "data": {
      "application/vnd.jupyter.widget-view+json": {
       "model_id": "681ef3f9a0ae4dcb9b39ac3dbf5a6a9e",
       "version_major": 2,
       "version_minor": 0
      },
      "text/plain": [
       "Validation: |          | 0/? [00:00<?, ?it/s]"
      ]
     },
     "metadata": {},
     "output_type": "display_data"
    },
    {
     "data": {
      "application/vnd.jupyter.widget-view+json": {
       "model_id": "b9bebfcb358c4c52b1403028a86e321a",
       "version_major": 2,
       "version_minor": 0
      },
      "text/plain": [
       "Validation: |          | 0/? [00:00<?, ?it/s]"
      ]
     },
     "metadata": {},
     "output_type": "display_data"
    },
    {
     "data": {
      "application/vnd.jupyter.widget-view+json": {
       "model_id": "18948828bfd447128ebea84df67d8dea",
       "version_major": 2,
       "version_minor": 0
      },
      "text/plain": [
       "Validation: |          | 0/? [00:00<?, ?it/s]"
      ]
     },
     "metadata": {},
     "output_type": "display_data"
    },
    {
     "data": {
      "application/vnd.jupyter.widget-view+json": {
       "model_id": "e6d53ebdd8a141ddb0f61e04740dd2c2",
       "version_major": 2,
       "version_minor": 0
      },
      "text/plain": [
       "Validation: |          | 0/? [00:00<?, ?it/s]"
      ]
     },
     "metadata": {},
     "output_type": "display_data"
    },
    {
     "data": {
      "application/vnd.jupyter.widget-view+json": {
       "model_id": "797caf0a6eac48daa7fa98b14844e8a1",
       "version_major": 2,
       "version_minor": 0
      },
      "text/plain": [
       "Validation: |          | 0/? [00:00<?, ?it/s]"
      ]
     },
     "metadata": {},
     "output_type": "display_data"
    },
    {
     "data": {
      "application/vnd.jupyter.widget-view+json": {
       "model_id": "dff41ce31e224bc596b99752b697e095",
       "version_major": 2,
       "version_minor": 0
      },
      "text/plain": [
       "Validation: |          | 0/? [00:00<?, ?it/s]"
      ]
     },
     "metadata": {},
     "output_type": "display_data"
    },
    {
     "data": {
      "application/vnd.jupyter.widget-view+json": {
       "model_id": "2120ad09e84b4253a4ddb3be10be1468",
       "version_major": 2,
       "version_minor": 0
      },
      "text/plain": [
       "Validation: |          | 0/? [00:00<?, ?it/s]"
      ]
     },
     "metadata": {},
     "output_type": "display_data"
    },
    {
     "data": {
      "application/vnd.jupyter.widget-view+json": {
       "model_id": "92ae77e10ac547b78950ac6a5f4be81c",
       "version_major": 2,
       "version_minor": 0
      },
      "text/plain": [
       "Validation: |          | 0/? [00:00<?, ?it/s]"
      ]
     },
     "metadata": {},
     "output_type": "display_data"
    },
    {
     "data": {
      "application/vnd.jupyter.widget-view+json": {
       "model_id": "3b87ef82677e4ab287c050fb08acc2a6",
       "version_major": 2,
       "version_minor": 0
      },
      "text/plain": [
       "Validation: |          | 0/? [00:00<?, ?it/s]"
      ]
     },
     "metadata": {},
     "output_type": "display_data"
    },
    {
     "data": {
      "application/vnd.jupyter.widget-view+json": {
       "model_id": "19260a0fc7d34ae19fbbdb9e1216f8ff",
       "version_major": 2,
       "version_minor": 0
      },
      "text/plain": [
       "Validation: |          | 0/? [00:00<?, ?it/s]"
      ]
     },
     "metadata": {},
     "output_type": "display_data"
    },
    {
     "data": {
      "application/vnd.jupyter.widget-view+json": {
       "model_id": "20b8c08be09d4dc98319ee00caf0cad4",
       "version_major": 2,
       "version_minor": 0
      },
      "text/plain": [
       "Validation: |          | 0/? [00:00<?, ?it/s]"
      ]
     },
     "metadata": {},
     "output_type": "display_data"
    },
    {
     "data": {
      "application/vnd.jupyter.widget-view+json": {
       "model_id": "26983a6b01584ca481833ad78ae92a99",
       "version_major": 2,
       "version_minor": 0
      },
      "text/plain": [
       "Validation: |          | 0/? [00:00<?, ?it/s]"
      ]
     },
     "metadata": {},
     "output_type": "display_data"
    },
    {
     "data": {
      "application/vnd.jupyter.widget-view+json": {
       "model_id": "83e299387b594def88b74cf9bdd4ba8d",
       "version_major": 2,
       "version_minor": 0
      },
      "text/plain": [
       "Validation: |          | 0/? [00:00<?, ?it/s]"
      ]
     },
     "metadata": {},
     "output_type": "display_data"
    },
    {
     "data": {
      "application/vnd.jupyter.widget-view+json": {
       "model_id": "db7f3f3518f44387ba2e3dd49406798a",
       "version_major": 2,
       "version_minor": 0
      },
      "text/plain": [
       "Validation: |          | 0/? [00:00<?, ?it/s]"
      ]
     },
     "metadata": {},
     "output_type": "display_data"
    },
    {
     "data": {
      "application/vnd.jupyter.widget-view+json": {
       "model_id": "71856ea7be9b430ea369057be8c52109",
       "version_major": 2,
       "version_minor": 0
      },
      "text/plain": [
       "Validation: |          | 0/? [00:00<?, ?it/s]"
      ]
     },
     "metadata": {},
     "output_type": "display_data"
    },
    {
     "data": {
      "application/vnd.jupyter.widget-view+json": {
       "model_id": "64b5883ffcb94ccbb2341fc32bcfa059",
       "version_major": 2,
       "version_minor": 0
      },
      "text/plain": [
       "Validation: |          | 0/? [00:00<?, ?it/s]"
      ]
     },
     "metadata": {},
     "output_type": "display_data"
    },
    {
     "data": {
      "application/vnd.jupyter.widget-view+json": {
       "model_id": "a43b0f9b73f54fb689bef5f403d18175",
       "version_major": 2,
       "version_minor": 0
      },
      "text/plain": [
       "Validation: |          | 0/? [00:00<?, ?it/s]"
      ]
     },
     "metadata": {},
     "output_type": "display_data"
    },
    {
     "data": {
      "application/vnd.jupyter.widget-view+json": {
       "model_id": "3ef3f784ddf746549b8f500f9f914a88",
       "version_major": 2,
       "version_minor": 0
      },
      "text/plain": [
       "Validation: |          | 0/? [00:00<?, ?it/s]"
      ]
     },
     "metadata": {},
     "output_type": "display_data"
    },
    {
     "data": {
      "application/vnd.jupyter.widget-view+json": {
       "model_id": "3078a3ba3aa048f2a78667e5864196e0",
       "version_major": 2,
       "version_minor": 0
      },
      "text/plain": [
       "Validation: |          | 0/? [00:00<?, ?it/s]"
      ]
     },
     "metadata": {},
     "output_type": "display_data"
    },
    {
     "data": {
      "application/vnd.jupyter.widget-view+json": {
       "model_id": "d2e839a4bcc2440fb165b4eb3232481f",
       "version_major": 2,
       "version_minor": 0
      },
      "text/plain": [
       "Validation: |          | 0/? [00:00<?, ?it/s]"
      ]
     },
     "metadata": {},
     "output_type": "display_data"
    },
    {
     "data": {
      "application/vnd.jupyter.widget-view+json": {
       "model_id": "ee405d01db6947dcb9b81ac00d616533",
       "version_major": 2,
       "version_minor": 0
      },
      "text/plain": [
       "Validation: |          | 0/? [00:00<?, ?it/s]"
      ]
     },
     "metadata": {},
     "output_type": "display_data"
    },
    {
     "data": {
      "application/vnd.jupyter.widget-view+json": {
       "model_id": "91ae7d3beb89493ab2e7a20994c19b5c",
       "version_major": 2,
       "version_minor": 0
      },
      "text/plain": [
       "Validation: |          | 0/? [00:00<?, ?it/s]"
      ]
     },
     "metadata": {},
     "output_type": "display_data"
    },
    {
     "data": {
      "application/vnd.jupyter.widget-view+json": {
       "model_id": "88ec9d4189d74ec185732985a0d9ccb6",
       "version_major": 2,
       "version_minor": 0
      },
      "text/plain": [
       "Validation: |          | 0/? [00:00<?, ?it/s]"
      ]
     },
     "metadata": {},
     "output_type": "display_data"
    },
    {
     "data": {
      "application/vnd.jupyter.widget-view+json": {
       "model_id": "114bf179695448d2a65d928dd15ae7a3",
       "version_major": 2,
       "version_minor": 0
      },
      "text/plain": [
       "Validation: |          | 0/? [00:00<?, ?it/s]"
      ]
     },
     "metadata": {},
     "output_type": "display_data"
    },
    {
     "data": {
      "application/vnd.jupyter.widget-view+json": {
       "model_id": "6d74b1f7f3474ebb85ffcdd5e2da2148",
       "version_major": 2,
       "version_minor": 0
      },
      "text/plain": [
       "Validation: |          | 0/? [00:00<?, ?it/s]"
      ]
     },
     "metadata": {},
     "output_type": "display_data"
    },
    {
     "data": {
      "application/vnd.jupyter.widget-view+json": {
       "model_id": "217c83eb9b884b6bbb0aa7507ca05b45",
       "version_major": 2,
       "version_minor": 0
      },
      "text/plain": [
       "Validation: |          | 0/? [00:00<?, ?it/s]"
      ]
     },
     "metadata": {},
     "output_type": "display_data"
    },
    {
     "data": {
      "application/vnd.jupyter.widget-view+json": {
       "model_id": "7df0b644329744b6979eff90cabe83ec",
       "version_major": 2,
       "version_minor": 0
      },
      "text/plain": [
       "Validation: |          | 0/? [00:00<?, ?it/s]"
      ]
     },
     "metadata": {},
     "output_type": "display_data"
    },
    {
     "data": {
      "application/vnd.jupyter.widget-view+json": {
       "model_id": "28ae770df6c8447a9cb5f9dd0e1427c3",
       "version_major": 2,
       "version_minor": 0
      },
      "text/plain": [
       "Validation: |          | 0/? [00:00<?, ?it/s]"
      ]
     },
     "metadata": {},
     "output_type": "display_data"
    },
    {
     "data": {
      "application/vnd.jupyter.widget-view+json": {
       "model_id": "ceb34cc574db44c9aad30d820f150c86",
       "version_major": 2,
       "version_minor": 0
      },
      "text/plain": [
       "Validation: |          | 0/? [00:00<?, ?it/s]"
      ]
     },
     "metadata": {},
     "output_type": "display_data"
    },
    {
     "data": {
      "application/vnd.jupyter.widget-view+json": {
       "model_id": "5635fa275d3e4145860a8e7412eda6de",
       "version_major": 2,
       "version_minor": 0
      },
      "text/plain": [
       "Validation: |          | 0/? [00:00<?, ?it/s]"
      ]
     },
     "metadata": {},
     "output_type": "display_data"
    },
    {
     "data": {
      "application/vnd.jupyter.widget-view+json": {
       "model_id": "9978b598efa3424aa089e16c2d1c7360",
       "version_major": 2,
       "version_minor": 0
      },
      "text/plain": [
       "Validation: |          | 0/? [00:00<?, ?it/s]"
      ]
     },
     "metadata": {},
     "output_type": "display_data"
    },
    {
     "data": {
      "application/vnd.jupyter.widget-view+json": {
       "model_id": "5aab09bd48884b549d6c39c69891bebc",
       "version_major": 2,
       "version_minor": 0
      },
      "text/plain": [
       "Validation: |          | 0/? [00:00<?, ?it/s]"
      ]
     },
     "metadata": {},
     "output_type": "display_data"
    },
    {
     "data": {
      "application/vnd.jupyter.widget-view+json": {
       "model_id": "847ba29e97474eeea85b8b4cc86983a4",
       "version_major": 2,
       "version_minor": 0
      },
      "text/plain": [
       "Validation: |          | 0/? [00:00<?, ?it/s]"
      ]
     },
     "metadata": {},
     "output_type": "display_data"
    },
    {
     "data": {
      "application/vnd.jupyter.widget-view+json": {
       "model_id": "3f8403ccaf0a46a89cf0ffcc2c7ff31b",
       "version_major": 2,
       "version_minor": 0
      },
      "text/plain": [
       "Validation: |          | 0/? [00:00<?, ?it/s]"
      ]
     },
     "metadata": {},
     "output_type": "display_data"
    },
    {
     "data": {
      "application/vnd.jupyter.widget-view+json": {
       "model_id": "1a76044c104743ca9680bfe620b29afc",
       "version_major": 2,
       "version_minor": 0
      },
      "text/plain": [
       "Validation: |          | 0/? [00:00<?, ?it/s]"
      ]
     },
     "metadata": {},
     "output_type": "display_data"
    },
    {
     "data": {
      "application/vnd.jupyter.widget-view+json": {
       "model_id": "c50af45dc4194be8823afad59e756946",
       "version_major": 2,
       "version_minor": 0
      },
      "text/plain": [
       "Validation: |          | 0/? [00:00<?, ?it/s]"
      ]
     },
     "metadata": {},
     "output_type": "display_data"
    },
    {
     "data": {
      "application/vnd.jupyter.widget-view+json": {
       "model_id": "d006171a56534f66a43cd824eb4b285a",
       "version_major": 2,
       "version_minor": 0
      },
      "text/plain": [
       "Validation: |          | 0/? [00:00<?, ?it/s]"
      ]
     },
     "metadata": {},
     "output_type": "display_data"
    },
    {
     "data": {
      "application/vnd.jupyter.widget-view+json": {
       "model_id": "12c8836d9e1b4679a1b28b68374ccf24",
       "version_major": 2,
       "version_minor": 0
      },
      "text/plain": [
       "Validation: |          | 0/? [00:00<?, ?it/s]"
      ]
     },
     "metadata": {},
     "output_type": "display_data"
    },
    {
     "data": {
      "application/vnd.jupyter.widget-view+json": {
       "model_id": "8184989145dc47d9ab5b9b7cd21327a0",
       "version_major": 2,
       "version_minor": 0
      },
      "text/plain": [
       "Validation: |          | 0/? [00:00<?, ?it/s]"
      ]
     },
     "metadata": {},
     "output_type": "display_data"
    },
    {
     "data": {
      "application/vnd.jupyter.widget-view+json": {
       "model_id": "545048de0dcd4755b0b5f66a532befdf",
       "version_major": 2,
       "version_minor": 0
      },
      "text/plain": [
       "Validation: |          | 0/? [00:00<?, ?it/s]"
      ]
     },
     "metadata": {},
     "output_type": "display_data"
    },
    {
     "data": {
      "application/vnd.jupyter.widget-view+json": {
       "model_id": "81a649ae4d37443d868ebea0bc8f82df",
       "version_major": 2,
       "version_minor": 0
      },
      "text/plain": [
       "Validation: |          | 0/? [00:00<?, ?it/s]"
      ]
     },
     "metadata": {},
     "output_type": "display_data"
    },
    {
     "data": {
      "application/vnd.jupyter.widget-view+json": {
       "model_id": "5be01381ba3e4571b02d63428ba5ff90",
       "version_major": 2,
       "version_minor": 0
      },
      "text/plain": [
       "Validation: |          | 0/? [00:00<?, ?it/s]"
      ]
     },
     "metadata": {},
     "output_type": "display_data"
    },
    {
     "data": {
      "application/vnd.jupyter.widget-view+json": {
       "model_id": "19e4a9ea4d0a40f990eeb2d0d56b4575",
       "version_major": 2,
       "version_minor": 0
      },
      "text/plain": [
       "Validation: |          | 0/? [00:00<?, ?it/s]"
      ]
     },
     "metadata": {},
     "output_type": "display_data"
    },
    {
     "data": {
      "application/vnd.jupyter.widget-view+json": {
       "model_id": "076e3fb8a6c444ad8ad65d020c6bf206",
       "version_major": 2,
       "version_minor": 0
      },
      "text/plain": [
       "Validation: |          | 0/? [00:00<?, ?it/s]"
      ]
     },
     "metadata": {},
     "output_type": "display_data"
    },
    {
     "data": {
      "application/vnd.jupyter.widget-view+json": {
       "model_id": "2f1d2256a3aa4d438de005c76c0e7dce",
       "version_major": 2,
       "version_minor": 0
      },
      "text/plain": [
       "Validation: |          | 0/? [00:00<?, ?it/s]"
      ]
     },
     "metadata": {},
     "output_type": "display_data"
    },
    {
     "data": {
      "application/vnd.jupyter.widget-view+json": {
       "model_id": "de04990231004395b8c9befb4ddff505",
       "version_major": 2,
       "version_minor": 0
      },
      "text/plain": [
       "Validation: |          | 0/? [00:00<?, ?it/s]"
      ]
     },
     "metadata": {},
     "output_type": "display_data"
    },
    {
     "data": {
      "application/vnd.jupyter.widget-view+json": {
       "model_id": "04148e6660ec4cfab7d1609efc4529f5",
       "version_major": 2,
       "version_minor": 0
      },
      "text/plain": [
       "Validation: |          | 0/? [00:00<?, ?it/s]"
      ]
     },
     "metadata": {},
     "output_type": "display_data"
    },
    {
     "data": {
      "application/vnd.jupyter.widget-view+json": {
       "model_id": "8811d26afbba4fbf99b57f70e123e08a",
       "version_major": 2,
       "version_minor": 0
      },
      "text/plain": [
       "Validation: |          | 0/? [00:00<?, ?it/s]"
      ]
     },
     "metadata": {},
     "output_type": "display_data"
    },
    {
     "data": {
      "application/vnd.jupyter.widget-view+json": {
       "model_id": "efcccf3686e94d5d943b07e3a59453f0",
       "version_major": 2,
       "version_minor": 0
      },
      "text/plain": [
       "Validation: |          | 0/? [00:00<?, ?it/s]"
      ]
     },
     "metadata": {},
     "output_type": "display_data"
    },
    {
     "data": {
      "application/vnd.jupyter.widget-view+json": {
       "model_id": "265856b6f26541e7bcb2df566a391a57",
       "version_major": 2,
       "version_minor": 0
      },
      "text/plain": [
       "Validation: |          | 0/? [00:00<?, ?it/s]"
      ]
     },
     "metadata": {},
     "output_type": "display_data"
    },
    {
     "data": {
      "application/vnd.jupyter.widget-view+json": {
       "model_id": "e8eab10ae4344d6bbc79f964adcd9ea8",
       "version_major": 2,
       "version_minor": 0
      },
      "text/plain": [
       "Validation: |          | 0/? [00:00<?, ?it/s]"
      ]
     },
     "metadata": {},
     "output_type": "display_data"
    },
    {
     "data": {
      "application/vnd.jupyter.widget-view+json": {
       "model_id": "8554fd5f1dbf4f8da816d601b823557a",
       "version_major": 2,
       "version_minor": 0
      },
      "text/plain": [
       "Validation: |          | 0/? [00:00<?, ?it/s]"
      ]
     },
     "metadata": {},
     "output_type": "display_data"
    },
    {
     "data": {
      "application/vnd.jupyter.widget-view+json": {
       "model_id": "a630af945f8b47b08da4c5fdcbf644c0",
       "version_major": 2,
       "version_minor": 0
      },
      "text/plain": [
       "Validation: |          | 0/? [00:00<?, ?it/s]"
      ]
     },
     "metadata": {},
     "output_type": "display_data"
    },
    {
     "data": {
      "application/vnd.jupyter.widget-view+json": {
       "model_id": "90f0211b8ad242c9881183a452306126",
       "version_major": 2,
       "version_minor": 0
      },
      "text/plain": [
       "Validation: |          | 0/? [00:00<?, ?it/s]"
      ]
     },
     "metadata": {},
     "output_type": "display_data"
    },
    {
     "data": {
      "application/vnd.jupyter.widget-view+json": {
       "model_id": "108b2342d6ae404fb8ea950baaf26e7b",
       "version_major": 2,
       "version_minor": 0
      },
      "text/plain": [
       "Validation: |          | 0/? [00:00<?, ?it/s]"
      ]
     },
     "metadata": {},
     "output_type": "display_data"
    },
    {
     "data": {
      "application/vnd.jupyter.widget-view+json": {
       "model_id": "c1b48c4e14d04b96941fe3737c36dc45",
       "version_major": 2,
       "version_minor": 0
      },
      "text/plain": [
       "Validation: |          | 0/? [00:00<?, ?it/s]"
      ]
     },
     "metadata": {},
     "output_type": "display_data"
    },
    {
     "data": {
      "application/vnd.jupyter.widget-view+json": {
       "model_id": "f52cc909c6d3436a926004c3216f2c84",
       "version_major": 2,
       "version_minor": 0
      },
      "text/plain": [
       "Validation: |          | 0/? [00:00<?, ?it/s]"
      ]
     },
     "metadata": {},
     "output_type": "display_data"
    },
    {
     "data": {
      "application/vnd.jupyter.widget-view+json": {
       "model_id": "baa49994b0eb4d2cba7f76d1c438f2b2",
       "version_major": 2,
       "version_minor": 0
      },
      "text/plain": [
       "Validation: |          | 0/? [00:00<?, ?it/s]"
      ]
     },
     "metadata": {},
     "output_type": "display_data"
    },
    {
     "data": {
      "application/vnd.jupyter.widget-view+json": {
       "model_id": "cffe75a5110d496bab2352bf3ae9e340",
       "version_major": 2,
       "version_minor": 0
      },
      "text/plain": [
       "Validation: |          | 0/? [00:00<?, ?it/s]"
      ]
     },
     "metadata": {},
     "output_type": "display_data"
    },
    {
     "data": {
      "application/vnd.jupyter.widget-view+json": {
       "model_id": "3d89c780a6ed4c1b83419a50e7fe2b95",
       "version_major": 2,
       "version_minor": 0
      },
      "text/plain": [
       "Validation: |          | 0/? [00:00<?, ?it/s]"
      ]
     },
     "metadata": {},
     "output_type": "display_data"
    },
    {
     "data": {
      "application/vnd.jupyter.widget-view+json": {
       "model_id": "ccfe5a5d618c4621bf65acbc28a91295",
       "version_major": 2,
       "version_minor": 0
      },
      "text/plain": [
       "Validation: |          | 0/? [00:00<?, ?it/s]"
      ]
     },
     "metadata": {},
     "output_type": "display_data"
    },
    {
     "data": {
      "application/vnd.jupyter.widget-view+json": {
       "model_id": "845c15c6e86247dab22e0faf72b93233",
       "version_major": 2,
       "version_minor": 0
      },
      "text/plain": [
       "Validation: |          | 0/? [00:00<?, ?it/s]"
      ]
     },
     "metadata": {},
     "output_type": "display_data"
    },
    {
     "data": {
      "application/vnd.jupyter.widget-view+json": {
       "model_id": "bcebcc49c81741c8b1247f77c07f6d3b",
       "version_major": 2,
       "version_minor": 0
      },
      "text/plain": [
       "Validation: |          | 0/? [00:00<?, ?it/s]"
      ]
     },
     "metadata": {},
     "output_type": "display_data"
    },
    {
     "data": {
      "application/vnd.jupyter.widget-view+json": {
       "model_id": "7669b1de9db140c7ab8176caa1913e94",
       "version_major": 2,
       "version_minor": 0
      },
      "text/plain": [
       "Validation: |          | 0/? [00:00<?, ?it/s]"
      ]
     },
     "metadata": {},
     "output_type": "display_data"
    },
    {
     "data": {
      "application/vnd.jupyter.widget-view+json": {
       "model_id": "5760adb7f11d4f7f861ccea2f183c158",
       "version_major": 2,
       "version_minor": 0
      },
      "text/plain": [
       "Validation: |          | 0/? [00:00<?, ?it/s]"
      ]
     },
     "metadata": {},
     "output_type": "display_data"
    },
    {
     "data": {
      "application/vnd.jupyter.widget-view+json": {
       "model_id": "194d42f565504a678d59715c36f179f5",
       "version_major": 2,
       "version_minor": 0
      },
      "text/plain": [
       "Validation: |          | 0/? [00:00<?, ?it/s]"
      ]
     },
     "metadata": {},
     "output_type": "display_data"
    },
    {
     "data": {
      "application/vnd.jupyter.widget-view+json": {
       "model_id": "3bc87d39cd584a55a6dbbf4451fd6de5",
       "version_major": 2,
       "version_minor": 0
      },
      "text/plain": [
       "Validation: |          | 0/? [00:00<?, ?it/s]"
      ]
     },
     "metadata": {},
     "output_type": "display_data"
    },
    {
     "data": {
      "application/vnd.jupyter.widget-view+json": {
       "model_id": "9d3ff37dd84d4521915b963abce94d7d",
       "version_major": 2,
       "version_minor": 0
      },
      "text/plain": [
       "Validation: |          | 0/? [00:00<?, ?it/s]"
      ]
     },
     "metadata": {},
     "output_type": "display_data"
    },
    {
     "data": {
      "application/vnd.jupyter.widget-view+json": {
       "model_id": "6dfae3e7ba17432bbe412572a4b7c75a",
       "version_major": 2,
       "version_minor": 0
      },
      "text/plain": [
       "Validation: |          | 0/? [00:00<?, ?it/s]"
      ]
     },
     "metadata": {},
     "output_type": "display_data"
    },
    {
     "data": {
      "application/vnd.jupyter.widget-view+json": {
       "model_id": "0ba9acbbab3247cf9a6b4f329b6df1b5",
       "version_major": 2,
       "version_minor": 0
      },
      "text/plain": [
       "Validation: |          | 0/? [00:00<?, ?it/s]"
      ]
     },
     "metadata": {},
     "output_type": "display_data"
    },
    {
     "data": {
      "application/vnd.jupyter.widget-view+json": {
       "model_id": "54f28dc640754823952e18ae259d5e47",
       "version_major": 2,
       "version_minor": 0
      },
      "text/plain": [
       "Validation: |          | 0/? [00:00<?, ?it/s]"
      ]
     },
     "metadata": {},
     "output_type": "display_data"
    },
    {
     "data": {
      "application/vnd.jupyter.widget-view+json": {
       "model_id": "01edbd7350944503be248bf6ab579f93",
       "version_major": 2,
       "version_minor": 0
      },
      "text/plain": [
       "Validation: |          | 0/? [00:00<?, ?it/s]"
      ]
     },
     "metadata": {},
     "output_type": "display_data"
    },
    {
     "data": {
      "application/vnd.jupyter.widget-view+json": {
       "model_id": "785d569f41d942b8b56a3fd7d4f0f0ab",
       "version_major": 2,
       "version_minor": 0
      },
      "text/plain": [
       "Validation: |          | 0/? [00:00<?, ?it/s]"
      ]
     },
     "metadata": {},
     "output_type": "display_data"
    },
    {
     "data": {
      "application/vnd.jupyter.widget-view+json": {
       "model_id": "473852763f234c609b4459bef875aa93",
       "version_major": 2,
       "version_minor": 0
      },
      "text/plain": [
       "Validation: |          | 0/? [00:00<?, ?it/s]"
      ]
     },
     "metadata": {},
     "output_type": "display_data"
    },
    {
     "data": {
      "application/vnd.jupyter.widget-view+json": {
       "model_id": "49b9ead96b1f4e8499a5a88dba08a319",
       "version_major": 2,
       "version_minor": 0
      },
      "text/plain": [
       "Validation: |          | 0/? [00:00<?, ?it/s]"
      ]
     },
     "metadata": {},
     "output_type": "display_data"
    },
    {
     "data": {
      "application/vnd.jupyter.widget-view+json": {
       "model_id": "ff12272aea44463fa3999d0ea07ca00d",
       "version_major": 2,
       "version_minor": 0
      },
      "text/plain": [
       "Validation: |          | 0/? [00:00<?, ?it/s]"
      ]
     },
     "metadata": {},
     "output_type": "display_data"
    },
    {
     "data": {
      "application/vnd.jupyter.widget-view+json": {
       "model_id": "b9e977f1750f403ba8d3850ff6634ca5",
       "version_major": 2,
       "version_minor": 0
      },
      "text/plain": [
       "Validation: |          | 0/? [00:00<?, ?it/s]"
      ]
     },
     "metadata": {},
     "output_type": "display_data"
    },
    {
     "data": {
      "application/vnd.jupyter.widget-view+json": {
       "model_id": "102f73c4cce74d5b961ad31d5c894c9c",
       "version_major": 2,
       "version_minor": 0
      },
      "text/plain": [
       "Validation: |          | 0/? [00:00<?, ?it/s]"
      ]
     },
     "metadata": {},
     "output_type": "display_data"
    },
    {
     "data": {
      "application/vnd.jupyter.widget-view+json": {
       "model_id": "771270ddc1664d4d8312bfac79f59dd0",
       "version_major": 2,
       "version_minor": 0
      },
      "text/plain": [
       "Validation: |          | 0/? [00:00<?, ?it/s]"
      ]
     },
     "metadata": {},
     "output_type": "display_data"
    },
    {
     "data": {
      "application/vnd.jupyter.widget-view+json": {
       "model_id": "cf9ec8dc65f54765be112e762181483a",
       "version_major": 2,
       "version_minor": 0
      },
      "text/plain": [
       "Validation: |          | 0/? [00:00<?, ?it/s]"
      ]
     },
     "metadata": {},
     "output_type": "display_data"
    },
    {
     "data": {
      "application/vnd.jupyter.widget-view+json": {
       "model_id": "678b4333eaa64ec5b99b71d7001aeca9",
       "version_major": 2,
       "version_minor": 0
      },
      "text/plain": [
       "Validation: |          | 0/? [00:00<?, ?it/s]"
      ]
     },
     "metadata": {},
     "output_type": "display_data"
    },
    {
     "data": {
      "application/vnd.jupyter.widget-view+json": {
       "model_id": "81a50b6639b346d5aef2254451e5d685",
       "version_major": 2,
       "version_minor": 0
      },
      "text/plain": [
       "Validation: |          | 0/? [00:00<?, ?it/s]"
      ]
     },
     "metadata": {},
     "output_type": "display_data"
    },
    {
     "data": {
      "application/vnd.jupyter.widget-view+json": {
       "model_id": "e1ee6f52cf2f4faa949d44389ea508a4",
       "version_major": 2,
       "version_minor": 0
      },
      "text/plain": [
       "Validation: |          | 0/? [00:00<?, ?it/s]"
      ]
     },
     "metadata": {},
     "output_type": "display_data"
    },
    {
     "data": {
      "application/vnd.jupyter.widget-view+json": {
       "model_id": "bfc7ae8cf5294157a78ed0be922c3d20",
       "version_major": 2,
       "version_minor": 0
      },
      "text/plain": [
       "Validation: |          | 0/? [00:00<?, ?it/s]"
      ]
     },
     "metadata": {},
     "output_type": "display_data"
    },
    {
     "data": {
      "application/vnd.jupyter.widget-view+json": {
       "model_id": "ea3fd79224fd4950b20d13ea4ff11be6",
       "version_major": 2,
       "version_minor": 0
      },
      "text/plain": [
       "Validation: |          | 0/? [00:00<?, ?it/s]"
      ]
     },
     "metadata": {},
     "output_type": "display_data"
    },
    {
     "data": {
      "application/vnd.jupyter.widget-view+json": {
       "model_id": "79dc0edfad4b498c967b1403ef63caa4",
       "version_major": 2,
       "version_minor": 0
      },
      "text/plain": [
       "Validation: |          | 0/? [00:00<?, ?it/s]"
      ]
     },
     "metadata": {},
     "output_type": "display_data"
    },
    {
     "data": {
      "application/vnd.jupyter.widget-view+json": {
       "model_id": "812b35f188c94c208f6d7decfa539821",
       "version_major": 2,
       "version_minor": 0
      },
      "text/plain": [
       "Validation: |          | 0/? [00:00<?, ?it/s]"
      ]
     },
     "metadata": {},
     "output_type": "display_data"
    },
    {
     "name": "stderr",
     "output_type": "stream",
     "text": [
      "`Trainer.fit` stopped: `max_epochs=100` reached.\n",
      "FIT Profiler Report\n",
      "\n",
      "-----------------------------------------------------------------------------------------------------------------------------------------------------------------------------------------------------------------------------------------------------------------------------------\n",
      "|  Action                                                                                                                                                               \t|  Mean duration (s)\t|  Num calls      \t|  Total time (s) \t|  Percentage %   \t|\n",
      "-----------------------------------------------------------------------------------------------------------------------------------------------------------------------------------------------------------------------------------------------------------------------------------\n",
      "|  Total                                                                                                                                                                \t|  -              \t|  38169          \t|  657.77         \t|  100 %          \t|\n",
      "-----------------------------------------------------------------------------------------------------------------------------------------------------------------------------------------------------------------------------------------------------------------------------------\n",
      "|  run_training_epoch                                                                                                                                                   \t|  2.7736         \t|  100            \t|  277.36         \t|  42.167         \t|\n",
      "|  [LightningDataModule]CrystDataModule.setup                                                                                                                           \t|  113.03         \t|  2              \t|  226.06         \t|  34.368         \t|\n",
      "|  [Strategy]SingleDeviceStrategy.validation_step                                                                                                                       \t|  0.14187        \t|  803            \t|  113.92         \t|  17.319         \t|\n",
      "|  run_training_batch                                                                                                                                                   \t|  0.23157        \t|  400            \t|  92.63          \t|  14.083         \t|\n",
      "|  [LightningModule]CDVAE.optimizer_step                                                                                                                                \t|  0.23071        \t|  400            \t|  92.284         \t|  14.03          \t|\n",
      "|  [Strategy]SingleDeviceStrategy.training_step                                                                                                                         \t|  0.17562        \t|  400            \t|  70.249         \t|  10.68          \t|\n",
      "|  [Callback]TQDMProgressBar.on_train_batch_end                                                                                                                         \t|  0.12389        \t|  400            \t|  49.555         \t|  7.5338         \t|\n",
      "|  [Strategy]SingleDeviceStrategy.backward                                                                                                                              \t|  0.048028       \t|  400            \t|  19.211         \t|  2.9206         \t|\n",
      "|  [Callback]ModelCheckpoint{'monitor': 'val_loss', 'mode': 'min', 'every_n_train_steps': 0, 'every_n_epochs': 1, 'train_time_interval': None}.on_train_epoch_end       \t|  0.14158        \t|  100            \t|  14.158         \t|  2.1524         \t|\n",
      "|  [_EvaluationLoop].val_next                                                                                                                                           \t|  0.0085965      \t|  803            \t|  6.903          \t|  1.0495         \t|\n",
      "|  [_TrainingEpochLoop].train_dataloader_next                                                                                                                           \t|  0.010465       \t|  400            \t|  4.186          \t|  0.6364         \t|\n",
      "|  [Strategy]SingleDeviceStrategy.batch_to_device                                                                                                                       \t|  0.0014505      \t|  1203           \t|  1.745          \t|  0.26529        \t|\n",
      "|  [LightningModule]CDVAE.transfer_batch_to_device                                                                                                                      \t|  0.0013741      \t|  1203           \t|  1.653          \t|  0.25131        \t|\n",
      "|  [Callback]TQDMProgressBar.on_validation_start                                                                                                                        \t|  0.011971       \t|  102            \t|  1.221          \t|  0.18563        \t|\n",
      "|  [Callback]TQDMProgressBar.on_validation_batch_end                                                                                                                    \t|  0.00093766     \t|  802            \t|  0.752          \t|  0.11433        \t|\n",
      "|  [LightningModule]CDVAE.on_validation_model_eval                                                                                                                      \t|  0.0044412      \t|  102            \t|  0.453          \t|  0.068869       \t|\n",
      "|  [Callback]TQDMProgressBar.on_validation_end                                                                                                                          \t|  0.003703       \t|  101            \t|  0.374          \t|  0.056859       \t|\n",
      "|  [LightningModule]CDVAE.on_validation_model_zero_grad                                                                                                                 \t|  0.00361        \t|  100            \t|  0.361          \t|  0.054883       \t|\n",
      "|  [Callback]TQDMProgressBar.on_train_epoch_end                                                                                                                         \t|  0.00315        \t|  100            \t|  0.315          \t|  0.047889       \t|\n",
      "|  [LightningModule]CDVAE.optimizer_zero_grad                                                                                                                           \t|  0.00067        \t|  400            \t|  0.268          \t|  0.040744       \t|\n",
      "|  [LightningModule]CDVAE.configure_gradient_clipping                                                                                                                   \t|  0.0006625      \t|  400            \t|  0.265          \t|  0.040288       \t|\n",
      "|  [Callback]TQDMProgressBar.on_validation_batch_start                                                                                                                  \t|  0.00027273     \t|  803            \t|  0.219          \t|  0.033295       \t|\n",
      "|  [Callback]TQDMProgressBar.on_train_epoch_start                                                                                                                       \t|  0.00169        \t|  100            \t|  0.169          \t|  0.025693       \t|\n",
      "|  [Callback]LearningRateMonitor.on_train_batch_start                                                                                                                   \t|  0.00039        \t|  400            \t|  0.156          \t|  0.023717       \t|\n",
      "|  [Callback]EarlyStopping{'monitor': 'val_loss', 'mode': 'min'}.on_train_epoch_end                                                                                     \t|  0.00155        \t|  100            \t|  0.155          \t|  0.023565       \t|\n",
      "|  [Callback]ModelSummary.on_fit_start                                                                                                                                  \t|  0.0315         \t|  2              \t|  0.063          \t|  0.0095779      \t|\n",
      "|  [Callback]TQDMProgressBar.on_sanity_check_start                                                                                                                      \t|  0.015          \t|  2              \t|  0.03           \t|  0.0045609      \t|\n",
      "|  [LightningModule]CDVAE.configure_optimizers                                                                                                                          \t|  0.008          \t|  2              \t|  0.016          \t|  0.0024325      \t|\n",
      "|  [Callback]LearningRateMonitor.on_validation_epoch_start                                                                                                              \t|  0.00015686     \t|  102            \t|  0.016          \t|  0.0024325      \t|\n",
      "|  [Callback]ModelSummary.on_validation_batch_end                                                                                                                       \t|  1.995e-05      \t|  802            \t|  0.016          \t|  0.0024325      \t|\n",
      "|  [Callback]ModelSummary.on_after_backward                                                                                                                             \t|  4e-05          \t|  400            \t|  0.016          \t|  0.0024325      \t|\n",
      "|  [LightningModule]CDVAE.lr_scheduler_step                                                                                                                             \t|  0.00016        \t|  100            \t|  0.016          \t|  0.0024325      \t|\n",
      "|  [LightningModule]CDVAE.on_before_batch_transfer                                                                                                                      \t|  1.2469e-05     \t|  1203           \t|  0.015          \t|  0.0022804      \t|\n",
      "|  [Callback]EarlyStopping{'monitor': 'val_loss', 'mode': 'min'}.on_validation_batch_start                                                                              \t|  1.868e-05      \t|  803            \t|  0.015          \t|  0.0022804      \t|\n",
      "|  [Callback]TQDMProgressBar.on_train_start                                                                                                                             \t|  0.015          \t|  1              \t|  0.015          \t|  0.0022804      \t|\n",
      "|  [Callback]ModelCheckpoint{'monitor': 'val_loss', 'mode': 'min', 'every_n_train_steps': 0, 'every_n_epochs': 1, 'train_time_interval': None}.on_train_batch_end       \t|  3.75e-05       \t|  400            \t|  0.015          \t|  0.0022804      \t|\n",
      "|  [LightningModule]CDVAE.configure_callbacks                                                                                                                           \t|  0.0            \t|  2              \t|  0.0            \t|  0.0            \t|\n",
      "|  [LightningDataModule]CrystDataModule.prepare_data                                                                                                                    \t|  0.0            \t|  2              \t|  0.0            \t|  0.0            \t|\n",
      "|  [LightningModule]CDVAE.prepare_data                                                                                                                                  \t|  0.0            \t|  2              \t|  0.0            \t|  0.0            \t|\n",
      "|  [Callback]LearningRateMonitor.setup                                                                                                                                  \t|  0.0            \t|  2              \t|  0.0            \t|  0.0            \t|\n",
      "|  [Callback]EarlyStopping{'monitor': 'val_loss', 'mode': 'min'}.setup                                                                                                  \t|  0.0            \t|  2              \t|  0.0            \t|  0.0            \t|\n",
      "|  [Callback]TQDMProgressBar.setup                                                                                                                                      \t|  0.0            \t|  2              \t|  0.0            \t|  0.0            \t|\n",
      "|  [Callback]ModelSummary.setup                                                                                                                                         \t|  0.0            \t|  2              \t|  0.0            \t|  0.0            \t|\n",
      "|  [Callback]ModelCheckpoint{'monitor': 'val_loss', 'mode': 'min', 'every_n_train_steps': 0, 'every_n_epochs': 1, 'train_time_interval': None}.setup                    \t|  0.0            \t|  2              \t|  0.0            \t|  0.0            \t|\n",
      "|  [LightningModule]CDVAE.setup                                                                                                                                         \t|  0.0            \t|  2              \t|  0.0            \t|  0.0            \t|\n",
      "|  [Callback]LearningRateMonitor.on_fit_start                                                                                                                           \t|  0.0            \t|  2              \t|  0.0            \t|  0.0            \t|\n",
      "|  [Callback]EarlyStopping{'monitor': 'val_loss', 'mode': 'min'}.on_fit_start                                                                                           \t|  0.0            \t|  2              \t|  0.0            \t|  0.0            \t|\n",
      "|  [Callback]TQDMProgressBar.on_fit_start                                                                                                                               \t|  0.0            \t|  2              \t|  0.0            \t|  0.0            \t|\n",
      "|  [Callback]ModelCheckpoint{'monitor': 'val_loss', 'mode': 'min', 'every_n_train_steps': 0, 'every_n_epochs': 1, 'train_time_interval': None}.on_fit_start             \t|  0.0            \t|  2              \t|  0.0            \t|  0.0            \t|\n",
      "|  [LightningModule]CDVAE.on_fit_start                                                                                                                                  \t|  0.0            \t|  2              \t|  0.0            \t|  0.0            \t|\n",
      "|  [Callback]LearningRateMonitor.on_sanity_check_start                                                                                                                  \t|  0.0            \t|  2              \t|  0.0            \t|  0.0            \t|\n",
      "|  [Callback]EarlyStopping{'monitor': 'val_loss', 'mode': 'min'}.on_sanity_check_start                                                                                  \t|  0.0            \t|  2              \t|  0.0            \t|  0.0            \t|\n",
      "|  [Callback]ModelSummary.on_sanity_check_start                                                                                                                         \t|  0.0            \t|  2              \t|  0.0            \t|  0.0            \t|\n",
      "|  [Callback]ModelCheckpoint{'monitor': 'val_loss', 'mode': 'min', 'every_n_train_steps': 0, 'every_n_epochs': 1, 'train_time_interval': None}.on_sanity_check_start    \t|  0.0            \t|  2              \t|  0.0            \t|  0.0            \t|\n",
      "|  [LightningDataModule]CrystDataModule.val_dataloader                                                                                                                  \t|  0.0            \t|  2              \t|  0.0            \t|  0.0            \t|\n",
      "|  [Callback]LearningRateMonitor.on_validation_start                                                                                                                    \t|  0.0            \t|  102            \t|  0.0            \t|  0.0            \t|\n",
      "|  [Callback]EarlyStopping{'monitor': 'val_loss', 'mode': 'min'}.on_validation_start                                                                                    \t|  0.0            \t|  102            \t|  0.0            \t|  0.0            \t|\n",
      "|  [Callback]ModelSummary.on_validation_start                                                                                                                           \t|  0.0            \t|  102            \t|  0.0            \t|  0.0            \t|\n",
      "|  [Callback]ModelCheckpoint{'monitor': 'val_loss', 'mode': 'min', 'every_n_train_steps': 0, 'every_n_epochs': 1, 'train_time_interval': None}.on_validation_start      \t|  0.0            \t|  102            \t|  0.0            \t|  0.0            \t|\n",
      "|  [LightningModule]CDVAE.on_validation_start                                                                                                                           \t|  0.0            \t|  102            \t|  0.0            \t|  0.0            \t|\n",
      "|  [Strategy]SingleDeviceStrategy.on_validation_start                                                                                                                   \t|  0.0            \t|  102            \t|  0.0            \t|  0.0            \t|\n",
      "|  [Callback]EarlyStopping{'monitor': 'val_loss', 'mode': 'min'}.on_validation_epoch_start                                                                              \t|  0.0            \t|  102            \t|  0.0            \t|  0.0            \t|\n",
      "|  [Callback]TQDMProgressBar.on_validation_epoch_start                                                                                                                  \t|  0.0            \t|  102            \t|  0.0            \t|  0.0            \t|\n",
      "|  [Callback]ModelSummary.on_validation_epoch_start                                                                                                                     \t|  0.0            \t|  102            \t|  0.0            \t|  0.0            \t|\n",
      "|  [Callback]ModelCheckpoint{'monitor': 'val_loss', 'mode': 'min', 'every_n_train_steps': 0, 'every_n_epochs': 1, 'train_time_interval': None}.on_validation_epoch_start\t|  0.0            \t|  102            \t|  0.0            \t|  0.0            \t|\n",
      "|  [LightningModule]CDVAE.on_validation_epoch_start                                                                                                                     \t|  0.0            \t|  102            \t|  0.0            \t|  0.0            \t|\n",
      "|  [LightningModule]CDVAE.on_after_batch_transfer                                                                                                                       \t|  0.0            \t|  1203           \t|  0.0            \t|  0.0            \t|\n",
      "|  [Callback]LearningRateMonitor.on_validation_batch_start                                                                                                              \t|  0.0            \t|  803            \t|  0.0            \t|  0.0            \t|\n",
      "|  [Callback]ModelSummary.on_validation_batch_start                                                                                                                     \t|  0.0            \t|  803            \t|  0.0            \t|  0.0            \t|\n",
      "|  [Callback]ModelCheckpoint{'monitor': 'val_loss', 'mode': 'min', 'every_n_train_steps': 0, 'every_n_epochs': 1, 'train_time_interval': None}.on_validation_batch_start\t|  0.0            \t|  803            \t|  0.0            \t|  0.0            \t|\n",
      "|  [LightningModule]CDVAE.on_validation_batch_start                                                                                                                     \t|  0.0            \t|  803            \t|  0.0            \t|  0.0            \t|\n",
      "|  [Callback]LearningRateMonitor.on_exception                                                                                                                           \t|  0.0            \t|  1              \t|  0.0            \t|  0.0            \t|\n",
      "|  [Callback]EarlyStopping{'monitor': 'val_loss', 'mode': 'min'}.on_exception                                                                                           \t|  0.0            \t|  1              \t|  0.0            \t|  0.0            \t|\n",
      "|  [Callback]TQDMProgressBar.on_exception                                                                                                                               \t|  0.0            \t|  1              \t|  0.0            \t|  0.0            \t|\n",
      "|  [Callback]ModelSummary.on_exception                                                                                                                                  \t|  0.0            \t|  1              \t|  0.0            \t|  0.0            \t|\n",
      "|  [Callback]ModelCheckpoint{'monitor': 'val_loss', 'mode': 'min', 'every_n_train_steps': 0, 'every_n_epochs': 1, 'train_time_interval': None}.on_exception             \t|  0.0            \t|  1              \t|  0.0            \t|  0.0            \t|\n",
      "|  [Callback]LearningRateMonitor.on_validation_batch_end                                                                                                                \t|  0.0            \t|  802            \t|  0.0            \t|  0.0            \t|\n",
      "|  [Callback]EarlyStopping{'monitor': 'val_loss', 'mode': 'min'}.on_validation_batch_end                                                                                \t|  0.0            \t|  802            \t|  0.0            \t|  0.0            \t|\n",
      "|  [Callback]ModelCheckpoint{'monitor': 'val_loss', 'mode': 'min', 'every_n_train_steps': 0, 'every_n_epochs': 1, 'train_time_interval': None}.on_validation_batch_end  \t|  0.0            \t|  802            \t|  0.0            \t|  0.0            \t|\n",
      "|  [LightningModule]CDVAE.on_validation_batch_end                                                                                                                       \t|  0.0            \t|  802            \t|  0.0            \t|  0.0            \t|\n",
      "|  [Callback]LearningRateMonitor.on_validation_epoch_end                                                                                                                \t|  0.0            \t|  101            \t|  0.0            \t|  0.0            \t|\n",
      "|  [Callback]EarlyStopping{'monitor': 'val_loss', 'mode': 'min'}.on_validation_epoch_end                                                                                \t|  0.0            \t|  101            \t|  0.0            \t|  0.0            \t|\n",
      "|  [Callback]TQDMProgressBar.on_validation_epoch_end                                                                                                                    \t|  0.0            \t|  101            \t|  0.0            \t|  0.0            \t|\n",
      "|  [Callback]ModelSummary.on_validation_epoch_end                                                                                                                       \t|  0.0            \t|  101            \t|  0.0            \t|  0.0            \t|\n",
      "|  [Callback]ModelCheckpoint{'monitor': 'val_loss', 'mode': 'min', 'every_n_train_steps': 0, 'every_n_epochs': 1, 'train_time_interval': None}.on_validation_epoch_end  \t|  0.0            \t|  101            \t|  0.0            \t|  0.0            \t|\n",
      "|  [LightningModule]CDVAE.on_validation_epoch_end                                                                                                                       \t|  0.0            \t|  101            \t|  0.0            \t|  0.0            \t|\n",
      "|  [Callback]LearningRateMonitor.on_validation_end                                                                                                                      \t|  0.0            \t|  101            \t|  0.0            \t|  0.0            \t|\n",
      "|  [Callback]EarlyStopping{'monitor': 'val_loss', 'mode': 'min'}.on_validation_end                                                                                      \t|  0.0            \t|  101            \t|  0.0            \t|  0.0            \t|\n",
      "|  [Callback]ModelSummary.on_validation_end                                                                                                                             \t|  0.0            \t|  101            \t|  0.0            \t|  0.0            \t|\n",
      "|  [Callback]ModelCheckpoint{'monitor': 'val_loss', 'mode': 'min', 'every_n_train_steps': 0, 'every_n_epochs': 1, 'train_time_interval': None}.on_validation_end        \t|  0.0            \t|  101            \t|  0.0            \t|  0.0            \t|\n",
      "|  [LightningModule]CDVAE.on_validation_end                                                                                                                             \t|  0.0            \t|  101            \t|  0.0            \t|  0.0            \t|\n",
      "|  [Strategy]SingleDeviceStrategy.on_validation_end                                                                                                                     \t|  0.0            \t|  101            \t|  0.0            \t|  0.0            \t|\n",
      "|  [Callback]LearningRateMonitor.on_sanity_check_end                                                                                                                    \t|  0.0            \t|  1              \t|  0.0            \t|  0.0            \t|\n",
      "|  [Callback]EarlyStopping{'monitor': 'val_loss', 'mode': 'min'}.on_sanity_check_end                                                                                    \t|  0.0            \t|  1              \t|  0.0            \t|  0.0            \t|\n",
      "|  [Callback]TQDMProgressBar.on_sanity_check_end                                                                                                                        \t|  0.0            \t|  1              \t|  0.0            \t|  0.0            \t|\n",
      "|  [Callback]ModelSummary.on_sanity_check_end                                                                                                                           \t|  0.0            \t|  1              \t|  0.0            \t|  0.0            \t|\n",
      "|  [Callback]ModelCheckpoint{'monitor': 'val_loss', 'mode': 'min', 'every_n_train_steps': 0, 'every_n_epochs': 1, 'train_time_interval': None}.on_sanity_check_end      \t|  0.0            \t|  1              \t|  0.0            \t|  0.0            \t|\n",
      "|  [LightningDataModule]CrystDataModule.train_dataloader                                                                                                                \t|  0.0            \t|  1              \t|  0.0            \t|  0.0            \t|\n",
      "|  [Callback]LearningRateMonitor.on_train_start                                                                                                                         \t|  0.0            \t|  1              \t|  0.0            \t|  0.0            \t|\n",
      "|  [Callback]EarlyStopping{'monitor': 'val_loss', 'mode': 'min'}.on_train_start                                                                                         \t|  0.0            \t|  1              \t|  0.0            \t|  0.0            \t|\n",
      "|  [Callback]ModelSummary.on_train_start                                                                                                                                \t|  0.0            \t|  1              \t|  0.0            \t|  0.0            \t|\n",
      "|  [Callback]ModelCheckpoint{'monitor': 'val_loss', 'mode': 'min', 'every_n_train_steps': 0, 'every_n_epochs': 1, 'train_time_interval': None}.on_train_start           \t|  0.0            \t|  1              \t|  0.0            \t|  0.0            \t|\n",
      "|  [LightningModule]CDVAE.on_train_start                                                                                                                                \t|  0.0            \t|  1              \t|  0.0            \t|  0.0            \t|\n",
      "|  [Strategy]SingleDeviceStrategy.on_train_start                                                                                                                        \t|  0.0            \t|  1              \t|  0.0            \t|  0.0            \t|\n",
      "|  [Callback]LearningRateMonitor.on_train_epoch_start                                                                                                                   \t|  0.0            \t|  100            \t|  0.0            \t|  0.0            \t|\n",
      "|  [Callback]EarlyStopping{'monitor': 'val_loss', 'mode': 'min'}.on_train_epoch_start                                                                                   \t|  0.0            \t|  100            \t|  0.0            \t|  0.0            \t|\n",
      "|  [Callback]ModelSummary.on_train_epoch_start                                                                                                                          \t|  0.0            \t|  100            \t|  0.0            \t|  0.0            \t|\n",
      "|  [Callback]ModelCheckpoint{'monitor': 'val_loss', 'mode': 'min', 'every_n_train_steps': 0, 'every_n_epochs': 1, 'train_time_interval': None}.on_train_epoch_start     \t|  0.0            \t|  100            \t|  0.0            \t|  0.0            \t|\n",
      "|  [LightningModule]CDVAE.on_train_epoch_start                                                                                                                          \t|  0.0            \t|  100            \t|  0.0            \t|  0.0            \t|\n",
      "|  [Callback]EarlyStopping{'monitor': 'val_loss', 'mode': 'min'}.on_train_batch_start                                                                                   \t|  0.0            \t|  400            \t|  0.0            \t|  0.0            \t|\n",
      "|  [Callback]TQDMProgressBar.on_train_batch_start                                                                                                                       \t|  0.0            \t|  400            \t|  0.0            \t|  0.0            \t|\n",
      "|  [Callback]ModelSummary.on_train_batch_start                                                                                                                          \t|  0.0            \t|  400            \t|  0.0            \t|  0.0            \t|\n",
      "|  [Callback]ModelCheckpoint{'monitor': 'val_loss', 'mode': 'min', 'every_n_train_steps': 0, 'every_n_epochs': 1, 'train_time_interval': None}.on_train_batch_start     \t|  0.0            \t|  400            \t|  0.0            \t|  0.0            \t|\n",
      "|  [LightningModule]CDVAE.on_train_batch_start                                                                                                                          \t|  0.0            \t|  400            \t|  0.0            \t|  0.0            \t|\n",
      "|  [Strategy]SingleDeviceStrategy.on_train_batch_start                                                                                                                  \t|  0.0            \t|  400            \t|  0.0            \t|  0.0            \t|\n",
      "|  [Callback]LearningRateMonitor.on_before_zero_grad                                                                                                                    \t|  0.0            \t|  400            \t|  0.0            \t|  0.0            \t|\n",
      "|  [Callback]EarlyStopping{'monitor': 'val_loss', 'mode': 'min'}.on_before_zero_grad                                                                                    \t|  0.0            \t|  400            \t|  0.0            \t|  0.0            \t|\n",
      "|  [Callback]TQDMProgressBar.on_before_zero_grad                                                                                                                        \t|  0.0            \t|  400            \t|  0.0            \t|  0.0            \t|\n",
      "|  [Callback]ModelSummary.on_before_zero_grad                                                                                                                           \t|  0.0            \t|  400            \t|  0.0            \t|  0.0            \t|\n",
      "|  [Callback]ModelCheckpoint{'monitor': 'val_loss', 'mode': 'min', 'every_n_train_steps': 0, 'every_n_epochs': 1, 'train_time_interval': None}.on_before_zero_grad      \t|  0.0            \t|  400            \t|  0.0            \t|  0.0            \t|\n",
      "|  [LightningModule]CDVAE.on_before_zero_grad                                                                                                                           \t|  0.0            \t|  400            \t|  0.0            \t|  0.0            \t|\n",
      "|  [Callback]LearningRateMonitor.on_before_backward                                                                                                                     \t|  0.0            \t|  400            \t|  0.0            \t|  0.0            \t|\n",
      "|  [Callback]EarlyStopping{'monitor': 'val_loss', 'mode': 'min'}.on_before_backward                                                                                     \t|  0.0            \t|  400            \t|  0.0            \t|  0.0            \t|\n",
      "|  [Callback]TQDMProgressBar.on_before_backward                                                                                                                         \t|  0.0            \t|  400            \t|  0.0            \t|  0.0            \t|\n",
      "|  [Callback]ModelSummary.on_before_backward                                                                                                                            \t|  0.0            \t|  400            \t|  0.0            \t|  0.0            \t|\n",
      "|  [Callback]ModelCheckpoint{'monitor': 'val_loss', 'mode': 'min', 'every_n_train_steps': 0, 'every_n_epochs': 1, 'train_time_interval': None}.on_before_backward       \t|  0.0            \t|  400            \t|  0.0            \t|  0.0            \t|\n",
      "|  [LightningModule]CDVAE.on_before_backward                                                                                                                            \t|  0.0            \t|  400            \t|  0.0            \t|  0.0            \t|\n",
      "|  [Callback]LearningRateMonitor.on_after_backward                                                                                                                      \t|  0.0            \t|  400            \t|  0.0            \t|  0.0            \t|\n",
      "|  [Callback]EarlyStopping{'monitor': 'val_loss', 'mode': 'min'}.on_after_backward                                                                                      \t|  0.0            \t|  400            \t|  0.0            \t|  0.0            \t|\n",
      "|  [Callback]TQDMProgressBar.on_after_backward                                                                                                                          \t|  0.0            \t|  400            \t|  0.0            \t|  0.0            \t|\n",
      "|  [Callback]ModelCheckpoint{'monitor': 'val_loss', 'mode': 'min', 'every_n_train_steps': 0, 'every_n_epochs': 1, 'train_time_interval': None}.on_after_backward        \t|  0.0            \t|  400            \t|  0.0            \t|  0.0            \t|\n",
      "|  [LightningModule]CDVAE.on_after_backward                                                                                                                             \t|  0.0            \t|  400            \t|  0.0            \t|  0.0            \t|\n",
      "|  [Callback]LearningRateMonitor.on_before_optimizer_step                                                                                                               \t|  0.0            \t|  400            \t|  0.0            \t|  0.0            \t|\n",
      "|  [Callback]EarlyStopping{'monitor': 'val_loss', 'mode': 'min'}.on_before_optimizer_step                                                                               \t|  0.0            \t|  400            \t|  0.0            \t|  0.0            \t|\n",
      "|  [Callback]TQDMProgressBar.on_before_optimizer_step                                                                                                                   \t|  0.0            \t|  400            \t|  0.0            \t|  0.0            \t|\n",
      "|  [Callback]ModelSummary.on_before_optimizer_step                                                                                                                      \t|  0.0            \t|  400            \t|  0.0            \t|  0.0            \t|\n",
      "|  [Callback]ModelCheckpoint{'monitor': 'val_loss', 'mode': 'min', 'every_n_train_steps': 0, 'every_n_epochs': 1, 'train_time_interval': None}.on_before_optimizer_step \t|  0.0            \t|  400            \t|  0.0            \t|  0.0            \t|\n",
      "|  [LightningModule]CDVAE.on_before_optimizer_step                                                                                                                      \t|  0.0            \t|  400            \t|  0.0            \t|  0.0            \t|\n",
      "|  [Callback]LearningRateMonitor.on_train_batch_end                                                                                                                     \t|  0.0            \t|  400            \t|  0.0            \t|  0.0            \t|\n",
      "|  [Callback]EarlyStopping{'monitor': 'val_loss', 'mode': 'min'}.on_train_batch_end                                                                                     \t|  0.0            \t|  400            \t|  0.0            \t|  0.0            \t|\n",
      "|  [Callback]ModelSummary.on_train_batch_end                                                                                                                            \t|  0.0            \t|  400            \t|  0.0            \t|  0.0            \t|\n",
      "|  [LightningModule]CDVAE.on_train_batch_end                                                                                                                            \t|  0.0            \t|  400            \t|  0.0            \t|  0.0            \t|\n",
      "|  [Callback]LearningRateMonitor.on_train_epoch_end                                                                                                                     \t|  0.0            \t|  100            \t|  0.0            \t|  0.0            \t|\n",
      "|  [Callback]ModelSummary.on_train_epoch_end                                                                                                                            \t|  0.0            \t|  100            \t|  0.0            \t|  0.0            \t|\n",
      "|  [LightningModule]CDVAE.on_train_epoch_end                                                                                                                            \t|  0.0            \t|  100            \t|  0.0            \t|  0.0            \t|\n",
      "|  [LightningDataModule]CrystDataModule.state_dict                                                                                                                      \t|  0.0            \t|  28             \t|  0.0            \t|  0.0            \t|\n",
      "|  [Callback]LearningRateMonitor.on_save_checkpoint                                                                                                                     \t|  0.0            \t|  28             \t|  0.0            \t|  0.0            \t|\n",
      "|  [Callback]EarlyStopping{'monitor': 'val_loss', 'mode': 'min'}.on_save_checkpoint                                                                                     \t|  0.0            \t|  28             \t|  0.0            \t|  0.0            \t|\n",
      "|  [Callback]TQDMProgressBar.on_save_checkpoint                                                                                                                         \t|  0.0            \t|  28             \t|  0.0            \t|  0.0            \t|\n",
      "|  [Callback]ModelSummary.on_save_checkpoint                                                                                                                            \t|  0.0            \t|  28             \t|  0.0            \t|  0.0            \t|\n",
      "|  [Callback]ModelCheckpoint{'monitor': 'val_loss', 'mode': 'min', 'every_n_train_steps': 0, 'every_n_epochs': 1, 'train_time_interval': None}.on_save_checkpoint       \t|  0.0            \t|  28             \t|  0.0            \t|  0.0            \t|\n",
      "|  [LightningModule]CDVAE.on_save_checkpoint                                                                                                                            \t|  0.0            \t|  28             \t|  0.0            \t|  0.0            \t|\n",
      "|  [Callback]LearningRateMonitor.on_train_end                                                                                                                           \t|  0.0            \t|  1              \t|  0.0            \t|  0.0            \t|\n",
      "|  [Callback]EarlyStopping{'monitor': 'val_loss', 'mode': 'min'}.on_train_end                                                                                           \t|  0.0            \t|  1              \t|  0.0            \t|  0.0            \t|\n",
      "|  [Callback]TQDMProgressBar.on_train_end                                                                                                                               \t|  0.0            \t|  1              \t|  0.0            \t|  0.0            \t|\n",
      "|  [Callback]ModelSummary.on_train_end                                                                                                                                  \t|  0.0            \t|  1              \t|  0.0            \t|  0.0            \t|\n",
      "|  [Callback]ModelCheckpoint{'monitor': 'val_loss', 'mode': 'min', 'every_n_train_steps': 0, 'every_n_epochs': 1, 'train_time_interval': None}.on_train_end             \t|  0.0            \t|  1              \t|  0.0            \t|  0.0            \t|\n",
      "|  [LightningModule]CDVAE.on_train_end                                                                                                                                  \t|  0.0            \t|  1              \t|  0.0            \t|  0.0            \t|\n",
      "|  [Strategy]SingleDeviceStrategy.on_train_end                                                                                                                          \t|  0.0            \t|  1              \t|  0.0            \t|  0.0            \t|\n",
      "|  [Callback]LearningRateMonitor.on_fit_end                                                                                                                             \t|  0.0            \t|  1              \t|  0.0            \t|  0.0            \t|\n",
      "|  [Callback]EarlyStopping{'monitor': 'val_loss', 'mode': 'min'}.on_fit_end                                                                                             \t|  0.0            \t|  1              \t|  0.0            \t|  0.0            \t|\n",
      "|  [Callback]TQDMProgressBar.on_fit_end                                                                                                                                 \t|  0.0            \t|  1              \t|  0.0            \t|  0.0            \t|\n",
      "|  [Callback]ModelSummary.on_fit_end                                                                                                                                    \t|  0.0            \t|  1              \t|  0.0            \t|  0.0            \t|\n",
      "|  [Callback]ModelCheckpoint{'monitor': 'val_loss', 'mode': 'min', 'every_n_train_steps': 0, 'every_n_epochs': 1, 'train_time_interval': None}.on_fit_end               \t|  0.0            \t|  1              \t|  0.0            \t|  0.0            \t|\n",
      "|  [LightningModule]CDVAE.on_fit_end                                                                                                                                    \t|  0.0            \t|  1              \t|  0.0            \t|  0.0            \t|\n",
      "|  [LightningDataModule]CrystDataModule.teardown                                                                                                                        \t|  0.0            \t|  1              \t|  0.0            \t|  0.0            \t|\n",
      "|  [Callback]LearningRateMonitor.teardown                                                                                                                               \t|  0.0            \t|  1              \t|  0.0            \t|  0.0            \t|\n",
      "|  [Callback]EarlyStopping{'monitor': 'val_loss', 'mode': 'min'}.teardown                                                                                               \t|  0.0            \t|  1              \t|  0.0            \t|  0.0            \t|\n",
      "|  [Callback]TQDMProgressBar.teardown                                                                                                                                   \t|  0.0            \t|  1              \t|  0.0            \t|  0.0            \t|\n",
      "|  [Callback]ModelSummary.teardown                                                                                                                                      \t|  0.0            \t|  1              \t|  0.0            \t|  0.0            \t|\n",
      "|  [Callback]ModelCheckpoint{'monitor': 'val_loss', 'mode': 'min', 'every_n_train_steps': 0, 'every_n_epochs': 1, 'train_time_interval': None}.teardown                 \t|  0.0            \t|  1              \t|  0.0            \t|  0.0            \t|\n",
      "|  [LightningModule]CDVAE.teardown                                                                                                                                      \t|  0.0            \t|  1              \t|  0.0            \t|  0.0            \t|\n",
      "-----------------------------------------------------------------------------------------------------------------------------------------------------------------------------------------------------------------------------------------------------------------------------------\n",
      "\n"
     ]
    }
   ],
   "source": [
    "trainer.fit(model=model, datamodule=datamodule)"
   ]
  },
  {
   "cell_type": "code",
   "execution_count": 13,
   "metadata": {},
   "outputs": [
    {
     "data": {
      "text/plain": [
       "<bound method CDVAE.predict_property of CDVAE(\n",
       "  (encoder): DimeNetPlusPlusWrap(\n",
       "    (rbf): BesselBasisLayer(\n",
       "      (envelope): Envelope()\n",
       "    )\n",
       "    (sbf): SphericalBasisLayer(\n",
       "      (envelope): Envelope()\n",
       "    )\n",
       "    (emb): EmbeddingBlock(\n",
       "      (emb): Embedding(95, 128)\n",
       "      (lin_rbf): Linear(in_features=6, out_features=128, bias=True)\n",
       "      (lin): Linear(in_features=384, out_features=128, bias=True)\n",
       "    )\n",
       "    (output_blocks): ModuleList(\n",
       "      (0-4): 5 x OutputPPBlock(\n",
       "        (lin_rbf): Linear(in_features=6, out_features=128, bias=False)\n",
       "        (lin_up): Linear(in_features=128, out_features=256, bias=True)\n",
       "        (lins): ModuleList(\n",
       "          (0-2): 3 x Linear(in_features=256, out_features=256, bias=True)\n",
       "        )\n",
       "        (lin): Linear(in_features=256, out_features=256, bias=False)\n",
       "      )\n",
       "    )\n",
       "    (interaction_blocks): ModuleList(\n",
       "      (0-3): 4 x InteractionPPBlock(\n",
       "        (lin_rbf1): Linear(in_features=6, out_features=8, bias=False)\n",
       "        (lin_rbf2): Linear(in_features=8, out_features=128, bias=False)\n",
       "        (lin_sbf1): Linear(in_features=42, out_features=8, bias=False)\n",
       "        (lin_sbf2): Linear(in_features=8, out_features=64, bias=False)\n",
       "        (lin_kj): Linear(in_features=128, out_features=128, bias=True)\n",
       "        (lin_ji): Linear(in_features=128, out_features=128, bias=True)\n",
       "        (lin_down): Linear(in_features=128, out_features=64, bias=False)\n",
       "        (lin_up): Linear(in_features=64, out_features=128, bias=False)\n",
       "        (layers_before_skip): ModuleList(\n",
       "          (0): ResidualLayer(\n",
       "            (lin1): Linear(in_features=128, out_features=128, bias=True)\n",
       "            (lin2): Linear(in_features=128, out_features=128, bias=True)\n",
       "          )\n",
       "        )\n",
       "        (lin): Linear(in_features=128, out_features=128, bias=True)\n",
       "        (layers_after_skip): ModuleList(\n",
       "          (0-1): 2 x ResidualLayer(\n",
       "            (lin1): Linear(in_features=128, out_features=128, bias=True)\n",
       "            (lin2): Linear(in_features=128, out_features=128, bias=True)\n",
       "          )\n",
       "        )\n",
       "      )\n",
       "    )\n",
       "  )\n",
       "  (decoder): GemNetTDecoder(\n",
       "    (gemnet): GemNetT(\n",
       "      (radial_basis): RadialBasis(\n",
       "        (envelope): PolynomialEnvelope()\n",
       "        (rbf): GaussianSmearing()\n",
       "      )\n",
       "      (cbf_basis3): CircularBasisLayer(\n",
       "        (radial_basis): RadialBasis(\n",
       "          (envelope): PolynomialEnvelope()\n",
       "          (rbf): GaussianSmearing()\n",
       "        )\n",
       "      )\n",
       "      (mlp_rbf3): Dense(\n",
       "        (linear): Linear(in_features=128, out_features=16, bias=False)\n",
       "        (_activation): Identity()\n",
       "      )\n",
       "      (mlp_cbf3): EfficientInteractionDownProjection()\n",
       "      (mlp_rbf_h): Dense(\n",
       "        (linear): Linear(in_features=128, out_features=16, bias=False)\n",
       "        (_activation): Identity()\n",
       "      )\n",
       "      (mlp_rbf_out): Dense(\n",
       "        (linear): Linear(in_features=128, out_features=16, bias=False)\n",
       "        (_activation): Identity()\n",
       "      )\n",
       "      (atom_emb): AtomEmbedding(\n",
       "        (embeddings): Embedding(100, 128)\n",
       "      )\n",
       "      (atom_latent_emb): Linear(in_features=384, out_features=128, bias=True)\n",
       "      (edge_emb): EdgeEmbedding(\n",
       "        (dense): Dense(\n",
       "          (linear): Linear(in_features=384, out_features=128, bias=False)\n",
       "          (_activation): ScaledSiLU(\n",
       "            (_activation): SiLU()\n",
       "          )\n",
       "        )\n",
       "      )\n",
       "      (out_blocks): ModuleList(\n",
       "        (0-3): 4 x OutputBlock(\n",
       "          (dense_rbf): Dense(\n",
       "            (linear): Linear(in_features=16, out_features=128, bias=False)\n",
       "            (_activation): Identity()\n",
       "          )\n",
       "          (scale_sum): ScalingFactor()\n",
       "          (layers): ModuleList(\n",
       "            (0): Dense(\n",
       "              (linear): Linear(in_features=128, out_features=128, bias=False)\n",
       "              (_activation): ScaledSiLU(\n",
       "                (_activation): SiLU()\n",
       "              )\n",
       "            )\n",
       "            (1-3): 3 x ResidualLayer(\n",
       "              (dense_mlp): Sequential(\n",
       "                (0): Dense(\n",
       "                  (linear): Linear(in_features=128, out_features=128, bias=False)\n",
       "                  (_activation): ScaledSiLU(\n",
       "                    (_activation): SiLU()\n",
       "                  )\n",
       "                )\n",
       "                (1): Dense(\n",
       "                  (linear): Linear(in_features=128, out_features=128, bias=False)\n",
       "                  (_activation): ScaledSiLU(\n",
       "                    (_activation): SiLU()\n",
       "                  )\n",
       "                )\n",
       "              )\n",
       "            )\n",
       "          )\n",
       "          (seq_energy): ModuleList(\n",
       "            (0): Dense(\n",
       "              (linear): Linear(in_features=128, out_features=128, bias=False)\n",
       "              (_activation): ScaledSiLU(\n",
       "                (_activation): SiLU()\n",
       "              )\n",
       "            )\n",
       "            (1-3): 3 x ResidualLayer(\n",
       "              (dense_mlp): Sequential(\n",
       "                (0): Dense(\n",
       "                  (linear): Linear(in_features=128, out_features=128, bias=False)\n",
       "                  (_activation): ScaledSiLU(\n",
       "                    (_activation): SiLU()\n",
       "                  )\n",
       "                )\n",
       "                (1): Dense(\n",
       "                  (linear): Linear(in_features=128, out_features=128, bias=False)\n",
       "                  (_activation): ScaledSiLU(\n",
       "                    (_activation): SiLU()\n",
       "                  )\n",
       "                )\n",
       "              )\n",
       "            )\n",
       "          )\n",
       "          (out_energy): Dense(\n",
       "            (linear): Linear(in_features=128, out_features=1, bias=False)\n",
       "            (_activation): Identity()\n",
       "          )\n",
       "          (scale_rbf_F): ScalingFactor()\n",
       "          (seq_forces): ModuleList(\n",
       "            (0): Dense(\n",
       "              (linear): Linear(in_features=128, out_features=128, bias=False)\n",
       "              (_activation): ScaledSiLU(\n",
       "                (_activation): SiLU()\n",
       "              )\n",
       "            )\n",
       "            (1-3): 3 x ResidualLayer(\n",
       "              (dense_mlp): Sequential(\n",
       "                (0): Dense(\n",
       "                  (linear): Linear(in_features=128, out_features=128, bias=False)\n",
       "                  (_activation): ScaledSiLU(\n",
       "                    (_activation): SiLU()\n",
       "                  )\n",
       "                )\n",
       "                (1): Dense(\n",
       "                  (linear): Linear(in_features=128, out_features=128, bias=False)\n",
       "                  (_activation): ScaledSiLU(\n",
       "                    (_activation): SiLU()\n",
       "                  )\n",
       "                )\n",
       "              )\n",
       "            )\n",
       "          )\n",
       "          (out_forces): Dense(\n",
       "            (linear): Linear(in_features=128, out_features=1, bias=False)\n",
       "            (_activation): Identity()\n",
       "          )\n",
       "          (dense_rbf_F): Dense(\n",
       "            (linear): Linear(in_features=16, out_features=128, bias=False)\n",
       "            (_activation): Identity()\n",
       "          )\n",
       "        )\n",
       "      )\n",
       "      (int_blocks): ModuleList(\n",
       "        (0-2): 3 x InteractionBlockTripletsOnly(\n",
       "          (dense_ca): Dense(\n",
       "            (linear): Linear(in_features=128, out_features=128, bias=False)\n",
       "            (_activation): ScaledSiLU(\n",
       "              (_activation): SiLU()\n",
       "            )\n",
       "          )\n",
       "          (trip_interaction): TripletInteraction(\n",
       "            (dense_ba): Dense(\n",
       "              (linear): Linear(in_features=128, out_features=128, bias=False)\n",
       "              (_activation): ScaledSiLU(\n",
       "                (_activation): SiLU()\n",
       "              )\n",
       "            )\n",
       "            (mlp_rbf): Dense(\n",
       "              (linear): Linear(in_features=16, out_features=128, bias=False)\n",
       "              (_activation): Identity()\n",
       "            )\n",
       "            (scale_rbf): ScalingFactor()\n",
       "            (mlp_cbf): EfficientInteractionBilinear()\n",
       "            (scale_cbf_sum): ScalingFactor()\n",
       "            (down_projection): Dense(\n",
       "              (linear): Linear(in_features=128, out_features=64, bias=False)\n",
       "              (_activation): ScaledSiLU(\n",
       "                (_activation): SiLU()\n",
       "              )\n",
       "            )\n",
       "            (up_projection_ca): Dense(\n",
       "              (linear): Linear(in_features=64, out_features=128, bias=False)\n",
       "              (_activation): ScaledSiLU(\n",
       "                (_activation): SiLU()\n",
       "              )\n",
       "            )\n",
       "            (up_projection_ac): Dense(\n",
       "              (linear): Linear(in_features=64, out_features=128, bias=False)\n",
       "              (_activation): ScaledSiLU(\n",
       "                (_activation): SiLU()\n",
       "              )\n",
       "            )\n",
       "          )\n",
       "          (layers_before_skip): ModuleList(\n",
       "            (0): ResidualLayer(\n",
       "              (dense_mlp): Sequential(\n",
       "                (0): Dense(\n",
       "                  (linear): Linear(in_features=128, out_features=128, bias=False)\n",
       "                  (_activation): ScaledSiLU(\n",
       "                    (_activation): SiLU()\n",
       "                  )\n",
       "                )\n",
       "                (1): Dense(\n",
       "                  (linear): Linear(in_features=128, out_features=128, bias=False)\n",
       "                  (_activation): ScaledSiLU(\n",
       "                    (_activation): SiLU()\n",
       "                  )\n",
       "                )\n",
       "              )\n",
       "            )\n",
       "          )\n",
       "          (layers_after_skip): ModuleList(\n",
       "            (0-1): 2 x ResidualLayer(\n",
       "              (dense_mlp): Sequential(\n",
       "                (0): Dense(\n",
       "                  (linear): Linear(in_features=128, out_features=128, bias=False)\n",
       "                  (_activation): ScaledSiLU(\n",
       "                    (_activation): SiLU()\n",
       "                  )\n",
       "                )\n",
       "                (1): Dense(\n",
       "                  (linear): Linear(in_features=128, out_features=128, bias=False)\n",
       "                  (_activation): ScaledSiLU(\n",
       "                    (_activation): SiLU()\n",
       "                  )\n",
       "                )\n",
       "              )\n",
       "            )\n",
       "          )\n",
       "          (atom_update): AtomUpdateBlock(\n",
       "            (dense_rbf): Dense(\n",
       "              (linear): Linear(in_features=16, out_features=128, bias=False)\n",
       "              (_activation): Identity()\n",
       "            )\n",
       "            (scale_sum): ScalingFactor()\n",
       "            (layers): ModuleList(\n",
       "              (0): Dense(\n",
       "                (linear): Linear(in_features=128, out_features=128, bias=False)\n",
       "                (_activation): ScaledSiLU(\n",
       "                  (_activation): SiLU()\n",
       "                )\n",
       "              )\n",
       "              (1-3): 3 x ResidualLayer(\n",
       "                (dense_mlp): Sequential(\n",
       "                  (0): Dense(\n",
       "                    (linear): Linear(in_features=128, out_features=128, bias=False)\n",
       "                    (_activation): ScaledSiLU(\n",
       "                      (_activation): SiLU()\n",
       "                    )\n",
       "                  )\n",
       "                  (1): Dense(\n",
       "                    (linear): Linear(in_features=128, out_features=128, bias=False)\n",
       "                    (_activation): ScaledSiLU(\n",
       "                      (_activation): SiLU()\n",
       "                    )\n",
       "                  )\n",
       "                )\n",
       "              )\n",
       "            )\n",
       "          )\n",
       "          (concat_layer): EdgeEmbedding(\n",
       "            (dense): Dense(\n",
       "              (linear): Linear(in_features=384, out_features=128, bias=False)\n",
       "              (_activation): ScaledSiLU(\n",
       "                (_activation): SiLU()\n",
       "              )\n",
       "            )\n",
       "          )\n",
       "          (residual_m): ModuleList(\n",
       "            (0): ResidualLayer(\n",
       "              (dense_mlp): Sequential(\n",
       "                (0): Dense(\n",
       "                  (linear): Linear(in_features=128, out_features=128, bias=False)\n",
       "                  (_activation): ScaledSiLU(\n",
       "                    (_activation): SiLU()\n",
       "                  )\n",
       "                )\n",
       "                (1): Dense(\n",
       "                  (linear): Linear(in_features=128, out_features=128, bias=False)\n",
       "                  (_activation): ScaledSiLU(\n",
       "                    (_activation): SiLU()\n",
       "                  )\n",
       "                )\n",
       "              )\n",
       "            )\n",
       "          )\n",
       "        )\n",
       "      )\n",
       "    )\n",
       "    (fc_atom): Linear(in_features=128, out_features=100, bias=True)\n",
       "  )\n",
       "  (fc_mu): Linear(in_features=256, out_features=256, bias=True)\n",
       "  (fc_var): Linear(in_features=256, out_features=256, bias=True)\n",
       "  (fc_num_atoms): Sequential(\n",
       "    (0): Linear(in_features=256, out_features=256, bias=True)\n",
       "    (1): ReLU()\n",
       "    (2): Linear(in_features=256, out_features=21, bias=True)\n",
       "  )\n",
       "  (fc_lattice): Sequential(\n",
       "    (0): Linear(in_features=256, out_features=256, bias=True)\n",
       "    (1): ReLU()\n",
       "    (2): Linear(in_features=256, out_features=6, bias=True)\n",
       "  )\n",
       "  (fc_composition): Sequential(\n",
       "    (0): Linear(in_features=256, out_features=256, bias=True)\n",
       "    (1): ReLU()\n",
       "    (2): Linear(in_features=256, out_features=100, bias=True)\n",
       "  )\n",
       "  (fc_property): Sequential(\n",
       "    (0): Linear(in_features=256, out_features=256, bias=True)\n",
       "    (1): ReLU()\n",
       "    (2): Linear(in_features=256, out_features=1, bias=True)\n",
       "  )\n",
       ")>"
      ]
     },
     "execution_count": 13,
     "metadata": {},
     "output_type": "execute_result"
    }
   ],
   "source": [
    "model.predict_property"
   ]
  },
  {
   "cell_type": "code",
   "execution_count": 26,
   "metadata": {},
   "outputs": [],
   "source": [
    "import itertools\n",
    "import numpy as np\n",
    "import torch\n",
    "import hydra\n",
    "\n",
    "from scipy.spatial.distance import pdist\n",
    "from scipy.spatial.distance import cdist\n",
    "from hydra.experimental import compose\n",
    "from hydra import initialize_config_dir\n",
    "from pathlib import Path\n",
    "\n",
    "import smact\n",
    "from smact.screening import pauling_test\n",
    "\n",
    "from cdvae.common.constants import CompScalerMeans, CompScalerStds\n",
    "from cdvae.common.data_utils import StandardScaler, chemical_symbols\n",
    "from cdvae.pl_data.dataset import TensorCrystDataset\n",
    "from cdvae.pl_data.datamodule import worker_init_fn\n",
    "\n",
    "from torch_geometric.data import DataLoader\n",
    "\n",
    "CompScaler = StandardScaler(\n",
    "    means=np.array(CompScalerMeans),\n",
    "    stds=np.array(CompScalerStds),\n",
    "    replace_nan_token=0.)\n",
    "\n",
    "\n",
    "def load_data(file_path):\n",
    "    if file_path[-3:] == 'npy':\n",
    "        data = np.load(file_path, allow_pickle=True).item()\n",
    "        for k, v in data.items():\n",
    "            if k == 'input_data_batch':\n",
    "                for k1, v1 in data[k].items():\n",
    "                    data[k][k1] = torch.from_numpy(v1)\n",
    "            else:\n",
    "                data[k] = torch.from_numpy(v).unsqueeze(0)\n",
    "    else:\n",
    "        data = torch.load(file_path)\n",
    "    return data\n",
    "\n",
    "\n",
    "def get_model_path(eval_model_name):\n",
    "    import cdvae\n",
    "    model_path = (\n",
    "        Path(cdvae.__file__).parent / 'prop_models' / eval_model_name)\n",
    "    return model_path\n",
    "\n",
    "\n",
    "def load_config(model_path):\n",
    "    with initialize_config_dir(str(model_path)):\n",
    "        cfg = compose(config_name='hparams')\n",
    "    return cfg\n",
    "\n",
    "\n",
    "def load_model(model_path, load_data=False, testing=True):\n",
    "    with initialize_config_dir(str(model_path)):\n",
    "        cfg = compose(config_name='hparams')\n",
    "        model_cls = hydra.utils.get_class(cfg.model._target_)\n",
    "        \n",
    "        ckpts = list(model_path.glob('*.ckpt'))\n",
    "        if len(ckpts) > 0:\n",
    "            ckpt_epochs = np.array(\n",
    "                [int(ckpt.parts[-1].split('-')[0].split('=')[1]) for ckpt in ckpts])\n",
    "            ckpt = str(ckpts[ckpt_epochs.argsort()[-1]])\n",
    "        model = model_cls.load_from_checkpoint(ckpt)\n",
    "        model.lattice_scaler = torch.load(model_path / 'lattice_scaler.pt')\n",
    "        model.scaler = torch.load(model_path / 'prop_scaler.pt')\n",
    "\n",
    "        if load_data:\n",
    "            datamodule = hydra.utils.instantiate(\n",
    "                cfg.data.datamodule, _recursive_=False, scaler_path=model_path\n",
    "            )\n",
    "            if testing:\n",
    "                datamodule.setup('test')\n",
    "                test_loader = datamodule.test_dataloader()[0]\n",
    "            else:\n",
    "                datamodule.setup()\n",
    "                test_loader = datamodule.val_dataloader()[0]\n",
    "        else:\n",
    "            test_loader = None\n",
    "\n",
    "    return model, test_loader, cfg\n",
    "\n",
    "\n",
    "def get_crystals_list(\n",
    "        frac_coords, atom_types, lengths, angles, num_atoms):\n",
    "    \"\"\"\n",
    "    args:\n",
    "        frac_coords: (num_atoms, 3)\n",
    "        atom_types: (num_atoms)\n",
    "        lengths: (num_crystals)\n",
    "        angles: (num_crystals)\n",
    "        num_atoms: (num_crystals)\n",
    "    \"\"\"\n",
    "    assert frac_coords.size(0) == atom_types.size(0) == num_atoms.sum()\n",
    "    assert lengths.size(0) == angles.size(0) == num_atoms.size(0)\n",
    "\n",
    "    start_idx = 0\n",
    "    crystal_array_list = []\n",
    "    for batch_idx, num_atom in enumerate(num_atoms.tolist()):\n",
    "        cur_frac_coords = frac_coords.narrow(0, start_idx, num_atom)\n",
    "        cur_atom_types = atom_types.narrow(0, start_idx, num_atom)\n",
    "        cur_lengths = lengths[batch_idx]\n",
    "        cur_angles = angles[batch_idx]\n",
    "\n",
    "        crystal_array_list.append({\n",
    "            'frac_coords': cur_frac_coords.detach().cpu().numpy(),\n",
    "            'atom_types': cur_atom_types.detach().cpu().numpy(),\n",
    "            'lengths': cur_lengths.detach().cpu().numpy(),\n",
    "            'angles': cur_angles.detach().cpu().numpy(),\n",
    "        })\n",
    "        start_idx = start_idx + num_atom\n",
    "    return crystal_array_list\n",
    "\n",
    "\n",
    "def smact_validity(comp, count,\n",
    "                   use_pauling_test=True,\n",
    "                   include_alloys=True):\n",
    "    elem_symbols = tuple([chemical_symbols[elem] for elem in comp])\n",
    "    space = smact.element_dictionary(elem_symbols)\n",
    "    smact_elems = [e[1] for e in space.items()]\n",
    "    electronegs = [e.pauling_eneg for e in smact_elems]\n",
    "    ox_combos = [e.oxidation_states for e in smact_elems]\n",
    "    if len(set(elem_symbols)) == 1:\n",
    "        return True\n",
    "    if include_alloys:\n",
    "        is_metal_list = [elem_s in smact.metals for elem_s in elem_symbols]\n",
    "        if all(is_metal_list):\n",
    "            return True\n",
    "\n",
    "    threshold = np.max(count)\n",
    "    compositions = []\n",
    "    for ox_states in itertools.product(*ox_combos):\n",
    "        stoichs = [(c,) for c in count]\n",
    "        # Test for charge balance\n",
    "        cn_e, cn_r = smact.neutral_ratios(\n",
    "            ox_states, stoichs=stoichs, threshold=threshold)\n",
    "        # Electronegativity test\n",
    "        if cn_e:\n",
    "            if use_pauling_test:\n",
    "                try:\n",
    "                    electroneg_OK = pauling_test(ox_states, electronegs)\n",
    "                except TypeError:\n",
    "                    # if no electronegativity data, assume it is okay\n",
    "                    electroneg_OK = True\n",
    "            else:\n",
    "                electroneg_OK = True\n",
    "            if electroneg_OK:\n",
    "                for ratio in cn_r:\n",
    "                    compositions.append(\n",
    "                        tuple([elem_symbols, ox_states, ratio]))\n",
    "    compositions = [(i[0], i[2]) for i in compositions]\n",
    "    compositions = list(set(compositions))\n",
    "    if len(compositions) > 0:\n",
    "        return True\n",
    "    else:\n",
    "        return False\n",
    "\n",
    "\n",
    "def structure_validity(crystal, cutoff=0.5):\n",
    "    dist_mat = crystal.distance_matrix\n",
    "    # Pad diagonal with a large number\n",
    "    dist_mat = dist_mat + np.diag(\n",
    "        np.ones(dist_mat.shape[0]) * (cutoff + 10.))\n",
    "    if dist_mat.min() < cutoff or crystal.volume < 0.1:\n",
    "        return False\n",
    "    else:\n",
    "        return True\n",
    "\n",
    "\n",
    "def get_fp_pdist(fp_array):\n",
    "    if isinstance(fp_array, list):\n",
    "        fp_array = np.array(fp_array)\n",
    "    fp_pdists = pdist(fp_array)\n",
    "    return fp_pdists.mean()\n",
    "\n",
    "\n",
    "def prop_model_eval(eval_model_name, crystal_array_list):\n",
    "\n",
    "    model_path = get_model_path(eval_model_name)\n",
    "\n",
    "    model, _, _ = load_model(model_path)\n",
    "    cfg = load_config(model_path)\n",
    "\n",
    "    dataset = TensorCrystDataset(\n",
    "        crystal_array_list, cfg.data.niggli, cfg.data.primitive,\n",
    "        cfg.data.graph_method, cfg.data.preprocess_workers,\n",
    "        cfg.data.lattice_scale_method)\n",
    "\n",
    "    dataset.scaler = model.scaler.copy()\n",
    "\n",
    "    loader = DataLoader(\n",
    "        dataset,\n",
    "        shuffle=False,\n",
    "        batch_size=256,\n",
    "        num_workers=0,\n",
    "        worker_init_fn=worker_init_fn)\n",
    "\n",
    "    model.eval()\n",
    "\n",
    "    all_preds = []\n",
    "\n",
    "    for batch in loader:\n",
    "        preds = model(batch)\n",
    "        model.scaler.match_device(preds)\n",
    "        scaled_preds = model.scaler.inverse_transform(preds)\n",
    "        all_preds.append(scaled_preds.detach().cpu().numpy())\n",
    "\n",
    "    all_preds = np.concatenate(all_preds, axis=0).squeeze(1)\n",
    "    return all_preds.tolist()\n",
    "\n",
    "\n",
    "def filter_fps(struc_fps, comp_fps):\n",
    "    assert len(struc_fps) == len(comp_fps)\n",
    "\n",
    "    filtered_struc_fps, filtered_comp_fps = [], []\n",
    "\n",
    "    for struc_fp, comp_fp in zip(struc_fps, comp_fps):\n",
    "        if struc_fp is not None and comp_fp is not None:\n",
    "            filtered_struc_fps.append(struc_fp)\n",
    "            filtered_comp_fps.append(comp_fp)\n",
    "    return filtered_struc_fps, filtered_comp_fps\n",
    "\n",
    "\n",
    "def compute_cov(crys, gt_crys,\n",
    "                struc_cutoff, comp_cutoff, num_gen_crystals=None):\n",
    "    struc_fps = [c.struct_fp for c in crys]\n",
    "    comp_fps = [c.comp_fp for c in crys]\n",
    "    gt_struc_fps = [c.struct_fp for c in gt_crys]\n",
    "    gt_comp_fps = [c.comp_fp for c in gt_crys]\n",
    "\n",
    "    assert len(struc_fps) == len(comp_fps)\n",
    "    assert len(gt_struc_fps) == len(gt_comp_fps)\n",
    "\n",
    "    # Use number of crystal before filtering to compute COV\n",
    "    if num_gen_crystals is None:\n",
    "        num_gen_crystals = len(struc_fps)\n",
    "\n",
    "    struc_fps, comp_fps = filter_fps(struc_fps, comp_fps)\n",
    "\n",
    "    comp_fps = CompScaler.transform(comp_fps)\n",
    "    gt_comp_fps = CompScaler.transform(gt_comp_fps)\n",
    "\n",
    "    struc_fps = np.array(struc_fps)\n",
    "    gt_struc_fps = np.array(gt_struc_fps)\n",
    "    comp_fps = np.array(comp_fps)\n",
    "    gt_comp_fps = np.array(gt_comp_fps)\n",
    "\n",
    "    struc_pdist = cdist(struc_fps, gt_struc_fps)\n",
    "    comp_pdist = cdist(comp_fps, gt_comp_fps)\n",
    "\n",
    "    struc_recall_dist = struc_pdist.min(axis=0)\n",
    "    struc_precision_dist = struc_pdist.min(axis=1)\n",
    "    comp_recall_dist = comp_pdist.min(axis=0)\n",
    "    comp_precision_dist = comp_pdist.min(axis=1)\n",
    "\n",
    "    cov_recall = np.mean(np.logical_and(\n",
    "        struc_recall_dist <= struc_cutoff,\n",
    "        comp_recall_dist <= comp_cutoff))\n",
    "    cov_precision = np.sum(np.logical_and(\n",
    "        struc_precision_dist <= struc_cutoff,\n",
    "        comp_precision_dist <= comp_cutoff)) / num_gen_crystals\n",
    "\n",
    "    metrics_dict = {\n",
    "        'cov_recall': cov_recall,\n",
    "        'cov_precision': cov_precision,\n",
    "        'amsd_recall': np.mean(struc_recall_dist),\n",
    "        'amsd_precision': np.mean(struc_precision_dist),\n",
    "        'amcd_recall': np.mean(comp_recall_dist),\n",
    "        'amcd_precision': np.mean(comp_precision_dist),\n",
    "    }\n",
    "\n",
    "    combined_dist_dict = {\n",
    "        'struc_recall_dist': struc_recall_dist.tolist(),\n",
    "        'struc_precision_dist': struc_precision_dist.tolist(),\n",
    "        'comp_recall_dist': comp_recall_dist.tolist(),\n",
    "        'comp_precision_dist': comp_precision_dist.tolist(),\n",
    "    }\n",
    "\n",
    "    return metrics_dict, combined_dist_dict\n"
   ]
  },
  {
   "cell_type": "code",
   "execution_count": 2,
   "metadata": {},
   "outputs": [],
   "source": [
    "import torch\n",
    "import pandas as pd\n",
    "import numpy as np\n",
    "data_opt = torch.load(r'D:\\workspace\\Code\\cdvae\\hydra\\singlerun\\2024-04-09\\test\\eval_opt.pt')"
   ]
  },
  {
   "cell_type": "code",
   "execution_count": 13,
   "metadata": {},
   "outputs": [],
   "source": [
    "data_opt.keys()\n",
    "frac_coods = np.array(data_opt['frac_coords'][0].to('cpu'))\n",
    "frac_coods = np.split(frac_coods,np.cumsum(data_opt['num_atoms'][0].to('cpu')))\n",
    "atom_types = np.split(np.array(data_opt['atom_types'][0].to('cpu')),np.cumsum(data_opt['num_atoms'][0].to('cpu')))\n",
    "length = np.array(data_opt['lengths'][0].to('cpu'))\n",
    "angles = np.array(data_opt['angles'][0].to('cpu'))"
   ]
  },
  {
   "cell_type": "code",
   "execution_count": 14,
   "metadata": {},
   "outputs": [
    {
     "name": "stdout",
     "output_type": "stream",
     "text": [
      "[[0.03925183 0.02223347 0.7035007 ]\n",
      " [0.5297483  0.52336556 0.20139557]\n",
      " [0.5227035  0.01934117 0.7082438 ]\n",
      " [0.02788405 0.01535716 0.20439924]\n",
      " [0.02507971 0.52006435 0.69656855]] [ 8  7  7 40  8] [3.9745882 4.0116253 3.9719865] [90. 90. 90.]\n"
     ]
    }
   ],
   "source": [
    "i = 0\n",
    "print(frac_coods[0],atom_types[0],length[0],angles[0])"
   ]
  },
  {
   "cell_type": "code",
   "execution_count": 17,
   "metadata": {},
   "outputs": [
    {
     "ename": "ModuleNotFoundError",
     "evalue": "No module named 'pymatgen.analysis.structure_plotter'",
     "output_type": "error",
     "traceback": [
      "\u001b[1;31m---------------------------------------------------------------------------\u001b[0m",
      "\u001b[1;31mModuleNotFoundError\u001b[0m                       Traceback (most recent call last)",
      "Cell \u001b[1;32mIn[17], line 2\u001b[0m\n\u001b[0;32m      1\u001b[0m \u001b[38;5;28;01mfrom\u001b[39;00m \u001b[38;5;21;01mpymatgen\u001b[39;00m\u001b[38;5;21;01m.\u001b[39;00m\u001b[38;5;21;01mcore\u001b[39;00m \u001b[38;5;28;01mimport\u001b[39;00m Structure\n\u001b[1;32m----> 2\u001b[0m \u001b[38;5;28;01mfrom\u001b[39;00m \u001b[38;5;21;01mpymatgen\u001b[39;00m\u001b[38;5;21;01m.\u001b[39;00m\u001b[38;5;21;01manalysis\u001b[39;00m\u001b[38;5;21;01m.\u001b[39;00m\u001b[38;5;21;01mstructure_plotter\u001b[39;00m \u001b[38;5;28;01mimport\u001b[39;00m StructurePlotter\n\u001b[0;32m      4\u001b[0m \u001b[38;5;66;03m# 定义晶格长度和角度\u001b[39;00m\n\u001b[0;32m      5\u001b[0m lengths \u001b[38;5;241m=\u001b[39m [\u001b[38;5;241m3.9745882\u001b[39m, \u001b[38;5;241m4.0116253\u001b[39m, \u001b[38;5;241m3.9719865\u001b[39m]\n",
      "\u001b[1;31mModuleNotFoundError\u001b[0m: No module named 'pymatgen.analysis.structure_plotter'"
     ]
    }
   ],
   "source": []
  },
  {
   "cell_type": "code",
   "execution_count": 4,
   "metadata": {},
   "outputs": [
    {
     "data": {
      "application/vnd.jupyter.widget-view+json": {
       "model_id": "ec62f12c575b4203816e36c955d18fe5",
       "version_major": 2,
       "version_minor": 0
      },
      "text/plain": [
       "NGLWidget()"
      ]
     },
     "metadata": {},
     "output_type": "display_data"
    }
   ],
   "source": [
    "from pymatgen.core.structure import Structure\n",
    "\n",
    "import nglview as nv\n",
    "\n",
    "# 创建一个晶体结构对象\n",
    "structure = Structure(\n",
    "    lattice=[ in range(3)],\n",
    "    species=[\"Co\", \"Tl\", \"N\", \"N\", \"O\"],\n",
    "    coords=[\n",
    "        [0.00265771, 0.00000000, 0.00000000],\n",
    "        [0.50015703, 0.50000000, 0.50000000],\n",
    "        [0.50108143, 0.00000000, 0.50000000],\n",
    "        [0.50108143, 0.50000000, 0.00000000],\n",
    "        [0.00050506, 0.50000000, 0.50000000]\n",
    "    ]\n",
    ")\n",
    "\n",
    "\n",
    "# 创建一个 StructureVis 对象\n",
    "view = nv.show_pymatgen(structure)\n",
    "view.add_unitcell()\n",
    "view"
   ]
  }
 ],
 "metadata": {
  "kernelspec": {
   "display_name": "Python 3 (ipykernel)",
   "language": "python",
   "name": "python3"
  },
  "language_info": {
   "codemirror_mode": {
    "name": "ipython",
    "version": 3
   },
   "file_extension": ".py",
   "mimetype": "text/x-python",
   "name": "python",
   "nbconvert_exporter": "python",
   "pygments_lexer": "ipython3",
   "version": "3.8.19"
  }
 },
 "nbformat": 4,
 "nbformat_minor": 4
}
